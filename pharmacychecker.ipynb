{
 "cells": [
  {
   "cell_type": "code",
   "execution_count": 49,
   "metadata": {},
   "outputs": [],
   "source": [
    "import pandas as pd\n",
    "import requests\n",
    "from bs4 import BeautifulSoup\n",
    "from selenium import webdriver\n",
    "from selenium.webdriver.chrome.service import Service\n",
    "import time\n",
    "import random\n",
    "from googletrans import Translator"
   ]
  },
  {
   "cell_type": "code",
   "execution_count": 59,
   "metadata": {},
   "outputs": [
    {
     "data": {
      "text/plain": [
       "'pembrolizumab'"
      ]
     },
     "execution_count": 59,
     "metadata": {},
     "output_type": "execute_result"
    }
   ],
   "source": [
    "med = Translator().translate('Pembrolizumab', src='es', dest='en').text.replace(' ', '+')\n",
    "med"
   ]
  },
  {
   "cell_type": "code",
   "execution_count": 60,
   "metadata": {},
   "outputs": [
    {
     "data": {
      "text/plain": [
       "'https://www.pharmacychecker.com/pembrolizumab/?src=drug-suggest#prices'"
      ]
     },
     "execution_count": 60,
     "metadata": {},
     "output_type": "execute_result"
    }
   ],
   "source": [
    "url='https://www.pharmacychecker.com/'+med+'/?src=drug-suggest#prices'\n",
    "url"
   ]
  },
  {
   "cell_type": "code",
   "execution_count": 61,
   "metadata": {},
   "outputs": [],
   "source": [
    "options = webdriver.ChromeOptions()\n",
    "options.add_argument('--incognito')\n",
    "options.add_argument('--disable-blink-features=AutomationControlled')\n",
    "options.add_argument('--disable-cache')\n",
    "options.add_argument('--disable-cookies')"
   ]
  },
  {
   "cell_type": "code",
   "execution_count": 62,
   "metadata": {},
   "outputs": [],
   "source": [
    "driver = webdriver.Chrome(service=Service(\"C:/chromedriver.exe\"),options=options)\n",
    "driver.get(url)\n",
    "#time.sleep(random.randint(5,10))\n",
    "html=driver.page_source\n",
    "soup=BeautifulSoup(html,'html.parser')\n",
    "driver.quit()"
   ]
  },
  {
   "cell_type": "code",
   "execution_count": 63,
   "metadata": {},
   "outputs": [],
   "source": [
    "results=soup.find_all(\"li\",{\"class\":\"drug-pricing-item mt-2\"})"
   ]
  },
  {
   "cell_type": "code",
   "execution_count": 64,
   "metadata": {},
   "outputs": [],
   "source": [
    "if not results:\n",
    "    df=pd.DataFrame()  \n",
    "else:\n",
    "    data=[]\n",
    "    for result in results:\n",
    "        info={}\n",
    "        info[\"precio\"]=result.find(\"p\",{\"class\":\"desktop-price\"}).text\n",
    "        info[\"farmacia\"] = result.find(\"a\", {\"class\": \"cpc-drug-listings-link-image\"}).get(\"data-pharm\")\n",
    "        info[\"producto\"] = result.find(\"a\", {\"class\": \"cpc-drug-listings-link-image\"}).get(\"data-drug\")\n",
    "        info[\"cantidad\"] = result.find(\"div\", {\"class\": \"col-3 col-lg-3 drug-pricing-details hide-on-mobile\"}).text\n",
    "        #Añadir país\n",
    "        data.append(info)\n",
    "    df=pd.DataFrame(data)\n",
    "    #Añadir pais\n",
    "    canada_pharmacies = ['liferxpharmacy', 'canadianprescriptiondrugstore', 'medsengage', 'offshorecheapmeds', 'pricepropharmacy']\n",
    "    df[\"pais\"] = df[\"farmacia\"].apply(lambda x: \"Canada\" if any([pharmacy in x for pharmacy in canada_pharmacies]) else \"Estados Unidos\")"
   ]
  },
  {
   "cell_type": "code",
   "execution_count": 65,
   "metadata": {},
   "outputs": [
    {
     "data": {
      "text/html": [
       "<div>\n",
       "<style scoped>\n",
       "    .dataframe tbody tr th:only-of-type {\n",
       "        vertical-align: middle;\n",
       "    }\n",
       "\n",
       "    .dataframe tbody tr th {\n",
       "        vertical-align: top;\n",
       "    }\n",
       "\n",
       "    .dataframe thead th {\n",
       "        text-align: right;\n",
       "    }\n",
       "</style>\n",
       "<table border=\"1\" class=\"dataframe\">\n",
       "  <thead>\n",
       "    <tr style=\"text-align: right;\">\n",
       "      <th></th>\n",
       "    </tr>\n",
       "  </thead>\n",
       "  <tbody>\n",
       "  </tbody>\n",
       "</table>\n",
       "</div>"
      ],
      "text/plain": [
       "Empty DataFrame\n",
       "Columns: []\n",
       "Index: []"
      ]
     },
     "execution_count": 65,
     "metadata": {},
     "output_type": "execute_result"
    }
   ],
   "source": [
    "df"
   ]
  }
 ],
 "metadata": {
  "kernelspec": {
   "display_name": "base",
   "language": "python",
   "name": "python3"
  },
  "language_info": {
   "codemirror_mode": {
    "name": "ipython",
    "version": 3
   },
   "file_extension": ".py",
   "mimetype": "text/x-python",
   "name": "python",
   "nbconvert_exporter": "python",
   "pygments_lexer": "ipython3",
   "version": "3.10.10"
  },
  "orig_nbformat": 4
 },
 "nbformat": 4,
 "nbformat_minor": 2
}
