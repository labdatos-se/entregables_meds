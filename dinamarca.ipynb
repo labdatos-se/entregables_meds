{
 "cells": [
  {
   "cell_type": "code",
   "execution_count": 119,
   "metadata": {},
   "outputs": [],
   "source": [
    "from bs4 import BeautifulSoup\n",
    "import requests\n",
    "import time\n",
    "import random\n",
    "import re\n",
    "from selenium import webdriver\n",
    "from selenium.webdriver.chrome.service import Service\n",
    "from selenium.webdriver.common.by import By\n",
    "from selenium.webdriver.support.ui import Select\n",
    "from selenium.webdriver.support.ui import WebDriverWait\n",
    "from selenium.webdriver.support import expected_conditions as EC\n",
    "from selenium.common.exceptions import NoSuchElementException\n",
    "from selenium.webdriver.common.keys import Keys\n",
    "import pandas as pd \n",
    "from medscraper import medsearch"
   ]
  },
  {
   "cell_type": "code",
   "execution_count": 120,
   "metadata": {},
   "outputs": [],
   "source": [
    "options=webdriver.ChromeOptions()\n",
    "options.add_argument('--incognito')\n",
    "options.add_argument('--disable-blink-features=AutomationControlled')\n",
    "options.add_argument('--disable-cache')\n",
    "options.add_argument('--disable-cookies')"
   ]
  },
  {
   "cell_type": "code",
   "execution_count": 121,
   "metadata": {},
   "outputs": [],
   "source": [
    "url=\"https://www.medicinpriser.dk/default.aspx?lng=2\""
   ]
  },
  {
   "cell_type": "code",
   "execution_count": 122,
   "metadata": {},
   "outputs": [],
   "source": [
    "medicamento=\"sorafenib\""
   ]
  },
  {
   "cell_type": "code",
   "execution_count": 123,
   "metadata": {},
   "outputs": [],
   "source": [
    "def tabla_dinamarca():\n",
    "    table_element = driver.find_element(By.XPATH, \"//table[@cellpadding='0' and @border='0' and @cellspacing='0' and @style='width:100%']\")\n",
    "    table_contents = table_element.get_attribute('outerHTML')\n",
    "    return table_contents\n",
    "\n",
    "def search_medicine(id_element, medicine_name):\n",
    "    try:\n",
    "        driver.find_element(By.ID, id_element).clear()\n",
    "        driver.find_element(By.ID, id_element).send_keys(medicine_name)\n",
    "        driver.find_element(By.ID, \"ctl00_ctl07_simpleForm_SearchButton\").click()\n",
    "        return tabla_dinamarca()\n",
    "    except NoSuchElementException:\n",
    "        return []\n",
    "\n",
    "driver = webdriver.Chrome(options=options)\n",
    "driver.get(url)\n",
    "\n",
    "# First, try to find by 'VirksomtstofBox'\n",
    "tabla = search_medicine(\"ctl00_ctl07_simpleForm_VirksomtstofBox\", medicamento)\n",
    "\n",
    "# If the first search fails (returns empty list), try to find by 'LaegemiddelBox'\n",
    "if not tabla:\n",
    "    driver.find_element(By.ID, \"ctl00_ctl07_simpleForm_VirksomtstofBox\").clear()\n",
    "    tabla = search_medicine(\"ctl00_ctl07_simpleForm_LaegemiddelBox\", medicamento)\n",
    "#Driver quit\n",
    "driver.quit()\n",
    "\n"
   ]
  },
  {
   "cell_type": "code",
   "execution_count": 124,
   "metadata": {},
   "outputs": [],
   "source": [
    "# driver=webdriver.Chrome(options=options)\n",
    "# driver.get(url)\n",
    "# try:\n",
    "#     driver.find_element(By.ID, \"ctl00_ctl07_simpleForm_VirksomtstofBox\").send_keys(\"dasdsa\")\n",
    "#     driver.find_element(By.ID, \"ctl00_ctl07_simpleForm_SearchButton\").send_keys(Keys.ENTER)\n",
    "#     try: \n",
    "#         tabla=tabla_dinamarca()\n",
    "#     except NoSuchElementException:\n",
    "#         try:\n",
    "#             #Erase the previous search\n",
    "#             driver.find_element(By.ID, \"ctl00_ctl07_simpleForm_VirksomtstofBox\").clear()\n",
    "#             driver.find_element(By.ID, \"ctl00_ctl07_simpleForm_LaegemiddelBox\").send_keys(\"dasdsa\")\n",
    "#             driver.find_element(By.ID, \"ctl00_ctl07_simpleForm_SearchButton\").send_keys(Keys.ENTER)\n",
    "#             tabla=tabla_dinamarca()\n",
    "#         except NoSuchElementException:\n",
    "#             tabla=[]\n",
    "# except NoSuchElementException:\n",
    "#     tabla=[]\n",
    "# finally:\n",
    "#     driver.quit()"
   ]
  },
  {
   "cell_type": "code",
   "execution_count": 125,
   "metadata": {},
   "outputs": [],
   "source": [
    "presentaciones = {\n",
    "        'tableta': ['tab', 'tableta', 'comp', \"com\", 'comprimidos', 'cpr', \"stk\"],\n",
    "        'capsula': ['capsula', 'cap', 'capsulas'],\n",
    "        'jarabe': ['jarabe', 'jar'],\n",
    "        'solucion': ['solucion', 'sol', 'sln'],\n",
    "        'crema': ['crema', 'crm'],\n",
    "        'suspension': ['suspension', 'susp', 'sus'],\n",
    "        'inyeccion': ['inyeccion', 'iny', 'inyec']\n",
    "    }"
   ]
  },
  {
   "cell_type": "code",
   "execution_count": 182,
   "metadata": {},
   "outputs": [
    {
     "data": {
      "text/html": [
       "<div>\n",
       "<style scoped>\n",
       "    .dataframe tbody tr th:only-of-type {\n",
       "        vertical-align: middle;\n",
       "    }\n",
       "\n",
       "    .dataframe tbody tr th {\n",
       "        vertical-align: top;\n",
       "    }\n",
       "\n",
       "    .dataframe thead th {\n",
       "        text-align: right;\n",
       "    }\n",
       "</style>\n",
       "<table border=\"1\" class=\"dataframe\">\n",
       "  <thead>\n",
       "    <tr style=\"text-align: right;\">\n",
       "      <th></th>\n",
       "      <th>producto</th>\n",
       "      <th>presenta</th>\n",
       "      <th>paquete</th>\n",
       "      <th>precio</th>\n",
       "      <th>presentacion</th>\n",
       "      <th>cantidad</th>\n",
       "    </tr>\n",
       "  </thead>\n",
       "  <tbody>\n",
       "    <tr>\n",
       "      <th>0</th>\n",
       "      <td>Nexavar</td>\n",
       "      <td>200 mg</td>\n",
       "      <td>112 stk. (blister)\\nfilmovertrukne tabl.</td>\n",
       "      <td>66283.96</td>\n",
       "      <td>200</td>\n",
       "      <td>mg</td>\n",
       "    </tr>\n",
       "    <tr>\n",
       "      <th>3</th>\n",
       "      <td>Sorafenib \"Mylan\"</td>\n",
       "      <td>200 mg</td>\n",
       "      <td>112 stk. (blister)\\nfilmovertrukne tabl.</td>\n",
       "      <td>62756.20</td>\n",
       "      <td>200</td>\n",
       "      <td>mg</td>\n",
       "    </tr>\n",
       "  </tbody>\n",
       "</table>\n",
       "</div>"
      ],
      "text/plain": [
       "            producto presenta                                   paquete  \\\n",
       "0            Nexavar   200 mg  112 stk. (blister)\\nfilmovertrukne tabl.   \n",
       "3  Sorafenib \"Mylan\"   200 mg  112 stk. (blister)\\nfilmovertrukne tabl.   \n",
       "\n",
       "     precio presentacion cantidad  \n",
       "0  66283.96          200       mg  \n",
       "3  62756.20          200       mg  "
      ]
     },
     "execution_count": 182,
     "metadata": {},
     "output_type": "execute_result"
    }
   ],
   "source": [
    "if tabla == []:\n",
    "    df = pd.DataFrame()\n",
    "else:\n",
    "    soup = BeautifulSoup(tabla, 'html.parser')\n",
    "    tableprod = soup.find('table', attrs={'id': 'ctl00_ctl07_Results_ResultGridStatic'})\n",
    "    tableprecio=soup.find('table', attrs={'id': 'ctl00_ctl07_Results_ResultGridScroll'})\n",
    "    rowsprod = tableprod.find_all('tr') \n",
    "    rowsprecio=tableprecio.find_all('tr')\n",
    "    caract=[]\n",
    "    for row in rowsprod:\n",
    "        columns = row.find_all('td')\n",
    "        for column in columns:\n",
    "            caract.append(column.text)\n",
    "    producto=caract[::3]\n",
    "    producto=[re.sub(r'\\d+', '', i) for i in producto]\n",
    "    presentacion=caract[1::3]\n",
    "    #paquete=caract[2::3]\n",
    "    \n",
    "    caract2=[]\n",
    "    for row in rowsprecio:\n",
    "        columns = row.find_all('td')\n",
    "        for column in columns:\n",
    "            caract2.append(column.text)\n",
    "    precio=caract2[4::5]\n",
    "    precio=[re.sub(r',', '.', i) for i in precio]\n",
    "\n",
    "    titulos=[]\n",
    "    for row in rowsprod:\n",
    "        divs=row.find_all('div')\n",
    "        for div in divs:\n",
    "            titulos.append(div.get(\"title\"))\n",
    "    paquete=titulos[2::3]\n",
    "\n",
    "    def euro():\n",
    "        exchangerates='https://openexchangerates.org/api/latest.json?app_id=52adcacdba9c48ce8430667723c02968&base=USD&symbols=MXN,EUR'\n",
    "        r=requests.get(exchangerates).json()\n",
    "        euro=r['rates']['MXN']/r['rates']['EUR']\n",
    "        return euro\n",
    "\n",
    "    df=pd.DataFrame({'producto':producto, 'presenta':presentacion, 'paquete':paquete, 'precio':precio})\n",
    "    df[['presentacion','cantidad']]=df.presenta.str.split(\" \",expand=True)\n",
    "    df=df[~df.precio.str.contains(\"Discont\")]\n",
    "    df[\"precio\"]=df[\"precio\"].astype(float)\n",
    "    df[\"precio\"]=round(df[\"precio\"]*euro(),2)\n",
    "df"
   ]
  },
  {
   "cell_type": "code",
   "execution_count": 181,
   "metadata": {},
   "outputs": [
    {
     "data": {
      "text/plain": [
       "['200 mg', '200 mg', '200 mg', '200 mg']"
      ]
     },
     "execution_count": 181,
     "metadata": {},
     "output_type": "execute_result"
    }
   ],
   "source": [
    "paquete"
   ]
  },
  {
   "cell_type": "code",
   "execution_count": 166,
   "metadata": {},
   "outputs": [],
   "source": [
    "#Encontrar todos los div en rowsprod\n",
    "titulos=[]\n",
    "for row in rowsprod:\n",
    "    divs=row.find_all('div')\n",
    "    for div in divs:\n",
    "        titulos.append(div.get(\"title\"))"
   ]
  },
  {
   "cell_type": "code",
   "execution_count": 167,
   "metadata": {},
   "outputs": [
    {
     "data": {
      "text/plain": [
       "['Nexavar\\n163494',\n",
       " '200 mg',\n",
       " '112 stk. (blister)\\nfilmovertrukne tabl.',\n",
       " 'Nexavar\\n518462',\n",
       " '200 mg',\n",
       " '112 stk. (blister) (Abacus)\\nfilmovertrukne tabl.',\n",
       " 'Nexavar\\n110475',\n",
       " '200 mg',\n",
       " '112 stk. (blister) (Paranova)\\nfilmovertrukne tabl.',\n",
       " 'Sorafenib \"Mylan\"\\n572301',\n",
       " '200 mg',\n",
       " '112 stk. (blister)\\nfilmovertrukne tabl.']"
      ]
     },
     "execution_count": 167,
     "metadata": {},
     "output_type": "execute_result"
    }
   ],
   "source": [
    "titulos"
   ]
  },
  {
   "cell_type": "code",
   "execution_count": 178,
   "metadata": {},
   "outputs": [
    {
     "data": {
      "text/plain": [
       "['112 stk. (blister)\\nfilmovertrukne tabl.',\n",
       " '112 stk. (blister) (Abacus)\\nfilmovertrukne tabl.',\n",
       " '112 stk. (blister) (Paranova)\\nfilmovertrukne tabl.',\n",
       " '112 stk. (blister)\\nfilmovertrukne tabl.']"
      ]
     },
     "execution_count": 178,
     "metadata": {},
     "output_type": "execute_result"
    }
   ],
   "source": [
    "#Dejar cada 3 elementos a partir del 3\n",
    "\n",
    "titulos[2::3]"
   ]
  },
  {
   "cell_type": "code",
   "execution_count": 156,
   "metadata": {},
   "outputs": [
    {
     "data": {
      "text/plain": [
       "['Sorafenib \"Mylan\"\\n572301',\n",
       " '200 mg',\n",
       " '112 stk. (blister)\\nfilmovertrukne tabl.']"
      ]
     },
     "execution_count": 156,
     "metadata": {},
     "output_type": "execute_result"
    }
   ],
   "source": [
    "#Obtener el texto de los titles en los divs\n",
    "texto=[]\n",
    "for div in divs:\n",
    "    texto.append(div.get('title'))\n",
    "texto\n"
   ]
  },
  {
   "cell_type": "code",
   "execution_count": 127,
   "metadata": {},
   "outputs": [
    {
     "data": {
      "text/html": [
       "<div>\n",
       "<style scoped>\n",
       "    .dataframe tbody tr th:only-of-type {\n",
       "        vertical-align: middle;\n",
       "    }\n",
       "\n",
       "    .dataframe tbody tr th {\n",
       "        vertical-align: top;\n",
       "    }\n",
       "\n",
       "    .dataframe thead th {\n",
       "        text-align: right;\n",
       "    }\n",
       "</style>\n",
       "<table border=\"1\" class=\"dataframe\">\n",
       "  <thead>\n",
       "    <tr style=\"text-align: right;\">\n",
       "      <th></th>\n",
       "      <th>producto</th>\n",
       "      <th>presenta</th>\n",
       "      <th>paquete</th>\n",
       "      <th>precio</th>\n",
       "      <th>presentacion</th>\n",
       "      <th>cantidad</th>\n",
       "      <th>num_prod</th>\n",
       "    </tr>\n",
       "  </thead>\n",
       "  <tbody>\n",
       "    <tr>\n",
       "      <th>0</th>\n",
       "      <td>Nexavar</td>\n",
       "      <td>200 mg</td>\n",
       "      <td>112 stk. (blister)filmovertrukne ta ...</td>\n",
       "      <td>66283.96</td>\n",
       "      <td>200</td>\n",
       "      <td>mg</td>\n",
       "      <td>112</td>\n",
       "    </tr>\n",
       "    <tr>\n",
       "      <th>3</th>\n",
       "      <td>Sorafenib \"Mylan\"</td>\n",
       "      <td>200 mg</td>\n",
       "      <td>112 stk. (blister)filmovertrukne ta ...</td>\n",
       "      <td>62756.20</td>\n",
       "      <td>200</td>\n",
       "      <td>mg</td>\n",
       "      <td>112</td>\n",
       "    </tr>\n",
       "  </tbody>\n",
       "</table>\n",
       "</div>"
      ],
      "text/plain": [
       "            producto presenta                                  paquete  \\\n",
       "0            Nexavar   200 mg  112 stk. (blister)filmovertrukne ta ...   \n",
       "3  Sorafenib \"Mylan\"   200 mg  112 stk. (blister)filmovertrukne ta ...   \n",
       "\n",
       "     precio presentacion cantidad num_prod  \n",
       "0  66283.96          200       mg      112  \n",
       "3  62756.20          200       mg      112  "
      ]
     },
     "execution_count": 127,
     "metadata": {},
     "output_type": "execute_result"
    }
   ],
   "source": [
    "#Extraer primer número de la variable \"paquete\"\n",
    "df['num_prod'] = df['paquete'].str.extract('(\\d+)')\n",
    "df"
   ]
  },
  {
   "cell_type": "code",
   "execution_count": 128,
   "metadata": {},
   "outputs": [
    {
     "data": {
      "text/html": [
       "<div>\n",
       "<style scoped>\n",
       "    .dataframe tbody tr th:only-of-type {\n",
       "        vertical-align: middle;\n",
       "    }\n",
       "\n",
       "    .dataframe tbody tr th {\n",
       "        vertical-align: top;\n",
       "    }\n",
       "\n",
       "    .dataframe thead th {\n",
       "        text-align: right;\n",
       "    }\n",
       "</style>\n",
       "<table border=\"1\" class=\"dataframe\">\n",
       "  <thead>\n",
       "    <tr style=\"text-align: right;\">\n",
       "      <th></th>\n",
       "      <th>producto</th>\n",
       "      <th>presenta</th>\n",
       "      <th>paquete</th>\n",
       "      <th>precio</th>\n",
       "      <th>presentacion</th>\n",
       "      <th>cantidad</th>\n",
       "      <th>num_prod</th>\n",
       "      <th>x</th>\n",
       "    </tr>\n",
       "  </thead>\n",
       "  <tbody>\n",
       "    <tr>\n",
       "      <th>0</th>\n",
       "      <td>Nexavar</td>\n",
       "      <td>200 mg</td>\n",
       "      <td>112 stk. (blister)filmovertrukne ta ...</td>\n",
       "      <td>66283.96</td>\n",
       "      <td>200</td>\n",
       "      <td>mg</td>\n",
       "      <td>112</td>\n",
       "      <td>tableta</td>\n",
       "    </tr>\n",
       "    <tr>\n",
       "      <th>3</th>\n",
       "      <td>Sorafenib \"Mylan\"</td>\n",
       "      <td>200 mg</td>\n",
       "      <td>112 stk. (blister)filmovertrukne ta ...</td>\n",
       "      <td>62756.20</td>\n",
       "      <td>200</td>\n",
       "      <td>mg</td>\n",
       "      <td>112</td>\n",
       "      <td>tableta</td>\n",
       "    </tr>\n",
       "  </tbody>\n",
       "</table>\n",
       "</div>"
      ],
      "text/plain": [
       "            producto presenta                                  paquete  \\\n",
       "0            Nexavar   200 mg  112 stk. (blister)filmovertrukne ta ...   \n",
       "3  Sorafenib \"Mylan\"   200 mg  112 stk. (blister)filmovertrukne ta ...   \n",
       "\n",
       "     precio presentacion cantidad num_prod        x  \n",
       "0  66283.96          200       mg      112  tableta  \n",
       "3  62756.20          200       mg      112  tableta  "
      ]
     },
     "execution_count": 128,
     "metadata": {},
     "output_type": "execute_result"
    }
   ],
   "source": [
    "import numpy as np\n",
    "df['x'] = np.nan  # initialize 'x' column with NaN\n",
    "\n",
    "for key, values in presentaciones.items():\n",
    "    for value in values:\n",
    "        mask = df['paquete'].str.contains(value, case=False, na=False)\n",
    "        df.loc[mask, 'x'] = key\n",
    "df"
   ]
  },
  {
   "cell_type": "code",
   "execution_count": 136,
   "metadata": {},
   "outputs": [
    {
     "data": {
      "text/plain": [
       "'ta'"
      ]
     },
     "execution_count": 136,
     "metadata": {},
     "output_type": "execute_result"
    }
   ],
   "source": [
    "#Show all the text \n",
    "df[\"paquete\"][0].split(\" \")[3]"
   ]
  },
  {
   "cell_type": "code",
   "execution_count": 137,
   "metadata": {},
   "outputs": [
    {
     "data": {
      "text/plain": [
       "'<table cellpadding=\"0\" border=\"0\" cellspacing=\"0\" style=\"width:100%\">\\n        <tbody><tr>\\n            <td>\\n                <div style=\"padding-top:5px;padding-bottom:5px\">\\n                    <div id=\"ctl00_ctl07_Results_LeftGridDiv\" style=\"float:left;overflow:hidden;\" class=\"width282\">\\n                        <div>\\n\\t<table class=\"grid\" cellspacing=\"0\" border=\"0\" id=\"ctl00_ctl07_Results_ResultGridStatic\" style=\"border-collapse:collapse;border:1px solid #505050;border-width:1px 0px 1px 1px;\">\\n\\t\\t<tbody><tr style=\"height:45px;\">\\n\\t\\t\\t<th scope=\"col\"><a href=\"javascript:__doPostBack(\\'ctl00$ctl07$Results\\',\\'Sort_20\\')\">Medicinal product/<br>product number<br>  </a><img src=\"images/ikon_spm.gif\" alt=\"\" id=\"fbi1\" onclick=\"ShowFactBox(this.id, \\'fbb415\\')\" class=\"factBoxButton\" align=\"absmiddle\"><img src=\"Images/ikon_sort_ned.gif\" alt=\"Sortér\" onclick=\"__doPostBack(\\'ctl00$ctl07$Results\\',\\'Sort_20\\')\"></th><th scope=\"col\"><a href=\"javascript:__doPostBack(\\'ctl00$ctl07$Results\\',\\'Sort_31\\')\">Strength</a><img src=\"Images/ikon_sort_pil.gif\" alt=\"Sortér\" onclick=\"__doPostBack(\\'ctl00$ctl07$Results\\',\\'Sort_31\\')\"></th><th scope=\"col\"><a href=\"javascript:__doPostBack(\\'ctl00$ctl07$Results\\',\\'Sort_32\\')\">Package</a><img src=\"Images/ikon_sort_pil.gif\" alt=\"Sortér\" onclick=\"__doPostBack(\\'ctl00$ctl07$Results\\',\\'Sort_32\\')\"></th>\\n\\t\\t</tr><tr id=\"mgr_0_0\" onmouseover=\"cgb(this, true,\\'mgr_1_0\\');\" onmouseout=\"cgb(this, false,\\'mgr_1_0\\');\" onclick=\"gc(this);\">\\n\\t\\t\\t<td><div title=\"Nexavar\\n163494\" id=\"mvnr163494\" class=\"width100\" style=\"\">Nexavar<br>163494</div></td><td><div title=\"200 mg\" class=\"width80\" style=\"\">200 mg</div></td><td><div title=\"112 stk. (blister)\\nfilmovertrukne tabl.\" id=\"mvnrfilmovertrukne tabl.\" class=\"width80\" style=\"\">112 stk. (blister)<br>filmovertrukne ta ...</div></td>\\n\\t\\t</tr><tr class=\"odd\" id=\"mgr_0_1\" onmouseover=\"cgb(this, true,\\'mgr_1_1\\');\" onmouseout=\"cgb(this, false,\\'mgr_1_1\\');\" onclick=\"gc(this);\">\\n\\t\\t\\t<td><div title=\"Nexavar\\n518462\" id=\"mvnr518462\" class=\"width100\" style=\"\">Nexavar<br>518462</div></td><td><div title=\"200 mg\" class=\"width80\" style=\"\">200 mg</div></td><td><div title=\"112 stk. (blister) (Abacus)\\nfilmovertrukne tabl.\" id=\"mvnrfilmovertrukne tabl.\" class=\"width80\" style=\"\">112 stk. (blister) (Abacus)<br>filmover ...</div></td>\\n\\t\\t</tr><tr id=\"mgr_0_2\" onmouseover=\"cgb(this, true,\\'mgr_1_2\\');\" onmouseout=\"cgb(this, false,\\'mgr_1_2\\');\" onclick=\"gc(this);\">\\n\\t\\t\\t<td><div title=\"Nexavar\\n110475\" id=\"mvnr110475\" class=\"width100\" style=\"\">Nexavar<br>110475</div></td><td><div title=\"200 mg\" class=\"width80\" style=\"\">200 mg</div></td><td><div title=\"112 stk. (blister) (Paranova)\\nfilmovertrukne tabl.\" id=\"mvnrfilmovertrukne tabl.\" class=\"width80\" style=\"\">112 stk. (blister) (Paranova)<br>filmov ...</div></td>\\n\\t\\t</tr><tr class=\"odd\" id=\"mgr_0_3\" onmouseover=\"cgb(this, true,\\'mgr_1_3\\');\" onmouseout=\"cgb(this, false,\\'mgr_1_3\\');\" onclick=\"gc(this);\">\\n\\t\\t\\t<td><div title=\"Sorafenib &quot;Mylan&quot;\\n572301\" id=\"mvnr572301\" class=\"width100\" style=\"\">Sorafenib \"Mylan\"<br>572301</div></td><td><div title=\"200 mg\" class=\"width80\" style=\"\">200 mg</div></td><td><div title=\"112 stk. (blister)\\nfilmovertrukne tabl.\" id=\"mvnrfilmovertrukne tabl.\" class=\"width80\" style=\"\">112 stk. (blister)<br>filmovertrukne ta ...</div></td>\\n\\t\\t</tr>\\n\\t</tbody></table>\\n</div></div><div id=\"ctl00_ctl07_Results_RightGridDiv\" style=\"border:solid #505050;border-width:0px 1px 1px 0px;float:left;_padding-bottom:0px;clear:right;_overflow-x:hidden;_overflow-y:visible;max-width:430px;overflow:hidden;\" class=\"\">\\n                        <div>\\n\\t<table class=\"grid\" cellspacing=\"0\" border=\"0\" id=\"ctl00_ctl07_Results_ResultGridScroll\" style=\"border-collapse:collapse;\">\\n\\t\\t<tbody><tr style=\"height:45px;\">\\n\\t\\t\\t<th scope=\"col\"><a href=\"javascript:__doPostBack(\\'ctl00$ctl07$Results\\',\\'Sort_21\\')\">Active substance</a><img src=\"Images/ikon_sort_pil.gif\" alt=\"Sortér\" onclick=\"__doPostBack(\\'ctl00$ctl07$Results\\',\\'Sort_21\\')\"></th><th scope=\"col\"><a href=\"javascript:__doPostBack(\\'ctl00$ctl07$Results\\',\\'Sort_22\\')\">Company</a><img src=\"Images/ikon_sort_pil.gif\" alt=\"Sortér\" onclick=\"__doPostBack(\\'ctl00$ctl07$Results\\',\\'Sort_22\\')\"></th><th scope=\"col\"><a href=\"javascript:__doPostBack(\\'ctl00$ctl07$Results\\',\\'Sort_28\\')\">Reimburse-<br>ment calculated from<br></a><img src=\"images/ikon_spm.gif\" alt=\"\" id=\"fbi2\" onclick=\"ShowFactBox(this.id, \\'fbb76\\')\" class=\"factBoxButton\" align=\"absmiddle\">(eur.)<img src=\"Images/ikon_sort_pil.gif\" alt=\"Sortér\" onclick=\"__doPostBack(\\'ctl00$ctl07$Results\\',\\'Sort_28\\')\"></th><th scope=\"col\"><a href=\"javascript:__doPostBack(\\'ctl00$ctl07$Results\\',\\'Sort_26\\')\">Price per unit<br></a><img src=\"images/ikon_spm.gif\" alt=\"\" id=\"fbi3\" onclick=\"ShowFactBox(this.id, \\'fbb77\\')\" class=\"factBoxButton\" align=\"absmiddle\">(eur.)<img src=\"Images/ikon_sort_pil.gif\" alt=\"Sortér\" onclick=\"__doPostBack(\\'ctl00$ctl07$Results\\',\\'Sort_26\\')\"></th><th scope=\"col\" style=\"border-right:none;\"><a href=\"javascript:__doPostBack(\\'ctl00$ctl07$Results\\',\\'Sort_27\\')\">Pharmacy Retail Price<br></a><img src=\"images/ikon_spm.gif\" alt=\"\" id=\"fbi4\" onclick=\"ShowFactBox(this.id, \\'fbb169\\')\" class=\"factBoxButton\" align=\"absmiddle\">(eur.)<img src=\"Images/ikon_sort_pil.gif\" alt=\"Sortér\" onclick=\"__doPostBack(\\'ctl00$ctl07$Results\\',\\'Sort_27\\')\"></th>\\n\\t\\t</tr><tr id=\"mgr_1_0\" onmouseover=\"cgb(this, true,\\'mgr_0_0\\');\" onmouseout=\"cgb(this, false,\\'mgr_0_0\\');\" onclick=\"gc(this,\\'mgr_0_0\\');\">\\n\\t\\t\\t<td><div title=\"Sorafenib\" class=\"width100\" style=\"\">Sorafenib</div></td><td><div title=\"Bayer A/S\" class=\"width80\" style=\"\">Bayer A/S</div></td><td><div title=\"\" class=\"width73\" style=\"text-align:right;padding-right:2px;\">0,00</div></td><td><div title=\"31,59\" class=\"width60\" style=\"text-align:right;padding-right:10px\">31,59</div></td><td style=\"border-right:none;\"><div title=\"\" class=\"width70\" style=\"padding-right:2px\"><div style=\"text-align:right;padding-top:0px;\">3537,83<br><img src=\"images/ikon_uaendraetPris.gif\" alt=\"No change in price since the last price period\"></div></div></td>\\n\\t\\t</tr><tr class=\"odd\" id=\"mgr_1_1\" onmouseover=\"cgb(this, true,\\'mgr_0_1\\');\" onmouseout=\"cgb(this, false,\\'mgr_0_1\\');\" onclick=\"gc(this,\\'mgr_0_1\\');\">\\n\\t\\t\\t<td><div title=\"Sorafenib\" class=\"width100\" style=\"\">Sorafenib</div></td><td><div title=\"\" class=\"width80\" style=\"\">-</div></td><td><div title=\"The medicinal product may be discontinued or temporarily discontinued due to supply failure.\" class=\"width73\" style=\"text-align:right;padding-right:2px\">Discont.</div></td><td><div title=\"The medicinal product may be discontinued or temporarily discontinued due to supply failure.\" class=\"width60\" style=\"text-align:right;padding-right:10px\">Discont.</div></td><td style=\"border-right:none;\"><div title=\"The medicinal product may be discontinued or temporarily discontinued due to supply failure.\" class=\"width70\" style=\"text-align:right;padding-right:2px\">Discont.<br>05.09.2022</div></td>\\n\\t\\t</tr><tr id=\"mgr_1_2\" onmouseover=\"cgb(this, true,\\'mgr_0_2\\');\" onmouseout=\"cgb(this, false,\\'mgr_0_2\\');\" onclick=\"gc(this,\\'mgr_0_2\\');\">\\n\\t\\t\\t<td><div title=\"Sorafenib\" class=\"width100\" style=\"\">Sorafenib</div></td><td><div title=\"\" class=\"width80\" style=\"\">-</div></td><td><div title=\"The medicinal product may be discontinued or temporarily discontinued due to supply failure.\" class=\"width73\" style=\"text-align:right;padding-right:2px\">Discont.</div></td><td><div title=\"The medicinal product may be discontinued or temporarily discontinued due to supply failure.\" class=\"width60\" style=\"text-align:right;padding-right:10px\">Discont.</div></td><td style=\"border-right:none;\"><div title=\"The medicinal product may be discontinued or temporarily discontinued due to supply failure.\" class=\"width70\" style=\"text-align:right;padding-right:2px\">Discont.<br>05.09.2022</div></td>\\n\\t\\t</tr><tr class=\"odd\" id=\"mgr_1_3\" onmouseover=\"cgb(this, true,\\'mgr_0_3\\');\" onmouseout=\"cgb(this, false,\\'mgr_0_3\\');\" onclick=\"gc(this,\\'mgr_0_3\\');\">\\n\\t\\t\\t<td><div title=\"Sorafenib\" class=\"width100\" style=\"\">Sorafenib</div></td><td><div title=\"Viatris ApS\" class=\"width80\" style=\"\">Viatris ApS</div></td><td><div title=\"\" class=\"width73\" style=\"text-align:right;padding-right:2px;\">0,00</div></td><td><div title=\"29,91\" class=\"width60\" style=\"text-align:right;padding-right:10px\">29,91</div></td><td style=\"border-right:none;\"><div title=\"\" class=\"width70\" style=\"padding-right:2px\"><div style=\"text-align:right;padding-top:0px;\">3349,54<br><img src=\"images/ikon_uaendraetPris.gif\" alt=\"No change in price since the last price period\"></div></div></td>\\n\\t\\t</tr>\\n\\t</tbody></table>\\n</div>\\n                    </div>\\n\\n                    <br style=\"float:none\">\\n                </div>\\n                <div class=\"PrintHide\">\\n                    \\n\\n<div style=\"float:none;clear:both\">\\n\\n\\n\\n                </div>\\n                <br>\\n            </div></td>\\n        </tr>\\n    </tbody></table>'"
      ]
     },
     "execution_count": 137,
     "metadata": {},
     "output_type": "execute_result"
    }
   ],
   "source": [
    "tabla"
   ]
  }
 ],
 "metadata": {
  "kernelspec": {
   "display_name": "base",
   "language": "python",
   "name": "python3"
  },
  "language_info": {
   "codemirror_mode": {
    "name": "ipython",
    "version": 3
   },
   "file_extension": ".py",
   "mimetype": "text/x-python",
   "name": "python",
   "nbconvert_exporter": "python",
   "pygments_lexer": "ipython3",
   "version": "3.10.10"
  },
  "orig_nbformat": 4
 },
 "nbformat": 4,
 "nbformat_minor": 2
}
