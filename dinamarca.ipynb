{
 "cells": [
  {
   "cell_type": "code",
   "execution_count": 201,
   "metadata": {},
   "outputs": [],
   "source": [
    "from bs4 import BeautifulSoup\n",
    "import requests\n",
    "import time\n",
    "import random\n",
    "import re\n",
    "from selenium import webdriver\n",
    "from selenium.webdriver.chrome.service import Service\n",
    "from selenium.webdriver.common.by import By\n",
    "from selenium.webdriver.support.ui import Select\n",
    "from selenium.webdriver.support.ui import WebDriverWait\n",
    "from selenium.webdriver.support import expected_conditions as EC\n",
    "from selenium.webdriver.common.keys import Keys\n",
    "import pandas as pd \n",
    "from medscraper import medsearch"
   ]
  },
  {
   "cell_type": "code",
   "execution_count": 202,
   "metadata": {},
   "outputs": [],
   "source": [
    "options=webdriver.ChromeOptions()\n",
    "options.add_argument('--incognito')\n",
    "options.add_argument('--disable-blink-features=AutomationControlled')\n",
    "options.add_argument('--disable-cache')\n",
    "options.add_argument('--disable-cookies')"
   ]
  },
  {
   "cell_type": "code",
   "execution_count": 203,
   "metadata": {},
   "outputs": [],
   "source": [
    "url=\"https://www.medicinpriser.dk/default.aspx?lng=2\""
   ]
  },
  {
   "cell_type": "code",
   "execution_count": 204,
   "metadata": {},
   "outputs": [],
   "source": [
    "driver=webdriver.Chrome(options=options)\n",
    "driver.get(url)\n",
    "driver.find_element(By.ID, \"ctl00_ctl07_simpleForm_VirksomtstofBox\").send_keys(\"nepafenac\")\n",
    "driver.find_element(By.ID, \"ctl00_ctl07_simpleForm_SearchButton\").send_keys(Keys.ENTER)"
   ]
  },
  {
   "cell_type": "code",
   "execution_count": 205,
   "metadata": {},
   "outputs": [],
   "source": [
    "#Identificar la tabla que cuenta con estas características \"<table cellpadding=\"0\" border=\"0\" cellspacing=\"0\" style=\"width:100%\">\n",
    "\n",
    "table_element = driver.find_element(By.XPATH, \"//table[@cellpadding='0' and @border='0' and @cellspacing='0' and @style='width:100%']\")\n",
    "table_contents = table_element.get_attribute('outerHTML')\n",
    "soup = BeautifulSoup(table_contents, 'html.parser')"
   ]
  },
  {
   "cell_type": "code",
   "execution_count": 206,
   "metadata": {},
   "outputs": [],
   "source": [
    "producto=[]\n",
    "presentacion=[]\n",
    "precio=[]\n",
    "for i in soup.find_all('div', {'class':'width282'}):\n",
    "    j=i.find_all('table', {'class':'grid'})\n"
   ]
  },
  {
   "cell_type": "code",
   "execution_count": 207,
   "metadata": {},
   "outputs": [],
   "source": [
    "tableprod = soup.find('table', attrs={'id': 'ctl00_ctl07_Results_ResultGridStatic'})\n",
    "tableprecio=soup.find('table', attrs={'id': 'ctl00_ctl07_Results_ResultGridScroll'})\n"
   ]
  },
  {
   "cell_type": "code",
   "execution_count": 208,
   "metadata": {},
   "outputs": [],
   "source": [
    "#obtener rows de las dos tablas\n",
    "rowsprod = tableprod.find_all('tr')\n",
    "rowsprecio=tableprecio.find_all('tr')"
   ]
  },
  {
   "cell_type": "code",
   "execution_count": 209,
   "metadata": {},
   "outputs": [],
   "source": [
    "# And then we can loop through the rows to extract the data\n",
    "caract=[]\n",
    "\n",
    "for row in rowsprod:\n",
    "    columns = row.find_all('td')\n",
    "    for column in columns:\n",
    "        #Append el texto con saltos de 2 en 2\n",
    "        caract.append(column.text)\n",
    "\n",
    "producto=caract[::3]\n",
    "producto=[re.sub(r'\\d+', '', i) for i in producto]\n",
    "presentacion=caract[1::3]\n",
    "paquete=caract[2::3]\n",
    "\n",
    "caract2=[]\n",
    "for row in rowsprecio:\n",
    "    columns = row.find_all('td')\n",
    "    for column in columns:\n",
    "        #Append el texto con saltos de 2 en 2\n",
    "        caract2.append(column.text)\n",
    "\n",
    "#Obtener precio en múltiplos de 5\n",
    "precio=caract2[4::5]\n",
    "#Sustituir coma por punto\n",
    "precio=[re.sub(r',', '.', i) for i in precio]\n"
   ]
  },
  {
   "cell_type": "code",
   "execution_count": 210,
   "metadata": {},
   "outputs": [],
   "source": [
    "def euro():\n",
    "\n",
    "    exchangerates='https://openexchangerates.org/api/latest.json?app_id=52adcacdba9c48ce8430667723c02968&base=USD&symbols=MXN,EUR'\n",
    "    r=requests.get(exchangerates).json()\n",
    "    #Obtener tipos de cambio\n",
    "    euro=r['rates']['MXN']/r['rates']['EUR']\n",
    "    return euro\n"
   ]
  },
  {
   "cell_type": "code",
   "execution_count": 211,
   "metadata": {},
   "outputs": [
    {
     "data": {
      "text/html": [
       "<div>\n",
       "<style scoped>\n",
       "    .dataframe tbody tr th:only-of-type {\n",
       "        vertical-align: middle;\n",
       "    }\n",
       "\n",
       "    .dataframe tbody tr th {\n",
       "        vertical-align: top;\n",
       "    }\n",
       "\n",
       "    .dataframe thead th {\n",
       "        text-align: right;\n",
       "    }\n",
       "</style>\n",
       "<table border=\"1\" class=\"dataframe\">\n",
       "  <thead>\n",
       "    <tr style=\"text-align: right;\">\n",
       "      <th></th>\n",
       "      <th>producto</th>\n",
       "      <th>presenta</th>\n",
       "      <th>paquete</th>\n",
       "      <th>precio</th>\n",
       "      <th>presentacion</th>\n",
       "      <th>cantidad</th>\n",
       "    </tr>\n",
       "  </thead>\n",
       "  <tbody>\n",
       "    <tr>\n",
       "      <th>0</th>\n",
       "      <td>Nevanac</td>\n",
       "      <td>1 mg/ml</td>\n",
       "      <td>5 mløjendråber, susp.</td>\n",
       "      <td>501.56</td>\n",
       "      <td>1</td>\n",
       "      <td>mg/ml</td>\n",
       "    </tr>\n",
       "    <tr>\n",
       "      <th>1</th>\n",
       "      <td>Nevanac</td>\n",
       "      <td>1 mg/ml</td>\n",
       "      <td>5 ml (Orifarm)øjendråber, susp.</td>\n",
       "      <td>495.56</td>\n",
       "      <td>1</td>\n",
       "      <td>mg/ml</td>\n",
       "    </tr>\n",
       "    <tr>\n",
       "      <th>2</th>\n",
       "      <td>Nevanac</td>\n",
       "      <td>1 mg/ml</td>\n",
       "      <td>5 ml (2care4)øjendråber, susp.</td>\n",
       "      <td>498.00</td>\n",
       "      <td>1</td>\n",
       "      <td>mg/ml</td>\n",
       "    </tr>\n",
       "    <tr>\n",
       "      <th>3</th>\n",
       "      <td>Nevanac</td>\n",
       "      <td>3 mg/ml</td>\n",
       "      <td>3 ml (2care4)øjendråber, susp.</td>\n",
       "      <td>1001.24</td>\n",
       "      <td>3</td>\n",
       "      <td>mg/ml</td>\n",
       "    </tr>\n",
       "    <tr>\n",
       "      <th>5</th>\n",
       "      <td>Nevanac</td>\n",
       "      <td>3 mg/ml</td>\n",
       "      <td>3 ml (Orifarm)øjendråber, susp.</td>\n",
       "      <td>998.80</td>\n",
       "      <td>3</td>\n",
       "      <td>mg/ml</td>\n",
       "    </tr>\n",
       "  </tbody>\n",
       "</table>\n",
       "</div>"
      ],
      "text/plain": [
       "  producto presenta                          paquete   precio presentacion  \\\n",
       "0  Nevanac  1 mg/ml            5 mløjendråber, susp.   501.56            1   \n",
       "1  Nevanac  1 mg/ml  5 ml (Orifarm)øjendråber, susp.   495.56            1   \n",
       "2  Nevanac  1 mg/ml   5 ml (2care4)øjendråber, susp.   498.00            1   \n",
       "3  Nevanac  3 mg/ml   3 ml (2care4)øjendråber, susp.  1001.24            3   \n",
       "5  Nevanac  3 mg/ml  3 ml (Orifarm)øjendråber, susp.   998.80            3   \n",
       "\n",
       "  cantidad  \n",
       "0    mg/ml  \n",
       "1    mg/ml  \n",
       "2    mg/ml  \n",
       "3    mg/ml  \n",
       "5    mg/ml  "
      ]
     },
     "execution_count": 211,
     "metadata": {},
     "output_type": "execute_result"
    }
   ],
   "source": [
    "df=pd.DataFrame({'producto':producto, 'presenta':presentacion, 'paquete':paquete, 'precio':precio})\n",
    "df[['presentacion','cantidad']]=df.presenta.str.split(\" \",expand=True)\n",
    "df=df[~df.precio.str.contains(\"Discont\")]\n",
    "df[\"precio\"]=df[\"precio\"].astype(float)\n",
    "df[\"precio\"]=round(df[\"precio\"]*euro(),2)\n",
    "df"
   ]
  },
  {
   "cell_type": "code",
   "execution_count": 214,
   "metadata": {},
   "outputs": [
    {
     "name": "stdout",
     "output_type": "stream",
     "text": [
      "Realizando la búsqueda en Farmacias San Pablo de:  nevanac\n"
     ]
    },
    {
     "data": {
      "text/html": [
       "<div>\n",
       "<style scoped>\n",
       "    .dataframe tbody tr th:only-of-type {\n",
       "        vertical-align: middle;\n",
       "    }\n",
       "\n",
       "    .dataframe tbody tr th {\n",
       "        vertical-align: top;\n",
       "    }\n",
       "\n",
       "    .dataframe thead th {\n",
       "        text-align: right;\n",
       "    }\n",
       "</style>\n",
       "<table border=\"1\" class=\"dataframe\">\n",
       "  <thead>\n",
       "    <tr style=\"text-align: right;\">\n",
       "      <th></th>\n",
       "      <th>producto</th>\n",
       "      <th>precio</th>\n",
       "      <th>hora_consulta</th>\n",
       "      <th>farmacia_corto</th>\n",
       "      <th>busqueda</th>\n",
       "      <th>farmacia</th>\n",
       "      <th>pais</th>\n",
       "      <th>product_name</th>\n",
       "      <th>quantity</th>\n",
       "      <th>unit</th>\n",
       "      <th>presentacion</th>\n",
       "      <th>num_prod</th>\n",
       "    </tr>\n",
       "  </thead>\n",
       "  <tbody>\n",
       "    <tr>\n",
       "      <th>0</th>\n",
       "      <td>nevanac 5 ml suspension gotero nepafenaco 1 mg</td>\n",
       "      <td>641.0</td>\n",
       "      <td>19:03:56 23/06/2023</td>\n",
       "      <td>fsanpablo</td>\n",
       "      <td>nevanac</td>\n",
       "      <td>farmacias san pablo</td>\n",
       "      <td>Mexico</td>\n",
       "      <td>nevanac</td>\n",
       "      <td>5.0</td>\n",
       "      <td>ml</td>\n",
       "      <td>suspension</td>\n",
       "      <td>1</td>\n",
       "    </tr>\n",
       "  </tbody>\n",
       "</table>\n",
       "</div>"
      ],
      "text/plain": [
       "                                         producto  precio  \\\n",
       "0  nevanac 5 ml suspension gotero nepafenaco 1 mg   641.0   \n",
       "\n",
       "         hora_consulta farmacia_corto busqueda             farmacia    pais  \\\n",
       "0  19:03:56 23/06/2023      fsanpablo  nevanac  farmacias san pablo  Mexico   \n",
       "\n",
       "  product_name  quantity unit presentacion  num_prod  \n",
       "0      nevanac       5.0   ml   suspension         1  "
      ]
     },
     "execution_count": 214,
     "metadata": {},
     "output_type": "execute_result"
    }
   ],
   "source": [
    "s=medsearch.scraper(\"fsanpablo\",\"nevanac\")\n",
    "mex=s.show_dataframe()\n",
    "mex"
   ]
  },
  {
   "cell_type": "code",
   "execution_count": 215,
   "metadata": {},
   "outputs": [
    {
     "data": {
      "text/plain": [
       "0    139.44\n",
       "Name: precio, dtype: float64"
      ]
     },
     "execution_count": 215,
     "metadata": {},
     "output_type": "execute_result"
    }
   ],
   "source": [
    "mex[\"precio\"]-df[\"precio\"][0]"
   ]
  }
 ],
 "metadata": {
  "kernelspec": {
   "display_name": "base",
   "language": "python",
   "name": "python3"
  },
  "language_info": {
   "codemirror_mode": {
    "name": "ipython",
    "version": 3
   },
   "file_extension": ".py",
   "mimetype": "text/x-python",
   "name": "python",
   "nbconvert_exporter": "python",
   "pygments_lexer": "ipython3",
   "version": "3.10.10"
  },
  "orig_nbformat": 4
 },
 "nbformat": 4,
 "nbformat_minor": 2
}
