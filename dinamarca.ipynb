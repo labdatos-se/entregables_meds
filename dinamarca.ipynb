{
 "cells": [
  {
   "cell_type": "code",
   "execution_count": 1,
   "metadata": {},
   "outputs": [],
   "source": [
    "from bs4 import BeautifulSoup\n",
    "import requests\n",
    "import time\n",
    "import random\n",
    "import re\n",
    "from selenium import webdriver\n",
    "from selenium.webdriver.chrome.service import Service\n",
    "from selenium.webdriver.common.by import By\n",
    "from selenium.webdriver.support.ui import Select\n",
    "from selenium.webdriver.support.ui import WebDriverWait\n",
    "from selenium.webdriver.support import expected_conditions as EC\n",
    "from selenium.common.exceptions import NoSuchElementException\n",
    "from selenium.webdriver.common.keys import Keys\n",
    "import pandas as pd \n",
    "from medscraper import medsearch"
   ]
  },
  {
   "cell_type": "code",
   "execution_count": 2,
   "metadata": {},
   "outputs": [],
   "source": [
    "options=webdriver.ChromeOptions()\n",
    "options.add_argument('--incognito')\n",
    "options.add_argument('--disable-blink-features=AutomationControlled')\n",
    "options.add_argument('--disable-cache')\n",
    "options.add_argument('--disable-cookies')"
   ]
  },
  {
   "cell_type": "code",
   "execution_count": 3,
   "metadata": {},
   "outputs": [],
   "source": [
    "url=\"https://www.medicinpriser.dk/default.aspx?lng=2\""
   ]
  },
  {
   "cell_type": "code",
   "execution_count": 8,
   "metadata": {},
   "outputs": [],
   "source": [
    "driver=webdriver.Chrome(options=options)\n",
    "driver.get(url)\n",
    "driver.find_element(By.ID, \"ctl00_ctl07_simpleForm_VirksomtstofBox\").send_keys(\"Latanoprost\")\n",
    "driver.find_element(By.ID, \"ctl00_ctl07_simpleForm_SearchButton\").send_keys(Keys.ENTER)\n",
    "combo = driver.find_element(By.ID, \"ctl00_ctl07_Results_PagerTop_ResultsCountList\")\n",
    "combo_select = Select(combo)\n",
    "combo_select.select_by_visible_text(\"All\")"
   ]
  },
  {
   "cell_type": "code",
   "execution_count": 9,
   "metadata": {},
   "outputs": [],
   "source": [
    "#Identificar la tabla que cuenta con estas características \"<table cellpadding=\"0\" border=\"0\" cellspacing=\"0\" style=\"width:100%\">\n",
    "\n",
    "table_element = driver.find_element(By.XPATH, \"//table[@cellpadding='0' and @border='0' and @cellspacing='0' and @style='width:100%']\")\n",
    "table_contents = table_element.get_attribute('outerHTML')\n",
    "soup = BeautifulSoup(table_contents, 'html.parser')"
   ]
  },
  {
   "cell_type": "code",
   "execution_count": 26,
   "metadata": {},
   "outputs": [],
   "source": [
    "def tabla_dinamarca():\n",
    "    table_element = driver.find_element(By.XPATH, \"//table[@cellpadding='0' and @border='0' and @cellspacing='0' and @style='width:100%']\")\n",
    "    table_contents = table_element.get_attribute('outerHTML')\n",
    "    return table_contents\n"
   ]
  },
  {
   "cell_type": "code",
   "execution_count": 32,
   "metadata": {},
   "outputs": [
    {
     "ename": "TypeError",
     "evalue": "tabla_dinamarca() takes 0 positional arguments but 1 was given",
     "output_type": "error",
     "traceback": [
      "\u001b[1;31m---------------------------------------------------------------------------\u001b[0m",
      "\u001b[1;31mTypeError\u001b[0m                                 Traceback (most recent call last)",
      "Cell \u001b[1;32mIn[32], line 7\u001b[0m\n\u001b[0;32m      5\u001b[0m driver\u001b[39m.\u001b[39mfind_element(By\u001b[39m.\u001b[39mID, \u001b[39m\"\u001b[39m\u001b[39mctl00_ctl07_simpleForm_SearchButton\u001b[39m\u001b[39m\"\u001b[39m)\u001b[39m.\u001b[39msend_keys(Keys\u001b[39m.\u001b[39mENTER)\n\u001b[0;32m      6\u001b[0m \u001b[39mtry\u001b[39;00m: \n\u001b[1;32m----> 7\u001b[0m     tabla\u001b[39m=\u001b[39mtabla_dinamarca(driver)\n\u001b[0;32m      8\u001b[0m \u001b[39mexcept\u001b[39;00m NoSuchElementException:\n\u001b[0;32m      9\u001b[0m     driver\u001b[39m.\u001b[39mfind_element(By\u001b[39m.\u001b[39mID, \u001b[39m\"\u001b[39m\u001b[39mctl00_ctl07_simpleForm_LaegemiddelBox\u001b[39m\u001b[39m\"\u001b[39m)\u001b[39m.\u001b[39msend_keys(\u001b[39m\"\u001b[39m\u001b[39mnexavar\u001b[39m\u001b[39m\"\u001b[39m)\n",
      "\u001b[1;31mTypeError\u001b[0m: tabla_dinamarca() takes 0 positional arguments but 1 was given"
     ]
    }
   ],
   "source": [
    "driver=webdriver.Chrome(options=options)\n",
    "driver.get(url)\n",
    "try:\n",
    "    driver.find_element(By.ID, \"ctl00_ctl07_simpleForm_VirksomtstofBox\").send_keys(\"nexavar\")\n",
    "    driver.find_element(By.ID, \"ctl00_ctl07_simpleForm_SearchButton\").send_keys(Keys.ENTER)\n",
    "    try: \n",
    "        tabla=tabla_dinamarca(driver)\n",
    "    except NoSuchElementException:\n",
    "        driver.find_element(By.ID, \"ctl00_ctl07_simpleForm_LaegemiddelBox\").send_keys(\"nexavar\")\n",
    "        driver.find_element(By.ID, \"ctl00_ctl07_simpleForm_SearchButton\").send_keys(Keys.ENTER)\n",
    "        try:\n",
    "            tabla=tabla_dinamarca(driver)\n",
    "            except NoSuchElementException:\n",
    "            print(\"No se encontró el elemento\")\n",
    "\n",
    "\n",
    "\n",
    "\n"
   ]
  },
  {
   "cell_type": "code",
   "execution_count": 10,
   "metadata": {},
   "outputs": [],
   "source": [
    "producto=[]\n",
    "presentacion=[]\n",
    "precio=[]\n",
    "for i in soup.find_all('div', {'class':'width282'}):\n",
    "    j=i.find_all('table', {'class':'grid'})\n"
   ]
  },
  {
   "cell_type": "code",
   "execution_count": 11,
   "metadata": {},
   "outputs": [],
   "source": [
    "tableprod = soup.find('table', attrs={'id': 'ctl00_ctl07_Results_ResultGridStatic'})\n",
    "tableprecio=soup.find('table', attrs={'id': 'ctl00_ctl07_Results_ResultGridScroll'})\n"
   ]
  },
  {
   "cell_type": "code",
   "execution_count": 12,
   "metadata": {},
   "outputs": [],
   "source": [
    "#obtener rows de las dos tablas\n",
    "rowsprod = tableprod.find_all('tr')\n",
    "rowsprecio=tableprecio.find_all('tr')"
   ]
  },
  {
   "cell_type": "code",
   "execution_count": 13,
   "metadata": {},
   "outputs": [],
   "source": [
    "# And then we can loop through the rows to extract the data\n",
    "caract=[]\n",
    "\n",
    "for row in rowsprod:\n",
    "    columns = row.find_all('td')\n",
    "    for column in columns:\n",
    "        #Append el texto con saltos de 2 en 2\n",
    "        caract.append(column.text)\n",
    "\n",
    "producto=caract[::3]\n",
    "producto=[re.sub(r'\\d+', '', i) for i in producto]\n",
    "presentacion=caract[1::3]\n",
    "paquete=caract[2::3]\n",
    "\n",
    "caract2=[]\n",
    "for row in rowsprecio:\n",
    "    columns = row.find_all('td')\n",
    "    for column in columns:\n",
    "        #Append el texto con saltos de 2 en 2\n",
    "        caract2.append(column.text)\n",
    "\n",
    "#Obtener precio en múltiplos de 5\n",
    "precio=caract2[4::5]\n",
    "#Sustituir coma por punto\n",
    "precio=[re.sub(r',', '.', i) for i in precio]\n"
   ]
  },
  {
   "cell_type": "code",
   "execution_count": 14,
   "metadata": {},
   "outputs": [],
   "source": [
    "def euro():\n",
    "\n",
    "    exchangerates='https://openexchangerates.org/api/latest.json?app_id=52adcacdba9c48ce8430667723c02968&base=USD&symbols=MXN,EUR'\n",
    "    r=requests.get(exchangerates).json()\n",
    "    #Obtener tipos de cambio\n",
    "    euro=r['rates']['MXN']/r['rates']['EUR']\n",
    "    return euro\n"
   ]
  },
  {
   "cell_type": "code",
   "execution_count": 15,
   "metadata": {},
   "outputs": [
    {
     "data": {
      "text/html": [
       "<div>\n",
       "<style scoped>\n",
       "    .dataframe tbody tr th:only-of-type {\n",
       "        vertical-align: middle;\n",
       "    }\n",
       "\n",
       "    .dataframe tbody tr th {\n",
       "        vertical-align: top;\n",
       "    }\n",
       "\n",
       "    .dataframe thead th {\n",
       "        text-align: right;\n",
       "    }\n",
       "</style>\n",
       "<table border=\"1\" class=\"dataframe\">\n",
       "  <thead>\n",
       "    <tr style=\"text-align: right;\">\n",
       "      <th></th>\n",
       "      <th>producto</th>\n",
       "      <th>presenta</th>\n",
       "      <th>paquete</th>\n",
       "      <th>precio</th>\n",
       "      <th>presentacion</th>\n",
       "      <th>cantidad</th>\n",
       "    </tr>\n",
       "  </thead>\n",
       "  <tbody>\n",
       "    <tr>\n",
       "      <th>0</th>\n",
       "      <td>Nexavar</td>\n",
       "      <td>200 mg</td>\n",
       "      <td>112 stk. (blister)filmovertrukne ta ...</td>\n",
       "      <td>66283.96</td>\n",
       "      <td>200</td>\n",
       "      <td>mg</td>\n",
       "    </tr>\n",
       "    <tr>\n",
       "      <th>3</th>\n",
       "      <td>Sorafenib \"Mylan\"</td>\n",
       "      <td>200 mg</td>\n",
       "      <td>112 stk. (blister)filmovertrukne ta ...</td>\n",
       "      <td>62756.20</td>\n",
       "      <td>200</td>\n",
       "      <td>mg</td>\n",
       "    </tr>\n",
       "  </tbody>\n",
       "</table>\n",
       "</div>"
      ],
      "text/plain": [
       "            producto presenta                                  paquete  \\\n",
       "0            Nexavar   200 mg  112 stk. (blister)filmovertrukne ta ...   \n",
       "3  Sorafenib \"Mylan\"   200 mg  112 stk. (blister)filmovertrukne ta ...   \n",
       "\n",
       "     precio presentacion cantidad  \n",
       "0  66283.96          200       mg  \n",
       "3  62756.20          200       mg  "
      ]
     },
     "execution_count": 15,
     "metadata": {},
     "output_type": "execute_result"
    }
   ],
   "source": [
    "df=pd.DataFrame({'producto':producto, 'presenta':presentacion, 'paquete':paquete, 'precio':precio})\n",
    "df[['presentacion','cantidad']]=df.presenta.str.split(\" \",expand=True)\n",
    "df=df[~df.precio.str.contains(\"Discont\")]\n",
    "df[\"precio\"]=df[\"precio\"].astype(float)\n",
    "df[\"precio\"]=round(df[\"precio\"]*euro(),2)\n",
    "df"
   ]
  },
  {
   "cell_type": "code",
   "execution_count": 18,
   "metadata": {},
   "outputs": [
    {
     "name": "stdout",
     "output_type": "stream",
     "text": [
      "Realizando la búsqueda en Farmacias San Pablo de:  sorafenib\n"
     ]
    },
    {
     "data": {
      "text/html": [
       "<div>\n",
       "<style scoped>\n",
       "    .dataframe tbody tr th:only-of-type {\n",
       "        vertical-align: middle;\n",
       "    }\n",
       "\n",
       "    .dataframe tbody tr th {\n",
       "        vertical-align: top;\n",
       "    }\n",
       "\n",
       "    .dataframe thead th {\n",
       "        text-align: right;\n",
       "    }\n",
       "</style>\n",
       "<table border=\"1\" class=\"dataframe\">\n",
       "  <thead>\n",
       "    <tr style=\"text-align: right;\">\n",
       "      <th></th>\n",
       "      <th>producto</th>\n",
       "      <th>precio</th>\n",
       "      <th>hora_consulta</th>\n",
       "      <th>farmacia_corto</th>\n",
       "      <th>busqueda</th>\n",
       "      <th>farmacia</th>\n",
       "      <th>pais</th>\n",
       "      <th>product_name</th>\n",
       "      <th>quantity</th>\n",
       "      <th>unit</th>\n",
       "      <th>presentacion</th>\n",
       "      <th>num_prod</th>\n",
       "    </tr>\n",
       "  </thead>\n",
       "  <tbody>\n",
       "    <tr>\n",
       "      <th>0</th>\n",
       "      <td>nexavar 112 comprimidos caja tesilato de soraf...</td>\n",
       "      <td>73287.0</td>\n",
       "      <td>20:06:16 23/06/2023</td>\n",
       "      <td>fsanpablo</td>\n",
       "      <td>sorafenib</td>\n",
       "      <td>farmacias san pablo</td>\n",
       "      <td>Mexico</td>\n",
       "      <td>nexavar</td>\n",
       "      <td>200.0</td>\n",
       "      <td>mg</td>\n",
       "      <td>tableta</td>\n",
       "      <td>112</td>\n",
       "    </tr>\n",
       "  </tbody>\n",
       "</table>\n",
       "</div>"
      ],
      "text/plain": [
       "                                            producto   precio  \\\n",
       "0  nexavar 112 comprimidos caja tesilato de soraf...  73287.0   \n",
       "\n",
       "         hora_consulta farmacia_corto   busqueda             farmacia    pais  \\\n",
       "0  20:06:16 23/06/2023      fsanpablo  sorafenib  farmacias san pablo  Mexico   \n",
       "\n",
       "  product_name  quantity unit presentacion  num_prod  \n",
       "0      nexavar     200.0   mg      tableta       112  "
      ]
     },
     "execution_count": 18,
     "metadata": {},
     "output_type": "execute_result"
    }
   ],
   "source": [
    "s=medsearch.scraper(\"fsanpablo\",\"sorafenib\")\n",
    "mex=s.show_dataframe()\n",
    "mex"
   ]
  },
  {
   "cell_type": "code",
   "execution_count": 20,
   "metadata": {},
   "outputs": [
    {
     "name": "stdout",
     "output_type": "stream",
     "text": [
      "Diferencial de precio entre México y Dinamarca:  0    7003.04\n",
      "Name: precio, dtype: float64  pesos\n"
     ]
    }
   ],
   "source": [
    "print(\"Diferencial de precio entre México y Dinamarca: \",mex[\"precio\"]-df[\"precio\"][0], \" pesos\")"
   ]
  }
 ],
 "metadata": {
  "kernelspec": {
   "display_name": "base",
   "language": "python",
   "name": "python3"
  },
  "language_info": {
   "codemirror_mode": {
    "name": "ipython",
    "version": 3
   },
   "file_extension": ".py",
   "mimetype": "text/x-python",
   "name": "python",
   "nbconvert_exporter": "python",
   "pygments_lexer": "ipython3",
   "version": "3.10.10"
  },
  "orig_nbformat": 4
 },
 "nbformat": 4,
 "nbformat_minor": 2
}
