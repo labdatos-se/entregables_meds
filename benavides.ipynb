{
 "cells": [
  {
   "cell_type": "code",
   "execution_count": 11,
   "metadata": {},
   "outputs": [],
   "source": [
    "import pandas as pd\n",
    "from bs4 import BeautifulSoup\n",
    "from selenium import webdriver\n",
    "from selenium.webdriver.chrome.service import Service\n",
    "from selenium.webdriver.common.by import By\n",
    "from selenium.webdriver.support.ui import Select\n",
    "from selenium.webdriver.common.keys import Keys\n",
    "import time"
   ]
  },
  {
   "cell_type": "code",
   "execution_count": 12,
   "metadata": {},
   "outputs": [],
   "source": [
    "url=\"https://www.benavides.com.mx/\""
   ]
  },
  {
   "cell_type": "code",
   "execution_count": 13,
   "metadata": {},
   "outputs": [],
   "source": [
    "options=webdriver.ChromeOptions()\n",
    "options.add_argument('--incognito')\n",
    "options.add_argument('--disable-blink-features=AutomationControlled')\n",
    "options.add_argument('--disable-cache')\n",
    "options.add_argument('--disable-cookies')"
   ]
  },
  {
   "cell_type": "code",
   "execution_count": 14,
   "metadata": {},
   "outputs": [],
   "source": [
    "driver=webdriver.Chrome(options=options)\n",
    "driver.get(url)"
   ]
  },
  {
   "cell_type": "code",
   "execution_count": 15,
   "metadata": {},
   "outputs": [],
   "source": [
    "driver.find_element(By.ID, \"minisearch-input-top-search\").send_keys(\"imatinib\")\n",
    "#Dar enter a la busqueda\n",
    "driver.find_element(By.ID, \"minisearch-input-top-search\").send_keys(Keys.ENTER)\n",
    "time.sleep(10)\n",
    "soup=BeautifulSoup(driver.page_source, 'html.parser')\n",
    "try:\n",
    "    condicion=soup.find('div', class_='message notice').get_text().strip()\n",
    "    #Si condicion no es vacio, entonces no hay resultados\n",
    "    if not condicion:\n",
    "        pass\n",
    "    else:\n",
    "        combo = driver.find_element(By.ID, \"limiter\")\n",
    "        combo_select = Select(combo)\n",
    "        combo_select.select_by_visible_text(\"36\")\n",
    "        results=soup.find_all('div', class_='product-item-info')\n",
    "except:\n",
    "    pass\n"
   ]
  },
  {
   "cell_type": "code",
   "execution_count": 16,
   "metadata": {},
   "outputs": [],
   "source": [
    "#soup=BeautifulSoup(driver.page_source, 'html.parser')"
   ]
  },
  {
   "cell_type": "code",
   "execution_count": 17,
   "metadata": {},
   "outputs": [
    {
     "ename": "NameError",
     "evalue": "name 'results' is not defined",
     "output_type": "error",
     "traceback": [
      "\u001b[1;31m---------------------------------------------------------------------------\u001b[0m",
      "\u001b[1;31mNameError\u001b[0m                                 Traceback (most recent call last)",
      "Cell \u001b[1;32mIn[17], line 5\u001b[0m\n\u001b[0;32m      3\u001b[0m presentacion\u001b[39m=\u001b[39m[]\n\u001b[0;32m      4\u001b[0m precio\u001b[39m=\u001b[39m[]\n\u001b[1;32m----> 5\u001b[0m \u001b[39mfor\u001b[39;00m result \u001b[39min\u001b[39;00m results:\n\u001b[0;32m      6\u001b[0m     url\u001b[39m=\u001b[39mresult\u001b[39m.\u001b[39mfind(\u001b[39m'\u001b[39m\u001b[39ma\u001b[39m\u001b[39m'\u001b[39m)[\u001b[39m'\u001b[39m\u001b[39mhref\u001b[39m\u001b[39m'\u001b[39m]\n\u001b[0;32m      7\u001b[0m     urls\u001b[39m.\u001b[39mappend(url)\n",
      "\u001b[1;31mNameError\u001b[0m: name 'results' is not defined"
     ]
    }
   ],
   "source": [
    "#Obtener urls\n",
    "urls=[]\n",
    "presentacion=[]\n",
    "precio=[]\n",
    "for result in results:\n",
    "    url=result.find('a')['href']\n",
    "    urls.append(url)\n",
    "    presentacion.append(result.find('div', class_='product-item-presentation').text)\n",
    "    precio.append(result.find('span', class_='price').text)\n",
    "urls=[url.split('/')[-1] for url in urls]      \n",
    "urls=[url.replace('-', ' ') for url in urls]\n",
    "urls=[url.split('.')[0] for url in urls]\n",
    "presentacion=[presentacion.replace('\\n', '') for presentacion in presentacion]\n",
    "#Eliminar espacios adelante y atras\n",
    "presentacion=[presentacion.strip() for presentacion in presentacion]\n"
   ]
  },
  {
   "cell_type": "code",
   "execution_count": null,
   "metadata": {},
   "outputs": [
    {
     "data": {
      "text/html": [
       "<div>\n",
       "<style scoped>\n",
       "    .dataframe tbody tr th:only-of-type {\n",
       "        vertical-align: middle;\n",
       "    }\n",
       "\n",
       "    .dataframe tbody tr th {\n",
       "        vertical-align: top;\n",
       "    }\n",
       "\n",
       "    .dataframe thead th {\n",
       "        text-align: right;\n",
       "    }\n",
       "</style>\n",
       "<table border=\"1\" class=\"dataframe\">\n",
       "  <thead>\n",
       "    <tr style=\"text-align: right;\">\n",
       "      <th></th>\n",
       "      <th>producto</th>\n",
       "      <th>presentacion</th>\n",
       "      <th>precio</th>\n",
       "    </tr>\n",
       "  </thead>\n",
       "  <tbody>\n",
       "    <tr>\n",
       "      <th>0</th>\n",
       "      <td>nesajar 100 mg 300 mg 16 capsulas</td>\n",
       "      <td>16 ud Cápsulas</td>\n",
       "      <td>$224.00</td>\n",
       "    </tr>\n",
       "    <tr>\n",
       "      <th>1</th>\n",
       "      <td>naxifelar infantil 250 mg 100 ml susp</td>\n",
       "      <td>100 ml Suspensión</td>\n",
       "      <td>$394.00</td>\n",
       "    </tr>\n",
       "    <tr>\n",
       "      <th>2</th>\n",
       "      <td>naxifelar 500 mg 20 cpsulas</td>\n",
       "      <td>20 ud Cápsulas</td>\n",
       "      <td>$413.00</td>\n",
       "    </tr>\n",
       "  </tbody>\n",
       "</table>\n",
       "</div>"
      ],
      "text/plain": [
       "                                producto       presentacion   precio\n",
       "0      nesajar 100 mg 300 mg 16 capsulas     16 ud Cápsulas  $224.00\n",
       "1  naxifelar infantil 250 mg 100 ml susp  100 ml Suspensión  $394.00\n",
       "2            naxifelar 500 mg 20 cpsulas     20 ud Cápsulas  $413.00"
      ]
     },
     "execution_count": 40,
     "metadata": {},
     "output_type": "execute_result"
    }
   ],
   "source": [
    "df=pd.DataFrame({'producto':urls, 'presentacion':presentacion, 'precio':precio})\n",
    "df"
   ]
  }
 ],
 "metadata": {
  "kernelspec": {
   "display_name": "base",
   "language": "python",
   "name": "python3"
  },
  "language_info": {
   "codemirror_mode": {
    "name": "ipython",
    "version": 3
   },
   "file_extension": ".py",
   "mimetype": "text/x-python",
   "name": "python",
   "nbconvert_exporter": "python",
   "pygments_lexer": "ipython3",
   "version": "3.10.10"
  },
  "orig_nbformat": 4
 },
 "nbformat": 4,
 "nbformat_minor": 2
}
