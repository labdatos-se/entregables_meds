{
 "cells": [
  {
   "cell_type": "code",
   "execution_count": 16,
   "metadata": {},
   "outputs": [],
   "source": [
    "import pandas as pd\n",
    "import requests\n",
    "import json"
   ]
  },
  {
   "cell_type": "code",
   "execution_count": 17,
   "metadata": {},
   "outputs": [],
   "source": [
    "url=\"https://www.drogueriascolsubsidio.com/api/catalog_system/pub/products/search?ft=metotrexato&_from=1&_to=41&sm=0&O=OrderByReleaseDateDESC\""
   ]
  },
  {
   "cell_type": "code",
   "execution_count": 18,
   "metadata": {},
   "outputs": [],
   "source": [
    "r=requests.get(url)"
   ]
  },
  {
   "cell_type": "code",
   "execution_count": 19,
   "metadata": {},
   "outputs": [
    {
     "data": {
      "text/plain": [
       "200"
      ]
     },
     "execution_count": 19,
     "metadata": {},
     "output_type": "execute_result"
    }
   ],
   "source": [
    "r.status_code"
   ]
  },
  {
   "cell_type": "code",
   "execution_count": 20,
   "metadata": {},
   "outputs": [],
   "source": [
    "data=r.json()"
   ]
  },
  {
   "cell_type": "code",
   "execution_count": 21,
   "metadata": {},
   "outputs": [],
   "source": [
    "productos=[]\n",
    "unidades=[]\n",
    "pum=[]\n",
    "for i in range(len(data)):\n",
    "    productos.append(data[i][\"productName\"])\n",
    "    unidades.append(data[i][\"Unidades\"])\n",
    "    pum.append(data[i][\"PUM\"])"
   ]
  },
  {
   "cell_type": "code",
   "execution_count": 22,
   "metadata": {},
   "outputs": [
    {
     "data": {
      "text/plain": [
       "[['Comprimido a $1.624,50']]"
      ]
     },
     "execution_count": 22,
     "metadata": {},
     "output_type": "execute_result"
    }
   ],
   "source": [
    "pum"
   ]
  },
  {
   "cell_type": "code",
   "execution_count": 23,
   "metadata": {},
   "outputs": [
    {
     "name": "stderr",
     "output_type": "stream",
     "text": [
      "C:\\Users\\claudio.pacheco\\AppData\\Local\\Temp\\ipykernel_4764\\3859119003.py:8: FutureWarning: The default value of regex will change from True to False in a future version. In addition, single character regular expressions will *not* be treated as literal strings when regex=True.\n",
      "  df[\"pum\"]=df[\"pum\"].str.replace(\".\",\"\")\n"
     ]
    }
   ],
   "source": [
    "#Llevar datos a un dataframe\n",
    "df=pd.DataFrame({\"producto\":productos,\"unidades\":unidades,\"pum\":pum})\n",
    "#Eliminar corchetes de las columnas unidades y pum\n",
    "\n",
    "df[\"unidades\"]=df[\"unidades\"].str[0]   \n",
    "df[\"pum\"]=df[\"pum\"].str[0]\n",
    "#Eliminar puntos de pum\n",
    "df[\"pum\"]=df[\"pum\"].str.replace(\".\",\"\")\n",
    "#Cambiar coma por punto en pum\n",
    "df[\"pum\"]=df[\"pum\"].str.replace(\",\",\".\")\n",
    "#Dejar solo números con decimales en columna pum\n",
    "df[\"pum\"]=df[\"pum\"].str.extract(\"(\\d+\\.\\d+)\")\n",
    "#Convertir a float unidades y pum\n",
    "df[\"unidades\"]=df[\"unidades\"].astype(float)\n",
    "df[\"pum\"]=df[\"pum\"].astype(float)\n",
    "#Crear columna con el precio total\n",
    "df[\"precio_total\"]=df[\"unidades\"]*df[\"pum\"]\n"
   ]
  },
  {
   "cell_type": "code",
   "execution_count": 24,
   "metadata": {},
   "outputs": [
    {
     "data": {
      "text/html": [
       "<div>\n",
       "<style scoped>\n",
       "    .dataframe tbody tr th:only-of-type {\n",
       "        vertical-align: middle;\n",
       "    }\n",
       "\n",
       "    .dataframe tbody tr th {\n",
       "        vertical-align: top;\n",
       "    }\n",
       "\n",
       "    .dataframe thead th {\n",
       "        text-align: right;\n",
       "    }\n",
       "</style>\n",
       "<table border=\"1\" class=\"dataframe\">\n",
       "  <thead>\n",
       "    <tr style=\"text-align: right;\">\n",
       "      <th></th>\n",
       "      <th>producto</th>\n",
       "      <th>unidades</th>\n",
       "      <th>pum</th>\n",
       "      <th>precio_total</th>\n",
       "    </tr>\n",
       "  </thead>\n",
       "  <tbody>\n",
       "    <tr>\n",
       "      <th>0</th>\n",
       "      <td>CAJA - Metotrexato 2.5mg Tableta</td>\n",
       "      <td>100.0</td>\n",
       "      <td>1624.5</td>\n",
       "      <td>162450.0</td>\n",
       "    </tr>\n",
       "  </tbody>\n",
       "</table>\n",
       "</div>"
      ],
      "text/plain": [
       "                           producto  unidades     pum  precio_total\n",
       "0  CAJA - Metotrexato 2.5mg Tableta     100.0  1624.5      162450.0"
      ]
     },
     "execution_count": 24,
     "metadata": {},
     "output_type": "execute_result"
    }
   ],
   "source": [
    "df"
   ]
  },
  {
   "cell_type": "code",
   "execution_count": 25,
   "metadata": {},
   "outputs": [
    {
     "data": {
      "text/html": [
       "<div>\n",
       "<style scoped>\n",
       "    .dataframe tbody tr th:only-of-type {\n",
       "        vertical-align: middle;\n",
       "    }\n",
       "\n",
       "    .dataframe tbody tr th {\n",
       "        vertical-align: top;\n",
       "    }\n",
       "\n",
       "    .dataframe thead th {\n",
       "        text-align: right;\n",
       "    }\n",
       "</style>\n",
       "<table border=\"1\" class=\"dataframe\">\n",
       "  <thead>\n",
       "    <tr style=\"text-align: right;\">\n",
       "      <th></th>\n",
       "      <th>producto</th>\n",
       "      <th>unidades</th>\n",
       "      <th>pum</th>\n",
       "      <th>precio_total</th>\n",
       "    </tr>\n",
       "  </thead>\n",
       "  <tbody>\n",
       "    <tr>\n",
       "      <th>0</th>\n",
       "      <td>CAJA - Metotrexato 2.5mg Tableta</td>\n",
       "      <td>100.0</td>\n",
       "      <td>1624.5</td>\n",
       "      <td>162450.0</td>\n",
       "    </tr>\n",
       "  </tbody>\n",
       "</table>\n",
       "</div>"
      ],
      "text/plain": [
       "                           producto  unidades     pum  precio_total\n",
       "0  CAJA - Metotrexato 2.5mg Tableta     100.0  1624.5      162450.0"
      ]
     },
     "execution_count": 25,
     "metadata": {},
     "output_type": "execute_result"
    }
   ],
   "source": [
    "df"
   ]
  },
  {
   "attachments": {},
   "cell_type": "markdown",
   "metadata": {},
   "source": [
    "### La rebaja"
   ]
  },
  {
   "cell_type": "code",
   "execution_count": 64,
   "metadata": {},
   "outputs": [],
   "source": [
    "rebaja=\"https://www.larebajavirtual.com/metotrexato?_q=metotrexato&map=ft&page=2&__pickRuntime=appsEtag%2Cblocks%2CblocksTree%2Ccomponents%2CcontentMap%2Cextensions%2Cmessages%2Cpage%2Cpages%2Cquery%2CqueryData%2Croute%2CruntimeMeta%2Csettings&__device=desktop\""
   ]
  },
  {
   "cell_type": "code",
   "execution_count": 65,
   "metadata": {},
   "outputs": [],
   "source": [
    "# Make the GET request\n",
    "r = requests.get(rebaja)\n",
    "\n",
    "# Parse the response data\n",
    "data = json.loads(r.json()[\"queryData\"][0][\"data\"])"
   ]
  },
  {
   "cell_type": "code",
   "execution_count": 66,
   "metadata": {},
   "outputs": [],
   "source": [
    "especifica=data[\"productSearch\"][\"products\"]"
   ]
  },
  {
   "cell_type": "code",
   "execution_count": 67,
   "metadata": {},
   "outputs": [],
   "source": [
    "productos=[]\n",
    "precios=[]\n",
    "#cantidad=[]\n",
    "\n",
    "for i in range(len(especifica)):\n",
    "    productos.append(especifica[i][\"productName\"])\n",
    "    precios.append(especifica[i][\"items\"][0][\"sellers\"][0][\"commertialOffer\"][\"Price\"])\n",
    "    #cantidad.append(especifica[i][\"specificationGroups\"][7][\"specifications\"][7][\"values\"])\n",
    "    "
   ]
  },
  {
   "cell_type": "code",
   "execution_count": 68,
   "metadata": {},
   "outputs": [],
   "source": [
    "df=pd.DataFrame({\"producto\":productos,\"precio\":precios})\n"
   ]
  },
  {
   "cell_type": "code",
   "execution_count": 69,
   "metadata": {},
   "outputs": [
    {
     "data": {
      "text/html": [
       "<div>\n",
       "<style scoped>\n",
       "    .dataframe tbody tr th:only-of-type {\n",
       "        vertical-align: middle;\n",
       "    }\n",
       "\n",
       "    .dataframe tbody tr th {\n",
       "        vertical-align: top;\n",
       "    }\n",
       "\n",
       "    .dataframe thead th {\n",
       "        text-align: right;\n",
       "    }\n",
       "</style>\n",
       "<table border=\"1\" class=\"dataframe\">\n",
       "  <thead>\n",
       "    <tr style=\"text-align: right;\">\n",
       "      <th></th>\n",
       "      <th>producto</th>\n",
       "      <th>precio</th>\n",
       "    </tr>\n",
       "  </thead>\n",
       "  <tbody>\n",
       "  </tbody>\n",
       "</table>\n",
       "</div>"
      ],
      "text/plain": [
       "Empty DataFrame\n",
       "Columns: [producto, precio]\n",
       "Index: []"
      ]
     },
     "execution_count": 69,
     "metadata": {},
     "output_type": "execute_result"
    }
   ],
   "source": [
    "df"
   ]
  },
  {
   "cell_type": "code",
   "execution_count": 70,
   "metadata": {},
   "outputs": [],
   "source": [
    "who=\"https://www.whocc.no/atc_ddd_index/?code=A02AB&showdescription=no\""
   ]
  }
 ],
 "metadata": {
  "kernelspec": {
   "display_name": "base",
   "language": "python",
   "name": "python3"
  },
  "language_info": {
   "codemirror_mode": {
    "name": "ipython",
    "version": 3
   },
   "file_extension": ".py",
   "mimetype": "text/x-python",
   "name": "python",
   "nbconvert_exporter": "python",
   "pygments_lexer": "ipython3",
   "version": "3.10.10"
  },
  "orig_nbformat": 4
 },
 "nbformat": 4,
 "nbformat_minor": 2
}
