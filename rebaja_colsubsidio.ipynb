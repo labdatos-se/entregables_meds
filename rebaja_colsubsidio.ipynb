{
 "cells": [
  {
   "cell_type": "code",
   "execution_count": 1,
   "metadata": {},
   "outputs": [],
   "source": [
    "import pandas as pd\n",
    "import requests\n",
    "import json"
   ]
  },
  {
   "cell_type": "code",
   "execution_count": 71,
   "metadata": {},
   "outputs": [],
   "source": [
    "url=\"https://www.drogueriascolsubsidio.com/api/catalog_system/pub/products/search?ft=aspirina&_from=1&_to=41&sm=0&O=OrderByReleaseDateDESC\""
   ]
  },
  {
   "cell_type": "code",
   "execution_count": 72,
   "metadata": {},
   "outputs": [],
   "source": [
    "r=requests.get(url)"
   ]
  },
  {
   "cell_type": "code",
   "execution_count": 73,
   "metadata": {},
   "outputs": [],
   "source": [
    "data=r.json(\n",
    ")"
   ]
  },
  {
   "cell_type": "code",
   "execution_count": 22,
   "metadata": {},
   "outputs": [],
   "source": [
    "productos=[]\n",
    "unidades=[]\n",
    "pum=[]\n",
    "for i in range(len(data)):\n",
    "    productos.append(data[i][\"productName\"])\n",
    "    unidades.append(data[i][\"Unidades\"])\n",
    "    pum.append(data[i][\"PUM\"])"
   ]
  },
  {
   "cell_type": "code",
   "execution_count": 59,
   "metadata": {},
   "outputs": [
    {
     "data": {
      "text/plain": [
       "32490.0"
      ]
     },
     "execution_count": 59,
     "metadata": {},
     "output_type": "execute_result"
    }
   ],
   "source": [
    "data[0][\"items\"][0][\"sellers\"][0][\"commertialOffer\"][\"Installments\"][0][\"Value\"]"
   ]
  },
  {
   "cell_type": "code",
   "execution_count": 74,
   "metadata": {},
   "outputs": [],
   "source": [
    "datos=[]\n",
    "for i in data:\n",
    "    info={}\n",
    "    info['producto']=i.get('productName')\n",
    "    info['unidades']=i.get('Unidades')\n",
    "    precio = i[\"items\"][0][\"sellers\"][0][\"commertialOffer\"][\"Installments\"][0][\"Value\"]\n",
    "    info['precio']=precio\n",
    "\n",
    "    datos.append(info)\n",
    "    \n"
   ]
  },
  {
   "cell_type": "code",
   "execution_count": 75,
   "metadata": {},
   "outputs": [
    {
     "data": {
      "text/plain": [
       "[{'producto': 'Cafiaspirina Forte 650 / 65 mg Tabletas',\n",
       "  'unidades': ['12.000'],\n",
       "  'precio': 15600.0},\n",
       " {'producto': 'Cafiaspirina Forte 650/65mg Tabletas',\n",
       "  'unidades': ['36.000'],\n",
       "  'precio': 42300.0},\n",
       " {'producto': 'Aspirina 100mg Tableta',\n",
       "  'unidades': ['140.000'],\n",
       "  'precio': 14060.0},\n",
       " {'producto': 'Aspirina 100 mg Tableta',\n",
       "  'unidades': ['14.000'],\n",
       "  'precio': 16050.0},\n",
       " {'producto': 'Aspirina 500 Mg Tableta Efervescente',\n",
       "  'unidades': ['12.000'],\n",
       "  'precio': 11475.0},\n",
       " {'producto': 'Aspirina 500 Mg Tableta Efervescente',\n",
       "  'unidades': ['50.000'],\n",
       "  'precio': 1962.0},\n",
       " {'producto': 'Cardioaspirina 100 Mg Tableta Con Cubierta Enterica',\n",
       "  'unidades': ['30.000'],\n",
       "  'precio': 50250.0},\n",
       " {'producto': 'Cardioaspirina 81 Mg Tableta Con Cubierta Enterica',\n",
       "  'unidades': ['30.000'],\n",
       "  'precio': 46900.0},\n",
       " {'producto': 'Aspirina Ultra 500 mg Tableta Recubierta',\n",
       "  'unidades': ['100.000'],\n",
       "  'precio': 2510.0},\n",
       " {'producto': 'Aspirina Ultra 500 Mg Tableta Recubierta',\n",
       "  'unidades': ['20.000'],\n",
       "  'precio': 16100.0}]"
      ]
     },
     "execution_count": 75,
     "metadata": {},
     "output_type": "execute_result"
    }
   ],
   "source": [
    "datos"
   ]
  },
  {
   "cell_type": "code",
   "execution_count": null,
   "metadata": {},
   "outputs": [],
   "source": []
  },
  {
   "cell_type": "code",
   "execution_count": 83,
   "metadata": {},
   "outputs": [
    {
     "data": {
      "text/html": [
       "<div>\n",
       "<style scoped>\n",
       "    .dataframe tbody tr th:only-of-type {\n",
       "        vertical-align: middle;\n",
       "    }\n",
       "\n",
       "    .dataframe tbody tr th {\n",
       "        vertical-align: top;\n",
       "    }\n",
       "\n",
       "    .dataframe thead th {\n",
       "        text-align: right;\n",
       "    }\n",
       "</style>\n",
       "<table border=\"1\" class=\"dataframe\">\n",
       "  <thead>\n",
       "    <tr style=\"text-align: right;\">\n",
       "      <th></th>\n",
       "      <th>producto</th>\n",
       "      <th>precio</th>\n",
       "    </tr>\n",
       "  </thead>\n",
       "  <tbody>\n",
       "    <tr>\n",
       "      <th>0</th>\n",
       "      <td>Cafiaspirina Forte 650 / 65 mg Tabletas</td>\n",
       "      <td>16100.0</td>\n",
       "    </tr>\n",
       "    <tr>\n",
       "      <th>1</th>\n",
       "      <td>Cafiaspirina Forte 650/65mg Tabletas</td>\n",
       "      <td>16100.0</td>\n",
       "    </tr>\n",
       "    <tr>\n",
       "      <th>2</th>\n",
       "      <td>Aspirina 100mg Tableta</td>\n",
       "      <td>16100.0</td>\n",
       "    </tr>\n",
       "    <tr>\n",
       "      <th>3</th>\n",
       "      <td>Aspirina 100 mg Tableta</td>\n",
       "      <td>16100.0</td>\n",
       "    </tr>\n",
       "    <tr>\n",
       "      <th>4</th>\n",
       "      <td>Aspirina 500 Mg Tableta Efervescente</td>\n",
       "      <td>16100.0</td>\n",
       "    </tr>\n",
       "    <tr>\n",
       "      <th>5</th>\n",
       "      <td>Aspirina 500 Mg Tableta Efervescente</td>\n",
       "      <td>16100.0</td>\n",
       "    </tr>\n",
       "    <tr>\n",
       "      <th>6</th>\n",
       "      <td>Cardioaspirina 100 Mg Tableta Con Cubierta Ent...</td>\n",
       "      <td>16100.0</td>\n",
       "    </tr>\n",
       "    <tr>\n",
       "      <th>7</th>\n",
       "      <td>Cardioaspirina 81 Mg Tableta Con Cubierta Ente...</td>\n",
       "      <td>16100.0</td>\n",
       "    </tr>\n",
       "    <tr>\n",
       "      <th>8</th>\n",
       "      <td>Aspirina Ultra 500 mg Tableta Recubierta</td>\n",
       "      <td>16100.0</td>\n",
       "    </tr>\n",
       "    <tr>\n",
       "      <th>9</th>\n",
       "      <td>Aspirina Ultra 500 Mg Tableta Recubierta</td>\n",
       "      <td>16100.0</td>\n",
       "    </tr>\n",
       "  </tbody>\n",
       "</table>\n",
       "</div>"
      ],
      "text/plain": [
       "                                            producto   precio\n",
       "0            Cafiaspirina Forte 650 / 65 mg Tabletas  16100.0\n",
       "1               Cafiaspirina Forte 650/65mg Tabletas  16100.0\n",
       "2                             Aspirina 100mg Tableta  16100.0\n",
       "3                            Aspirina 100 mg Tableta  16100.0\n",
       "4               Aspirina 500 Mg Tableta Efervescente  16100.0\n",
       "5               Aspirina 500 Mg Tableta Efervescente  16100.0\n",
       "6  Cardioaspirina 100 Mg Tableta Con Cubierta Ent...  16100.0\n",
       "7  Cardioaspirina 81 Mg Tableta Con Cubierta Ente...  16100.0\n",
       "8           Aspirina Ultra 500 mg Tableta Recubierta  16100.0\n",
       "9           Aspirina Ultra 500 Mg Tableta Recubierta  16100.0"
      ]
     },
     "execution_count": 83,
     "metadata": {},
     "output_type": "execute_result"
    }
   ],
   "source": [
    "#Llevar datos a un dataframe\n",
    "df=pd.DataFrame({\"producto\":productos,\"precio\":precio})\n",
    "df"
   ]
  },
  {
   "cell_type": "code",
   "execution_count": 85,
   "metadata": {},
   "outputs": [
    {
     "data": {
      "text/html": [
       "<div>\n",
       "<style scoped>\n",
       "    .dataframe tbody tr th:only-of-type {\n",
       "        vertical-align: middle;\n",
       "    }\n",
       "\n",
       "    .dataframe tbody tr th {\n",
       "        vertical-align: top;\n",
       "    }\n",
       "\n",
       "    .dataframe thead th {\n",
       "        text-align: right;\n",
       "    }\n",
       "</style>\n",
       "<table border=\"1\" class=\"dataframe\">\n",
       "  <thead>\n",
       "    <tr style=\"text-align: right;\">\n",
       "      <th></th>\n",
       "      <th>producto</th>\n",
       "      <th>precio</th>\n",
       "    </tr>\n",
       "  </thead>\n",
       "  <tbody>\n",
       "    <tr>\n",
       "      <th>0</th>\n",
       "      <td>Cafiaspirina Forte 650 / 65 mg Tabletas</td>\n",
       "      <td>16100.0</td>\n",
       "    </tr>\n",
       "    <tr>\n",
       "      <th>1</th>\n",
       "      <td>Cafiaspirina Forte 650/65mg Tabletas</td>\n",
       "      <td>16100.0</td>\n",
       "    </tr>\n",
       "    <tr>\n",
       "      <th>2</th>\n",
       "      <td>Aspirina 100mg Tableta</td>\n",
       "      <td>16100.0</td>\n",
       "    </tr>\n",
       "    <tr>\n",
       "      <th>3</th>\n",
       "      <td>Aspirina 100 mg Tableta</td>\n",
       "      <td>16100.0</td>\n",
       "    </tr>\n",
       "    <tr>\n",
       "      <th>4</th>\n",
       "      <td>Aspirina 500 Mg Tableta Efervescente</td>\n",
       "      <td>16100.0</td>\n",
       "    </tr>\n",
       "    <tr>\n",
       "      <th>5</th>\n",
       "      <td>Aspirina 500 Mg Tableta Efervescente</td>\n",
       "      <td>16100.0</td>\n",
       "    </tr>\n",
       "    <tr>\n",
       "      <th>6</th>\n",
       "      <td>Cardioaspirina 100 Mg Tableta Con Cubierta Ent...</td>\n",
       "      <td>16100.0</td>\n",
       "    </tr>\n",
       "    <tr>\n",
       "      <th>7</th>\n",
       "      <td>Cardioaspirina 81 Mg Tableta Con Cubierta Ente...</td>\n",
       "      <td>16100.0</td>\n",
       "    </tr>\n",
       "    <tr>\n",
       "      <th>8</th>\n",
       "      <td>Aspirina Ultra 500 mg Tableta Recubierta</td>\n",
       "      <td>16100.0</td>\n",
       "    </tr>\n",
       "    <tr>\n",
       "      <th>9</th>\n",
       "      <td>Aspirina Ultra 500 Mg Tableta Recubierta</td>\n",
       "      <td>16100.0</td>\n",
       "    </tr>\n",
       "  </tbody>\n",
       "</table>\n",
       "</div>"
      ],
      "text/plain": [
       "                                            producto   precio\n",
       "0            Cafiaspirina Forte 650 / 65 mg Tabletas  16100.0\n",
       "1               Cafiaspirina Forte 650/65mg Tabletas  16100.0\n",
       "2                             Aspirina 100mg Tableta  16100.0\n",
       "3                            Aspirina 100 mg Tableta  16100.0\n",
       "4               Aspirina 500 Mg Tableta Efervescente  16100.0\n",
       "5               Aspirina 500 Mg Tableta Efervescente  16100.0\n",
       "6  Cardioaspirina 100 Mg Tableta Con Cubierta Ent...  16100.0\n",
       "7  Cardioaspirina 81 Mg Tableta Con Cubierta Ente...  16100.0\n",
       "8           Aspirina Ultra 500 mg Tableta Recubierta  16100.0\n",
       "9           Aspirina Ultra 500 Mg Tableta Recubierta  16100.0"
      ]
     },
     "execution_count": 85,
     "metadata": {},
     "output_type": "execute_result"
    }
   ],
   "source": [
    "#Llevar datos a un dataframe\n",
    "df=pd.DataFrame({\"producto\":productos,\"precio\":precio})\n",
    "#Eliminar corchetes de las columnas unidades y pum\n",
    "#Cambiar coma por punto en pum\n",
    "#df[\"precio\"]=df[\"precio\"].str.replace(\",\",\".\")\n",
    "#Convertir a float unidades y pum\n",
    "#df[\"unidades\"]=df[\"unidades\"].astype(float)\n",
    "df[\"precio\"]=df[\"precio\"].astype(float)\n",
    "df\n"
   ]
  },
  {
   "cell_type": "code",
   "execution_count": 86,
   "metadata": {},
   "outputs": [
    {
     "name": "stdout",
     "output_type": "stream",
     "text": [
      "<class 'pandas.core.frame.DataFrame'>\n",
      "RangeIndex: 10 entries, 0 to 9\n",
      "Data columns (total 2 columns):\n",
      " #   Column    Non-Null Count  Dtype  \n",
      "---  ------    --------------  -----  \n",
      " 0   producto  10 non-null     object \n",
      " 1   precio    10 non-null     float64\n",
      "dtypes: float64(1), object(1)\n",
      "memory usage: 288.0+ bytes\n"
     ]
    }
   ],
   "source": [
    "df.info()"
   ]
  },
  {
   "cell_type": "code",
   "execution_count": 25,
   "metadata": {},
   "outputs": [
    {
     "data": {
      "text/html": [
       "<div>\n",
       "<style scoped>\n",
       "    .dataframe tbody tr th:only-of-type {\n",
       "        vertical-align: middle;\n",
       "    }\n",
       "\n",
       "    .dataframe tbody tr th {\n",
       "        vertical-align: top;\n",
       "    }\n",
       "\n",
       "    .dataframe thead th {\n",
       "        text-align: right;\n",
       "    }\n",
       "</style>\n",
       "<table border=\"1\" class=\"dataframe\">\n",
       "  <thead>\n",
       "    <tr style=\"text-align: right;\">\n",
       "      <th></th>\n",
       "      <th>producto</th>\n",
       "      <th>unidades</th>\n",
       "      <th>pum</th>\n",
       "      <th>precio_total</th>\n",
       "    </tr>\n",
       "  </thead>\n",
       "  <tbody>\n",
       "    <tr>\n",
       "      <th>0</th>\n",
       "      <td>CAJA - Metotrexato 2.5mg Tableta</td>\n",
       "      <td>100.0</td>\n",
       "      <td>1624.5</td>\n",
       "      <td>162450.0</td>\n",
       "    </tr>\n",
       "  </tbody>\n",
       "</table>\n",
       "</div>"
      ],
      "text/plain": [
       "                           producto  unidades     pum  precio_total\n",
       "0  CAJA - Metotrexato 2.5mg Tableta     100.0  1624.5      162450.0"
      ]
     },
     "execution_count": 25,
     "metadata": {},
     "output_type": "execute_result"
    }
   ],
   "source": [
    "df"
   ]
  },
  {
   "attachments": {},
   "cell_type": "markdown",
   "metadata": {},
   "source": [
    "### La rebaja"
   ]
  },
  {
   "cell_type": "code",
   "execution_count": 64,
   "metadata": {},
   "outputs": [],
   "source": [
    "rebaja=\"https://www.larebajavirtual.com/metotrexato?_q=metotrexato&map=ft&page=2&__pickRuntime=appsEtag%2Cblocks%2CblocksTree%2Ccomponents%2CcontentMap%2Cextensions%2Cmessages%2Cpage%2Cpages%2Cquery%2CqueryData%2Croute%2CruntimeMeta%2Csettings&__device=desktop\""
   ]
  },
  {
   "cell_type": "code",
   "execution_count": 65,
   "metadata": {},
   "outputs": [],
   "source": [
    "# Make the GET request\n",
    "r = requests.get(rebaja)\n",
    "\n",
    "# Parse the response data\n",
    "data = json.loads(r.json()[\"queryData\"][0][\"data\"])"
   ]
  },
  {
   "cell_type": "code",
   "execution_count": 66,
   "metadata": {},
   "outputs": [],
   "source": [
    "especifica=data[\"productSearch\"][\"products\"]"
   ]
  },
  {
   "cell_type": "code",
   "execution_count": 67,
   "metadata": {},
   "outputs": [],
   "source": [
    "productos=[]\n",
    "precios=[]\n",
    "#cantidad=[]\n",
    "\n",
    "for i in range(len(especifica)):\n",
    "    productos.append(especifica[i][\"productName\"])\n",
    "    precios.append(especifica[i][\"items\"][0][\"sellers\"][0][\"commertialOffer\"][\"Price\"])\n",
    "    #cantidad.append(especifica[i][\"specificationGroups\"][7][\"specifications\"][7][\"values\"])\n",
    "    "
   ]
  },
  {
   "cell_type": "code",
   "execution_count": 68,
   "metadata": {},
   "outputs": [],
   "source": [
    "df=pd.DataFrame({\"producto\":productos,\"precio\":precios})\n"
   ]
  },
  {
   "cell_type": "code",
   "execution_count": 69,
   "metadata": {},
   "outputs": [
    {
     "data": {
      "text/html": [
       "<div>\n",
       "<style scoped>\n",
       "    .dataframe tbody tr th:only-of-type {\n",
       "        vertical-align: middle;\n",
       "    }\n",
       "\n",
       "    .dataframe tbody tr th {\n",
       "        vertical-align: top;\n",
       "    }\n",
       "\n",
       "    .dataframe thead th {\n",
       "        text-align: right;\n",
       "    }\n",
       "</style>\n",
       "<table border=\"1\" class=\"dataframe\">\n",
       "  <thead>\n",
       "    <tr style=\"text-align: right;\">\n",
       "      <th></th>\n",
       "      <th>producto</th>\n",
       "      <th>precio</th>\n",
       "    </tr>\n",
       "  </thead>\n",
       "  <tbody>\n",
       "  </tbody>\n",
       "</table>\n",
       "</div>"
      ],
      "text/plain": [
       "Empty DataFrame\n",
       "Columns: [producto, precio]\n",
       "Index: []"
      ]
     },
     "execution_count": 69,
     "metadata": {},
     "output_type": "execute_result"
    }
   ],
   "source": [
    "df"
   ]
  }
 ],
 "metadata": {
  "kernelspec": {
   "display_name": "base",
   "language": "python",
   "name": "python3"
  },
  "language_info": {
   "codemirror_mode": {
    "name": "ipython",
    "version": 3
   },
   "file_extension": ".py",
   "mimetype": "text/x-python",
   "name": "python",
   "nbconvert_exporter": "python",
   "pygments_lexer": "ipython3",
   "version": "3.10.10"
  },
  "orig_nbformat": 4
 },
 "nbformat": 4,
 "nbformat_minor": 2
}
