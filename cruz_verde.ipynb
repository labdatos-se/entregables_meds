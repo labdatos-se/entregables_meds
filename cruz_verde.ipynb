{
 "cells": [
  {
   "cell_type": "code",
   "execution_count": 11,
   "metadata": {},
   "outputs": [],
   "source": [
    "import requests\n",
    "import pandas as pd\n",
    "from bs4 import BeautifulSoup\n",
    "from selenium import webdriver\n",
    "from selenium.webdriver.chrome.service import Service\n",
    "from selenium.webdriver.common.by import By\n",
    "from selenium.webdriver.support.ui import Select\n",
    "from selenium.webdriver.support.ui import WebDriverWait\n",
    "from selenium.webdriver.support import expected_conditions as EC\n",
    "import time"
   ]
  },
  {
   "cell_type": "code",
   "execution_count": 80,
   "metadata": {},
   "outputs": [],
   "source": [
    "url=\"https://www.cruzverde.com.co/search?query=insulina\""
   ]
  },
  {
   "cell_type": "code",
   "execution_count": 9,
   "metadata": {},
   "outputs": [],
   "source": [
    "options = webdriver.ChromeOptions()\n",
    "options.add_argument('--incognito')\n",
    "options.add_argument('--disable-blink-features=AutomationControlled')\n",
    "options.add_argument('--disable-cache')\n",
    "options.add_argument('--disable-cookies')"
   ]
  },
  {
   "cell_type": "code",
   "execution_count": 81,
   "metadata": {},
   "outputs": [],
   "source": [
    "driver = webdriver.Chrome(service=Service(\"C:/chromedriver.exe\"),options=options)\n",
    "driver.get(url)\n",
    "wait = WebDriverWait(driver, 10)\n",
    "element = wait.until(EC.element_to_be_clickable((By.CSS_SELECTOR, \"button[class='btn md:my-0 w-full bg-prices hover:bg-prices h-full px-10 btn-secondary']\")))\n",
    "element.click()\n",
    "time.sleep(5)\n",
    "html = driver.page_source\n",
    "soup = BeautifulSoup(html, 'html.parser')\n",
    "# options_container = wait.until(EC.visibility_of_element_located((By.CSS_SELECTOR, \"absolute z-40 w-full border rounded-sm border-gray font-open text-16 appearance-none cursor-default select-none select-option-container hidden\")))\n",
    "\n",
    "# # Find and select the \"48 Productos\" option\n",
    "# option_48_productos = options_container.find_element(By.XPATH, \"//div[contains(text(), '48 Productos')]\")\n",
    "# option_48_productos.click()\n",
    "\n",
    "\n",
    "\n",
    "# html = driver.page_source\n",
    "# soup = BeautifulSoup(html, 'html.parser')\n",
    "\n"
   ]
  },
  {
   "cell_type": "code",
   "execution_count": 82,
   "metadata": {},
   "outputs": [],
   "source": [
    "results=soup.find_all('ml-card-product', class_='ng-star-inserted')\n"
   ]
  },
  {
   "cell_type": "code",
   "execution_count": 93,
   "metadata": {},
   "outputs": [],
   "source": [
    "\n",
    "if soup.find('h2', class_='text-gray-darkest text-center font-bold text-20 md:text-32 my-20 md:my-30') is not None:\n",
    "    df=pd.DataFrame()\n",
    "else:\n",
    "    data=[]\n",
    "    for result in results:\n",
    "        info={}\n",
    "        info['producto']=result.find('span', class_='ng-star-inserted').text\n",
    "        info['precio']=result.find('div', class_='text-12 sm:text-14 line-through order-3 ng-star-inserted').text\n",
    "        data.append(info)\n",
    "        # producto=result.find('span', class_='ng-star-inserted').text\n",
    "        # precio=result.find('div', class_='text-12 sm:text-14 line-through order-3 ng-star-inserted').text\n",
    "        # productos.append(producto)\n",
    "        # precios.append(precio)\n"
   ]
  },
  {
   "cell_type": "code",
   "execution_count": 94,
   "metadata": {},
   "outputs": [
    {
     "data": {
      "text/html": [
       "<div>\n",
       "<style scoped>\n",
       "    .dataframe tbody tr th:only-of-type {\n",
       "        vertical-align: middle;\n",
       "    }\n",
       "\n",
       "    .dataframe tbody tr th {\n",
       "        vertical-align: top;\n",
       "    }\n",
       "\n",
       "    .dataframe thead th {\n",
       "        text-align: right;\n",
       "    }\n",
       "</style>\n",
       "<table border=\"1\" class=\"dataframe\">\n",
       "  <thead>\n",
       "    <tr style=\"text-align: right;\">\n",
       "      <th></th>\n",
       "      <th>producto</th>\n",
       "      <th>precio</th>\n",
       "    </tr>\n",
       "  </thead>\n",
       "  <tbody>\n",
       "    <tr>\n",
       "      <th>0</th>\n",
       "      <td>Novolin N Suspensión Inyectable Vial 100Ui/mL ...</td>\n",
       "      <td>$ 31.750 (Normal)</td>\n",
       "    </tr>\n",
       "    <tr>\n",
       "      <th>1</th>\n",
       "      <td>Novolin R 100Ui/mL Sol Iny Vial X 10 mL</td>\n",
       "      <td>$ 31.750 (Normal)</td>\n",
       "    </tr>\n",
       "    <tr>\n",
       "      <th>2</th>\n",
       "      <td>Lantus SoloStar Solución Inyectable 100U/mL Ca...</td>\n",
       "      <td>$ 39.600 (Normal)</td>\n",
       "    </tr>\n",
       "    <tr>\n",
       "      <th>3</th>\n",
       "      <td>Levemir Flex Pen Solución Inyectable en Pluma ...</td>\n",
       "      <td>$ 45.750 (Normal)</td>\n",
       "    </tr>\n",
       "    <tr>\n",
       "      <th>4</th>\n",
       "      <td>Aguja Desechable Pen Ref Bd320147 Bd 31Gx5Mm</td>\n",
       "      <td>$ 450 (Normal)</td>\n",
       "    </tr>\n",
       "    <tr>\n",
       "      <th>5</th>\n",
       "      <td>Novorapid Solución Inyectable en Pluma Prellen...</td>\n",
       "      <td>$ 27.250 (Normal)</td>\n",
       "    </tr>\n",
       "    <tr>\n",
       "      <th>6</th>\n",
       "      <td>Tresiba Pen Solución Inyectable 100Ui/mL(300Ui...</td>\n",
       "      <td>$ 51.800 (Normal)</td>\n",
       "    </tr>\n",
       "    <tr>\n",
       "      <th>7</th>\n",
       "      <td>Humalog Kwikpen Solución Inyectable 100U/mL Ca...</td>\n",
       "      <td>$ 123.600 (Normal)</td>\n",
       "    </tr>\n",
       "    <tr>\n",
       "      <th>8</th>\n",
       "      <td>Apidra SoloStar Solución Inyectable Pluma Disp...</td>\n",
       "      <td>$ 26.200 (Normal)</td>\n",
       "    </tr>\n",
       "    <tr>\n",
       "      <th>9</th>\n",
       "      <td>Xultophy Solución Inyectable pluma Prellenada ...</td>\n",
       "      <td>$ 144.900 (Normal)</td>\n",
       "    </tr>\n",
       "    <tr>\n",
       "      <th>10</th>\n",
       "      <td>Humalog 100Ui/mL Sol Iny Vial X 10 mL</td>\n",
       "      <td>$ 76.900 (Normal)</td>\n",
       "    </tr>\n",
       "    <tr>\n",
       "      <th>11</th>\n",
       "      <td>Jeringa Para Insulina Ref 326678 Ultra-Fine Be...</td>\n",
       "      <td>$ 1.300 (Normal)</td>\n",
       "    </tr>\n",
       "  </tbody>\n",
       "</table>\n",
       "</div>"
      ],
      "text/plain": [
       "                                             producto                precio\n",
       "0   Novolin N Suspensión Inyectable Vial 100Ui/mL ...    $ 31.750 (Normal) \n",
       "1             Novolin R 100Ui/mL Sol Iny Vial X 10 mL    $ 31.750 (Normal) \n",
       "2   Lantus SoloStar Solución Inyectable 100U/mL Ca...    $ 39.600 (Normal) \n",
       "3   Levemir Flex Pen Solución Inyectable en Pluma ...    $ 45.750 (Normal) \n",
       "4        Aguja Desechable Pen Ref Bd320147 Bd 31Gx5Mm       $ 450 (Normal) \n",
       "5   Novorapid Solución Inyectable en Pluma Prellen...    $ 27.250 (Normal) \n",
       "6   Tresiba Pen Solución Inyectable 100Ui/mL(300Ui...    $ 51.800 (Normal) \n",
       "7   Humalog Kwikpen Solución Inyectable 100U/mL Ca...   $ 123.600 (Normal) \n",
       "8   Apidra SoloStar Solución Inyectable Pluma Disp...    $ 26.200 (Normal) \n",
       "9   Xultophy Solución Inyectable pluma Prellenada ...   $ 144.900 (Normal) \n",
       "10              Humalog 100Ui/mL Sol Iny Vial X 10 mL    $ 76.900 (Normal) \n",
       "11  Jeringa Para Insulina Ref 326678 Ultra-Fine Be...     $ 1.300 (Normal) "
      ]
     },
     "execution_count": 94,
     "metadata": {},
     "output_type": "execute_result"
    }
   ],
   "source": [
    "df=pd.DataFrame(data)\n",
    "df"
   ]
  },
  {
   "cell_type": "code",
   "execution_count": 84,
   "metadata": {},
   "outputs": [],
   "source": [
    "#Pasamos los datos a un dataframe\n",
    "df=pd.DataFrame({'Producto':productos, 'Precio':precios})\n",
    "    "
   ]
  },
  {
   "cell_type": "code",
   "execution_count": 85,
   "metadata": {},
   "outputs": [
    {
     "data": {
      "text/html": [
       "<div>\n",
       "<style scoped>\n",
       "    .dataframe tbody tr th:only-of-type {\n",
       "        vertical-align: middle;\n",
       "    }\n",
       "\n",
       "    .dataframe tbody tr th {\n",
       "        vertical-align: top;\n",
       "    }\n",
       "\n",
       "    .dataframe thead th {\n",
       "        text-align: right;\n",
       "    }\n",
       "</style>\n",
       "<table border=\"1\" class=\"dataframe\">\n",
       "  <thead>\n",
       "    <tr style=\"text-align: right;\">\n",
       "      <th></th>\n",
       "      <th>Producto</th>\n",
       "      <th>Precio</th>\n",
       "    </tr>\n",
       "  </thead>\n",
       "  <tbody>\n",
       "    <tr>\n",
       "      <th>0</th>\n",
       "      <td>Novolin N Suspensión Inyectable Vial 100Ui/mL ...</td>\n",
       "      <td>$ 31.750 (Normal)</td>\n",
       "    </tr>\n",
       "    <tr>\n",
       "      <th>1</th>\n",
       "      <td>Novolin R 100Ui/mL Sol Iny Vial X 10 mL</td>\n",
       "      <td>$ 31.750 (Normal)</td>\n",
       "    </tr>\n",
       "    <tr>\n",
       "      <th>2</th>\n",
       "      <td>Lantus SoloStar Solución Inyectable 100U/mL Ca...</td>\n",
       "      <td>$ 39.600 (Normal)</td>\n",
       "    </tr>\n",
       "    <tr>\n",
       "      <th>3</th>\n",
       "      <td>Levemir Flex Pen Solución Inyectable en Pluma ...</td>\n",
       "      <td>$ 45.750 (Normal)</td>\n",
       "    </tr>\n",
       "    <tr>\n",
       "      <th>4</th>\n",
       "      <td>Aguja Desechable Pen Ref Bd320147 Bd 31Gx5Mm</td>\n",
       "      <td>$ 450 (Normal)</td>\n",
       "    </tr>\n",
       "    <tr>\n",
       "      <th>5</th>\n",
       "      <td>Novorapid Solución Inyectable en Pluma Prellen...</td>\n",
       "      <td>$ 27.250 (Normal)</td>\n",
       "    </tr>\n",
       "    <tr>\n",
       "      <th>6</th>\n",
       "      <td>Tresiba Pen Solución Inyectable 100Ui/mL(300Ui...</td>\n",
       "      <td>$ 51.800 (Normal)</td>\n",
       "    </tr>\n",
       "    <tr>\n",
       "      <th>7</th>\n",
       "      <td>Humalog Kwikpen Solución Inyectable 100U/mL Ca...</td>\n",
       "      <td>$ 123.600 (Normal)</td>\n",
       "    </tr>\n",
       "    <tr>\n",
       "      <th>8</th>\n",
       "      <td>Apidra SoloStar Solución Inyectable Pluma Disp...</td>\n",
       "      <td>$ 26.200 (Normal)</td>\n",
       "    </tr>\n",
       "    <tr>\n",
       "      <th>9</th>\n",
       "      <td>Xultophy Solución Inyectable pluma Prellenada ...</td>\n",
       "      <td>$ 144.900 (Normal)</td>\n",
       "    </tr>\n",
       "    <tr>\n",
       "      <th>10</th>\n",
       "      <td>Humalog 100Ui/mL Sol Iny Vial X 10 mL</td>\n",
       "      <td>$ 76.900 (Normal)</td>\n",
       "    </tr>\n",
       "    <tr>\n",
       "      <th>11</th>\n",
       "      <td>Jeringa Para Insulina Ref 326678 Ultra-Fine Be...</td>\n",
       "      <td>$ 1.300 (Normal)</td>\n",
       "    </tr>\n",
       "  </tbody>\n",
       "</table>\n",
       "</div>"
      ],
      "text/plain": [
       "                                             Producto                Precio\n",
       "0   Novolin N Suspensión Inyectable Vial 100Ui/mL ...    $ 31.750 (Normal) \n",
       "1             Novolin R 100Ui/mL Sol Iny Vial X 10 mL    $ 31.750 (Normal) \n",
       "2   Lantus SoloStar Solución Inyectable 100U/mL Ca...    $ 39.600 (Normal) \n",
       "3   Levemir Flex Pen Solución Inyectable en Pluma ...    $ 45.750 (Normal) \n",
       "4        Aguja Desechable Pen Ref Bd320147 Bd 31Gx5Mm       $ 450 (Normal) \n",
       "5   Novorapid Solución Inyectable en Pluma Prellen...    $ 27.250 (Normal) \n",
       "6   Tresiba Pen Solución Inyectable 100Ui/mL(300Ui...    $ 51.800 (Normal) \n",
       "7   Humalog Kwikpen Solución Inyectable 100U/mL Ca...   $ 123.600 (Normal) \n",
       "8   Apidra SoloStar Solución Inyectable Pluma Disp...    $ 26.200 (Normal) \n",
       "9   Xultophy Solución Inyectable pluma Prellenada ...   $ 144.900 (Normal) \n",
       "10              Humalog 100Ui/mL Sol Iny Vial X 10 mL    $ 76.900 (Normal) \n",
       "11  Jeringa Para Insulina Ref 326678 Ultra-Fine Be...     $ 1.300 (Normal) "
      ]
     },
     "execution_count": 85,
     "metadata": {},
     "output_type": "execute_result"
    }
   ],
   "source": [
    "df"
   ]
  },
  {
   "cell_type": "code",
   "execution_count": null,
   "metadata": {},
   "outputs": [],
   "source": [
    "import requests\n",
    "\n",
    "url = \"https://www.cedulaprofesional.sep.gob.mx/cedula/buscaCedulaJson.action\"\n",
    "\n",
    "# Provide the necessary data as a dictionary\n",
    "payload = {\n",
    "    \"nombre\": \"CLAUDIO\",\n",
    "    \"paterno\": \"PACHECO\",\n",
    "    \"materno\": \"CASTRO\",\n",
    "    \"maxResult\": \"1000\",\n",
    "    \"idCedula\": \"\"\n",
    "}\n",
    "headers = {\n",
    "    \"X-Requested-With\": \"XMLHttpRequest\"\n",
    "}\n",
    "\n",
    "\n",
    "# Send the POST request\n",
    "response = requests.post(url, data=payload, headers=headers)\n",
    "\n",
    "# # Check the response status\n",
    "# if response.status_code == 200:\n",
    "#     # Print the response content\n",
    "#     print(response.json())\n",
    "# else:\n",
    "#     print(\"Request failed with status code:\", response.status_code)\n"
   ]
  },
  {
   "cell_type": "code",
   "execution_count": null,
   "metadata": {},
   "outputs": [],
   "source": [
    "headers={'Mozilla/5.0 (Windows NT 10.0; Win64; x64) AppleWebKit/537.36 (KHTML, like Gecko) Chrome/113.0.0.0 Safari/537.36'}"
   ]
  },
  {
   "cell_type": "code",
   "execution_count": null,
   "metadata": {},
   "outputs": [
    {
     "ename": "JSONDecodeError",
     "evalue": "Expecting value: line 1 column 1 (char 0)",
     "output_type": "error",
     "traceback": [
      "\u001b[1;31m---------------------------------------------------------------------------\u001b[0m",
      "\u001b[1;31mJSONDecodeError\u001b[0m                           Traceback (most recent call last)",
      "File \u001b[1;32mc:\\Users\\claudio.pacheco\\AppData\\Local\\miniconda3\\lib\\site-packages\\requests\\models.py:971\u001b[0m, in \u001b[0;36mResponse.json\u001b[1;34m(self, **kwargs)\u001b[0m\n\u001b[0;32m    970\u001b[0m \u001b[39mtry\u001b[39;00m:\n\u001b[1;32m--> 971\u001b[0m     \u001b[39mreturn\u001b[39;00m complexjson\u001b[39m.\u001b[39mloads(\u001b[39mself\u001b[39m\u001b[39m.\u001b[39mtext, \u001b[39m*\u001b[39m\u001b[39m*\u001b[39mkwargs)\n\u001b[0;32m    972\u001b[0m \u001b[39mexcept\u001b[39;00m JSONDecodeError \u001b[39mas\u001b[39;00m e:\n\u001b[0;32m    973\u001b[0m     \u001b[39m# Catch JSON-related errors and raise as requests.JSONDecodeError\u001b[39;00m\n\u001b[0;32m    974\u001b[0m     \u001b[39m# This aliases json.JSONDecodeError and simplejson.JSONDecodeError\u001b[39;00m\n",
      "File \u001b[1;32mc:\\Users\\claudio.pacheco\\AppData\\Local\\miniconda3\\lib\\json\\__init__.py:346\u001b[0m, in \u001b[0;36mloads\u001b[1;34m(s, cls, object_hook, parse_float, parse_int, parse_constant, object_pairs_hook, **kw)\u001b[0m\n\u001b[0;32m    343\u001b[0m \u001b[39mif\u001b[39;00m (\u001b[39mcls\u001b[39m \u001b[39mis\u001b[39;00m \u001b[39mNone\u001b[39;00m \u001b[39mand\u001b[39;00m object_hook \u001b[39mis\u001b[39;00m \u001b[39mNone\u001b[39;00m \u001b[39mand\u001b[39;00m\n\u001b[0;32m    344\u001b[0m         parse_int \u001b[39mis\u001b[39;00m \u001b[39mNone\u001b[39;00m \u001b[39mand\u001b[39;00m parse_float \u001b[39mis\u001b[39;00m \u001b[39mNone\u001b[39;00m \u001b[39mand\u001b[39;00m\n\u001b[0;32m    345\u001b[0m         parse_constant \u001b[39mis\u001b[39;00m \u001b[39mNone\u001b[39;00m \u001b[39mand\u001b[39;00m object_pairs_hook \u001b[39mis\u001b[39;00m \u001b[39mNone\u001b[39;00m \u001b[39mand\u001b[39;00m \u001b[39mnot\u001b[39;00m kw):\n\u001b[1;32m--> 346\u001b[0m     \u001b[39mreturn\u001b[39;00m _default_decoder\u001b[39m.\u001b[39;49mdecode(s)\n\u001b[0;32m    347\u001b[0m \u001b[39mif\u001b[39;00m \u001b[39mcls\u001b[39m \u001b[39mis\u001b[39;00m \u001b[39mNone\u001b[39;00m:\n",
      "File \u001b[1;32mc:\\Users\\claudio.pacheco\\AppData\\Local\\miniconda3\\lib\\json\\decoder.py:337\u001b[0m, in \u001b[0;36mJSONDecoder.decode\u001b[1;34m(self, s, _w)\u001b[0m\n\u001b[0;32m    333\u001b[0m \u001b[39m\u001b[39m\u001b[39m\"\"\"Return the Python representation of ``s`` (a ``str`` instance\u001b[39;00m\n\u001b[0;32m    334\u001b[0m \u001b[39mcontaining a JSON document).\u001b[39;00m\n\u001b[0;32m    335\u001b[0m \n\u001b[0;32m    336\u001b[0m \u001b[39m\"\"\"\u001b[39;00m\n\u001b[1;32m--> 337\u001b[0m obj, end \u001b[39m=\u001b[39m \u001b[39mself\u001b[39;49m\u001b[39m.\u001b[39;49mraw_decode(s, idx\u001b[39m=\u001b[39;49m_w(s, \u001b[39m0\u001b[39;49m)\u001b[39m.\u001b[39;49mend())\n\u001b[0;32m    338\u001b[0m end \u001b[39m=\u001b[39m _w(s, end)\u001b[39m.\u001b[39mend()\n",
      "File \u001b[1;32mc:\\Users\\claudio.pacheco\\AppData\\Local\\miniconda3\\lib\\json\\decoder.py:355\u001b[0m, in \u001b[0;36mJSONDecoder.raw_decode\u001b[1;34m(self, s, idx)\u001b[0m\n\u001b[0;32m    354\u001b[0m \u001b[39mexcept\u001b[39;00m \u001b[39mStopIteration\u001b[39;00m \u001b[39mas\u001b[39;00m err:\n\u001b[1;32m--> 355\u001b[0m     \u001b[39mraise\u001b[39;00m JSONDecodeError(\u001b[39m\"\u001b[39m\u001b[39mExpecting value\u001b[39m\u001b[39m\"\u001b[39m, s, err\u001b[39m.\u001b[39mvalue) \u001b[39mfrom\u001b[39;00m \u001b[39mNone\u001b[39;00m\n\u001b[0;32m    356\u001b[0m \u001b[39mreturn\u001b[39;00m obj, end\n",
      "\u001b[1;31mJSONDecodeError\u001b[0m: Expecting value: line 1 column 1 (char 0)",
      "\nDuring handling of the above exception, another exception occurred:\n",
      "\u001b[1;31mJSONDecodeError\u001b[0m                           Traceback (most recent call last)",
      "Cell \u001b[1;32mIn[164], line 26\u001b[0m\n\u001b[0;32m     23\u001b[0m response \u001b[39m=\u001b[39m requests\u001b[39m.\u001b[39mpost(url, json\u001b[39m=\u001b[39mdaticos, headers\u001b[39m=\u001b[39mheaders)\n\u001b[0;32m     25\u001b[0m \u001b[39m# comprobamos que la petición nos devuelve un Status Code = 200}\u001b[39;00m\n\u001b[1;32m---> 26\u001b[0m response\u001b[39m.\u001b[39;49mjson()\n",
      "File \u001b[1;32mc:\\Users\\claudio.pacheco\\AppData\\Local\\miniconda3\\lib\\site-packages\\requests\\models.py:975\u001b[0m, in \u001b[0;36mResponse.json\u001b[1;34m(self, **kwargs)\u001b[0m\n\u001b[0;32m    971\u001b[0m     \u001b[39mreturn\u001b[39;00m complexjson\u001b[39m.\u001b[39mloads(\u001b[39mself\u001b[39m\u001b[39m.\u001b[39mtext, \u001b[39m*\u001b[39m\u001b[39m*\u001b[39mkwargs)\n\u001b[0;32m    972\u001b[0m \u001b[39mexcept\u001b[39;00m JSONDecodeError \u001b[39mas\u001b[39;00m e:\n\u001b[0;32m    973\u001b[0m     \u001b[39m# Catch JSON-related errors and raise as requests.JSONDecodeError\u001b[39;00m\n\u001b[0;32m    974\u001b[0m     \u001b[39m# This aliases json.JSONDecodeError and simplejson.JSONDecodeError\u001b[39;00m\n\u001b[1;32m--> 975\u001b[0m     \u001b[39mraise\u001b[39;00m RequestsJSONDecodeError(e\u001b[39m.\u001b[39mmsg, e\u001b[39m.\u001b[39mdoc, e\u001b[39m.\u001b[39mpos)\n",
      "\u001b[1;31mJSONDecodeError\u001b[0m: Expecting value: line 1 column 1 (char 0)"
     ]
    }
   ],
   "source": [
    "import requests\n",
    "\n",
    "url = \"https://www.cedulaprofesional.sep.gob.mx/cedula/buscaCedulaJson.action\"\n",
    "\n",
    "#Datos del formulario\n",
    "daticos = {\n",
    "    \"maxResult\": \"1000\",\n",
    "    \"nombre\": \"CLAUDIO\",\n",
    "    \"paterno\": \"PACHECO\",\n",
    "    \"materno\": \"CASTRO\",\n",
    "    \"idCedula\": \"\",\n",
    "}\n",
    "\n",
    "\n",
    "headers = { 'User-Agent': 'Mozilla/5.0 (Windows NT 10.0; Win64; x64) AppleWebKit/537.36 (KHTML, like Gecko',\n",
    "           'X-Requested-With': 'XMLHttpRequest',\n",
    "              'Content-Type': 'application/json;charset=UTF-8',\n",
    "           \n",
    "           \n",
    "}   \n",
    "\n",
    "# obtenemos la respuesta\n",
    "response = requests.post(url, json=daticos, headers=headers)\n",
    "\n",
    "# comprobamos que la petición nos devuelve un Status Code = 200}\n",
    "response.json()\n"
   ]
  },
  {
   "cell_type": "code",
   "execution_count": null,
   "metadata": {},
   "outputs": [
    {
     "data": {
      "text/plain": [
       "b''"
      ]
     },
     "execution_count": 163,
     "metadata": {},
     "output_type": "execute_result"
    }
   ],
   "source": [
    "response.content"
   ]
  }
 ],
 "metadata": {
  "kernelspec": {
   "display_name": "base",
   "language": "python",
   "name": "python3"
  },
  "language_info": {
   "codemirror_mode": {
    "name": "ipython",
    "version": 3
   },
   "file_extension": ".py",
   "mimetype": "text/x-python",
   "name": "python",
   "nbconvert_exporter": "python",
   "pygments_lexer": "ipython3",
   "version": "3.10.10"
  },
  "orig_nbformat": 4
 },
 "nbformat": 4,
 "nbformat_minor": 2
}
