{
 "cells": [
  {
   "cell_type": "code",
   "execution_count": 4,
   "metadata": {},
   "outputs": [],
   "source": [
    "import pandas as pd\n",
    "from medscraper import medsearch"
   ]
  },
  {
   "cell_type": "code",
   "execution_count": 5,
   "metadata": {},
   "outputs": [],
   "source": [
    "farmacias=[\"fsanpablo\", \"fespecializadas\", \"farmalisto_mx\"]\n",
    "medicamentos=[\"imatinib\",\"nexavar\"]"
   ]
  },
  {
   "cell_type": "code",
   "execution_count": 2,
   "metadata": {},
   "outputs": [],
   "source": [
    "df=pd.DataFrame()\n",
    "for medicamento in medicamentos:\n",
    "    for farmacia in farmacias:\n",
    "        buscador=medsearch.scraper(farmacia, medicamento)\n",
    "        df=pd.concat([df, medsearch.scraper.show_dataframe(buscador)], axis=0)\n",
    "        \n",
    "print(\"Se encontraron \", len(df), \" registros\")\n",
    "df"
   ]
  }
 ],
 "metadata": {
  "kernelspec": {
   "display_name": "base",
   "language": "python",
   "name": "python3"
  },
  "language_info": {
   "codemirror_mode": {
    "name": "ipython",
    "version": 3
   },
   "file_extension": ".py",
   "mimetype": "text/x-python",
   "name": "python",
   "nbconvert_exporter": "python",
   "pygments_lexer": "ipython3",
   "version": "3.10.9"
  },
  "orig_nbformat": 4
 },
 "nbformat": 4,
 "nbformat_minor": 2
}
