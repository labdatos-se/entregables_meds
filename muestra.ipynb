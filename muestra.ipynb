{
 "cells": [
  {
   "cell_type": "code",
   "execution_count": 13,
   "metadata": {},
   "outputs": [],
   "source": [
    "import pandas as pd\n",
    "from medscraper import medsearch"
   ]
  },
  {
   "cell_type": "code",
   "execution_count": 14,
   "metadata": {},
   "outputs": [],
   "source": [
    "farmacias=[\"fsanpablo\", \"fespecializadas\", \"farmalisto_mx\"]\n",
    "medicamentos=[\"biktarvy\"]"
   ]
  },
  {
   "cell_type": "code",
   "execution_count": 15,
   "metadata": {},
   "outputs": [
    {
     "name": "stdout",
     "output_type": "stream",
     "text": [
      "Realizando la búsqueda en Farmacias San Pablo de:  biktarvy\n",
      "Realizando la búsqueda en Farmacias Especializadas de:  biktarvy\n",
      "Realizando la búsqueda en Farmalisto de:  biktarvy\n",
      "Se encontraron  2  registros\n"
     ]
    },
    {
     "data": {
      "text/html": [
       "<div>\n",
       "<style scoped>\n",
       "    .dataframe tbody tr th:only-of-type {\n",
       "        vertical-align: middle;\n",
       "    }\n",
       "\n",
       "    .dataframe tbody tr th {\n",
       "        vertical-align: top;\n",
       "    }\n",
       "\n",
       "    .dataframe thead th {\n",
       "        text-align: right;\n",
       "    }\n",
       "</style>\n",
       "<table border=\"1\" class=\"dataframe\">\n",
       "  <thead>\n",
       "    <tr style=\"text-align: right;\">\n",
       "      <th></th>\n",
       "      <th>producto</th>\n",
       "      <th>precio</th>\n",
       "      <th>hora_consulta</th>\n",
       "      <th>farmacia_corto</th>\n",
       "      <th>busqueda</th>\n",
       "      <th>farmacia</th>\n",
       "      <th>pais</th>\n",
       "      <th>product_name</th>\n",
       "      <th>quantity</th>\n",
       "      <th>unit</th>\n",
       "      <th>presentacion</th>\n",
       "      <th>num_prod</th>\n",
       "    </tr>\n",
       "  </thead>\n",
       "  <tbody>\n",
       "    <tr>\n",
       "      <th>0</th>\n",
       "      <td>biktarvy 50  200  25 mg tab caja con 30</td>\n",
       "      <td>13781.57</td>\n",
       "      <td>20:20:47 24/04/2023</td>\n",
       "      <td>fespecializadas</td>\n",
       "      <td>biktarvy</td>\n",
       "      <td>farmacias especializadas</td>\n",
       "      <td>Mexico</td>\n",
       "      <td>biktarvy</td>\n",
       "      <td>25.0</td>\n",
       "      <td>mg</td>\n",
       "      <td>tableta</td>\n",
       "      <td>50</td>\n",
       "    </tr>\n",
       "    <tr>\n",
       "      <th>0</th>\n",
       "      <td>biktarvy 50 mg 200 mg 25 mg caja con frasco co...</td>\n",
       "      <td>7874.10</td>\n",
       "      <td>20:21:05 24/04/2023</td>\n",
       "      <td>farmalisto_mx</td>\n",
       "      <td>biktarvy</td>\n",
       "      <td>farmalisto méxico</td>\n",
       "      <td>Mexico</td>\n",
       "      <td>biktarvy</td>\n",
       "      <td>50.0</td>\n",
       "      <td>mg</td>\n",
       "      <td>tableta</td>\n",
       "      <td>30</td>\n",
       "    </tr>\n",
       "  </tbody>\n",
       "</table>\n",
       "</div>"
      ],
      "text/plain": [
       "                                            producto    precio   \n",
       "0            biktarvy 50  200  25 mg tab caja con 30  13781.57  \\\n",
       "0  biktarvy 50 mg 200 mg 25 mg caja con frasco co...   7874.10   \n",
       "\n",
       "         hora_consulta   farmacia_corto  busqueda                  farmacia   \n",
       "0  20:20:47 24/04/2023  fespecializadas  biktarvy  farmacias especializadas  \\\n",
       "0  20:21:05 24/04/2023    farmalisto_mx  biktarvy         farmalisto méxico   \n",
       "\n",
       "     pais product_name  quantity unit presentacion  num_prod  \n",
       "0  Mexico    biktarvy       25.0   mg      tableta        50  \n",
       "0  Mexico    biktarvy       50.0   mg      tableta        30  "
      ]
     },
     "execution_count": 15,
     "metadata": {},
     "output_type": "execute_result"
    }
   ],
   "source": [
    "df=pd.DataFrame()\n",
    "for medicamento in medicamentos:\n",
    "    for farmacia in farmacias:\n",
    "        buscador=medsearch.scraper(farmacia, medicamento)\n",
    "        df=pd.concat([df, medsearch.scraper.show_dataframe(buscador)], axis=0)\n",
    "        \n",
    "print(\"Se encontraron \", len(df), \" registros\")\n",
    "df"
   ]
  },
  {
   "cell_type": "code",
   "execution_count": 16,
   "metadata": {},
   "outputs": [
    {
     "data": {
      "text/html": [
       "<div>\n",
       "<style scoped>\n",
       "    .dataframe tbody tr th:only-of-type {\n",
       "        vertical-align: middle;\n",
       "    }\n",
       "\n",
       "    .dataframe tbody tr th {\n",
       "        vertical-align: top;\n",
       "    }\n",
       "\n",
       "    .dataframe thead th {\n",
       "        text-align: right;\n",
       "    }\n",
       "</style>\n",
       "<table border=\"1\" class=\"dataframe\">\n",
       "  <thead>\n",
       "    <tr style=\"text-align: right;\">\n",
       "      <th></th>\n",
       "      <th>producto</th>\n",
       "      <th>precio</th>\n",
       "      <th>hora_consulta</th>\n",
       "      <th>farmacia_corto</th>\n",
       "      <th>busqueda</th>\n",
       "      <th>farmacia</th>\n",
       "      <th>pais</th>\n",
       "      <th>product_name</th>\n",
       "      <th>quantity</th>\n",
       "      <th>unit</th>\n",
       "      <th>presentacion</th>\n",
       "      <th>num_prod</th>\n",
       "    </tr>\n",
       "  </thead>\n",
       "  <tbody>\n",
       "    <tr>\n",
       "      <th>0</th>\n",
       "      <td>biktarvy 50  200  25 mg tab caja con 30</td>\n",
       "      <td>13781.57</td>\n",
       "      <td>20:20:47 24/04/2023</td>\n",
       "      <td>fespecializadas</td>\n",
       "      <td>biktarvy</td>\n",
       "      <td>farmacias especializadas</td>\n",
       "      <td>Mexico</td>\n",
       "      <td>biktarvy</td>\n",
       "      <td>25.0</td>\n",
       "      <td>mg</td>\n",
       "      <td>tableta</td>\n",
       "      <td>50</td>\n",
       "    </tr>\n",
       "    <tr>\n",
       "      <th>0</th>\n",
       "      <td>biktarvy 50 mg 200 mg 25 mg caja con frasco co...</td>\n",
       "      <td>7874.10</td>\n",
       "      <td>20:21:05 24/04/2023</td>\n",
       "      <td>farmalisto_mx</td>\n",
       "      <td>biktarvy</td>\n",
       "      <td>farmalisto méxico</td>\n",
       "      <td>Mexico</td>\n",
       "      <td>biktarvy</td>\n",
       "      <td>50.0</td>\n",
       "      <td>mg</td>\n",
       "      <td>tableta</td>\n",
       "      <td>30</td>\n",
       "    </tr>\n",
       "  </tbody>\n",
       "</table>\n",
       "</div>"
      ],
      "text/plain": [
       "                                            producto    precio   \n",
       "0            biktarvy 50  200  25 mg tab caja con 30  13781.57  \\\n",
       "0  biktarvy 50 mg 200 mg 25 mg caja con frasco co...   7874.10   \n",
       "\n",
       "         hora_consulta   farmacia_corto  busqueda                  farmacia   \n",
       "0  20:20:47 24/04/2023  fespecializadas  biktarvy  farmacias especializadas  \\\n",
       "0  20:21:05 24/04/2023    farmalisto_mx  biktarvy         farmalisto méxico   \n",
       "\n",
       "     pais product_name  quantity unit presentacion  num_prod  \n",
       "0  Mexico    biktarvy       25.0   mg      tableta        50  \n",
       "0  Mexico    biktarvy       50.0   mg      tableta        30  "
      ]
     },
     "execution_count": 16,
     "metadata": {},
     "output_type": "execute_result"
    }
   ],
   "source": [
    "#Ordenar de mayor a menor precio\n",
    "df.sort_values(by=['precio'], ascending=False)"
   ]
  }
 ],
 "metadata": {
  "kernelspec": {
   "display_name": "base",
   "language": "python",
   "name": "python3"
  },
  "language_info": {
   "codemirror_mode": {
    "name": "ipython",
    "version": 3
   },
   "file_extension": ".py",
   "mimetype": "text/x-python",
   "name": "python",
   "nbconvert_exporter": "python",
   "pygments_lexer": "ipython3",
   "version": "3.10.10"
  },
  "orig_nbformat": 4
 },
 "nbformat": 4,
 "nbformat_minor": 2
}
