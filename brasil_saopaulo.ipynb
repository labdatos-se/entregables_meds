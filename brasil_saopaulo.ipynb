{
 "cells": [
  {
   "cell_type": "code",
   "execution_count": 87,
   "metadata": {},
   "outputs": [],
   "source": [
    "import pandas as pd\n",
    "from bs4 import BeautifulSoup\n",
    "from selenium import webdriver\n",
    "from selenium.webdriver.chrome.service import Service\n",
    "from selenium.webdriver.common.by import By\n",
    "from selenium.webdriver.support.ui import Select\n",
    "from selenium.webdriver.common.keys import Keys\n",
    "import time\n"
   ]
  },
  {
   "cell_type": "code",
   "execution_count": 88,
   "metadata": {},
   "outputs": [],
   "source": [
    "options=webdriver.ChromeOptions()\n",
    "options.add_argument('--incognito')\n",
    "options.add_argument('--disable-blink-features=AutomationControlled')\n",
    "options.add_argument('--disable-cache')\n",
    "options.add_argument('--disable-cookies')"
   ]
  },
  {
   "cell_type": "code",
   "execution_count": 89,
   "metadata": {},
   "outputs": [],
   "source": [
    "url=\"https://www.drogariasaopaulo.com.br/pesquisa?q=aspirina\""
   ]
  },
  {
   "cell_type": "code",
   "execution_count": 90,
   "metadata": {},
   "outputs": [],
   "source": [
    "driver=webdriver.Chrome(options=options)\n",
    "driver.get(url)"
   ]
  },
  {
   "cell_type": "code",
   "execution_count": 91,
   "metadata": {},
   "outputs": [],
   "source": [
    "sopa=BeautifulSoup(driver.page_source,'html.parser')"
   ]
  },
  {
   "cell_type": "code",
   "execution_count": 92,
   "metadata": {},
   "outputs": [],
   "source": [
    "results=sopa.find_all('a',class_='collection-link')"
   ]
  },
  {
   "cell_type": "code",
   "execution_count": 93,
   "metadata": {},
   "outputs": [
    {
     "data": {
      "text/plain": [
       "[<a class=\"collection-link\" data-click-url=\"/engage/search/v3/clicks?apikey=drogariasaopaulo&amp;trackingId=eyJzZWFyY2hJZCI6ImZiYmU3YmZkLWY2ZjMtNDdhYi1iYWI0LTNlYjI2M2UxNTc4NiIsIm9yaWdpbiI6InNlYXJjaCIsInByb2R1Y3QiOnsicmFua2luZyI6MSwicGlkIjoiOTg1NyIsInNrdXMiOltdfX0%3D\" href=\"//www.drogariasaopaulo.com.br/analgesico-aspirina-adulto-500mg-10-comprimidos/p\" title=\"Analgésico Aspirina Adulto 500mg Bayer 10 Comprimidos\">Analgésico Aspirina Adulto 500mg Bayer 10 Comprimidos</a>,\n",
       " <a class=\"collection-link\" data-click-url=\"/engage/search/v3/clicks?apikey=drogariasaopaulo&amp;trackingId=eyJzZWFyY2hJZCI6ImZiYmU3YmZkLWY2ZjMtNDdhYi1iYWI0LTNlYjI2M2UxNTc4NiIsIm9yaWdpbiI6InNlYXJjaCIsInByb2R1Y3QiOnsicmFua2luZyI6MiwicGlkIjoiNTgyODU5Iiwic2t1cyI6W119fQ%3D%3D\" href=\"//www.drogariasaopaulo.com.br/aspirina-microativa-500mg-bayer-20-comprimidos/p\" title=\"Analgésico Aspirina Microativa 500mg Bayer 20 Comprimidos\">Analgésico Aspirina Microativa 500mg Bayer 20 Comprimidos</a>,\n",
       " <a class=\"collection-link\" data-click-url=\"/engage/search/v3/clicks?apikey=drogariasaopaulo&amp;trackingId=eyJzZWFyY2hJZCI6ImZiYmU3YmZkLWY2ZjMtNDdhYi1iYWI0LTNlYjI2M2UxNTc4NiIsIm9yaWdpbiI6InNlYXJjaCIsInByb2R1Y3QiOnsicmFua2luZyI6MywicGlkIjoiODkwMjgiLCJza3VzIjpbXX19\" href=\"//www.drogariasaopaulo.com.br/analgesico-aspirina-c-400mg-bayer-limao-2-comprimidos/p\" title=\"Analgésico Aspirina C 400mg Bayer Limão 2 Comprimidos\">Analgésico Aspirina C 400mg Bayer Limão 2 Comprimidos</a>,\n",
       " <a class=\"collection-link\" data-click-url=\"/engage/search/v3/clicks?apikey=drogariasaopaulo&amp;trackingId=eyJzZWFyY2hJZCI6ImZiYmU3YmZkLWY2ZjMtNDdhYi1iYWI0LTNlYjI2M2UxNTc4NiIsIm9yaWdpbiI6InNlYXJjaCIsInByb2R1Y3QiOnsicmFua2luZyI6NCwicGlkIjoiMTI3MjY0Iiwic2t1cyI6W119fQ%3D%3D\" href=\"//www.drogariasaopaulo.com.br/acido-acetil-salicilico-100mg-generico-ems-30-comprimidos/p\" title=\"Ácido Acetilsalicílico 100mg Genérico EMS 30 Comprimidos\">Ácido Acetilsalicílico 100mg Genérico EMS 30 Comprimidos</a>,\n",
       " <a class=\"collection-link\" data-click-url=\"/engage/search/v3/clicks?apikey=drogariasaopaulo&amp;trackingId=eyJzZWFyY2hJZCI6ImZiYmU3YmZkLWY2ZjMtNDdhYi1iYWI0LTNlYjI2M2UxNTc4NiIsIm9yaWdpbiI6InNlYXJjaCIsInByb2R1Y3QiOnsicmFua2luZyI6NSwicGlkIjoiNTgyODMyIiwic2t1cyI6W119fQ%3D%3D\" href=\"//www.drogariasaopaulo.com.br/aspirina-microativa-500mg-bayer-4-comprimidos/p\" title=\"Analgésico Aspirina Microativa 500mg Bayer 4 Comprimidos\">Analgésico Aspirina Microativa 500mg Bayer 4 Comprimidos</a>,\n",
       " <a class=\"collection-link\" data-click-url=\"/engage/search/v3/clicks?apikey=drogariasaopaulo&amp;trackingId=eyJzZWFyY2hJZCI6ImZiYmU3YmZkLWY2ZjMtNDdhYi1iYWI0LTNlYjI2M2UxNTc4NiIsIm9yaWdpbiI6InNlYXJjaCIsInByb2R1Y3QiOnsicmFua2luZyI6NiwicGlkIjoiNTA2MTI1Iiwic2t1cyI6W119fQ%3D%3D\" href=\"//www.drogariasaopaulo.com.br/aspirina-c-400mg-bayer-10-comprimidos-efervescentes/p\" title=\"Analgésico Aspirina C 400mg 10 Comprimidos\">Analgésico Aspirina C 400mg 10 Comprimidos</a>,\n",
       " <a class=\"collection-link\" data-click-url=\"/engage/search/v3/clicks?apikey=drogariasaopaulo&amp;trackingId=eyJzZWFyY2hJZCI6ImZiYmU3YmZkLWY2ZjMtNDdhYi1iYWI0LTNlYjI2M2UxNTc4NiIsIm9yaWdpbiI6InNlYXJjaCIsInByb2R1Y3QiOnsicmFua2luZyI6NywicGlkIjoiNTQzMzAiLCJza3VzIjpbXX19\" href=\"//www.drogariasaopaulo.com.br/aspirina-prevent-100mg-bayer-30-comprimidos/p\" title=\"Aspirina Prevent 100mg Bayer 30 Comprimidos\">Aspirina Prevent 100mg Bayer 30 Comprimidos</a>,\n",
       " <a class=\"collection-link\" data-click-url=\"/engage/search/v3/clicks?apikey=drogariasaopaulo&amp;trackingId=eyJzZWFyY2hJZCI6ImZiYmU3YmZkLWY2ZjMtNDdhYi1iYWI0LTNlYjI2M2UxNTc4NiIsIm9yaWdpbiI6InNlYXJjaCIsInByb2R1Y3QiOnsicmFua2luZyI6OCwicGlkIjoiMjk1MDg2Iiwic2t1cyI6W119fQ%3D%3D\" href=\"//www.drogariasaopaulo.com.br/aas-infantil-100mg-sanofi-aventis-30-comprimidos/p\" title=\"Aas Infantil 100mg  Hypera 30 Comprimidos\">Aas Infantil 100mg  Hypera 30 Comprimidos</a>,\n",
       " <a class=\"collection-link\" data-click-url=\"/engage/search/v3/clicks?apikey=drogariasaopaulo&amp;trackingId=eyJzZWFyY2hJZCI6ImZiYmU3YmZkLWY2ZjMtNDdhYi1iYWI0LTNlYjI2M2UxNTc4NiIsIm9yaWdpbiI6InNlYXJjaCIsInByb2R1Y3QiOnsicmFua2luZyI6OSwicGlkIjoiODA0OTE2Iiwic2t1cyI6W119fQ%3D%3D\" href=\"//www.drogariasaopaulo.com.br/aspirina-prevent-100mg-bayer-100-comprimidos/p\" title=\"Aspirina Prevent 100mg Bayer 100 Comprimidos\">Aspirina Prevent 100mg Bayer 100 Comprimidos</a>,\n",
       " <a class=\"collection-link\" data-click-url=\"/engage/search/v3/clicks?apikey=drogariasaopaulo&amp;trackingId=eyJzZWFyY2hJZCI6ImZiYmU3YmZkLWY2ZjMtNDdhYi1iYWI0LTNlYjI2M2UxNTc4NiIsIm9yaWdpbiI6InNlYXJjaCIsInByb2R1Y3QiOnsicmFua2luZyI6MTAsInBpZCI6IjE4OTg4Iiwic2t1cyI6W119fQ%3D%3D\" href=\"//www.drogariasaopaulo.com.br/antiacido-sonrisal-10-comprimidos-efervescentes/p\" title=\"Sonrisal Tradicional Dupla Ação Antiácido e Analgésico para Alívio da Azia e Dor de Cabeça com 10 pastilhas\">Sonrisal Tradicional Dupla Ação Antiácido e Analgésico para Alívio da Azia e Dor de Cabeça com 10 pastilhas</a>,\n",
       " <a class=\"collection-link\" data-click-url=\"/engage/search/v3/clicks?apikey=drogariasaopaulo&amp;trackingId=eyJzZWFyY2hJZCI6ImZiYmU3YmZkLWY2ZjMtNDdhYi1iYWI0LTNlYjI2M2UxNTc4NiIsIm9yaWdpbiI6InNlYXJjaCIsInByb2R1Y3QiOnsicmFua2luZyI6MTEsInBpZCI6IjcwNjQiLCJza3VzIjpbXX19\" href=\"//www.drogariasaopaulo.com.br/aas-infantil-120-comprimidos/p\" title=\"AAS Infantil 120 comprimidos\">AAS Infantil 120 comprimidos</a>,\n",
       " <a class=\"collection-link\" data-click-url=\"/engage/search/v3/clicks?apikey=drogariasaopaulo&amp;trackingId=eyJzZWFyY2hJZCI6ImZiYmU3YmZkLWY2ZjMtNDdhYi1iYWI0LTNlYjI2M2UxNTc4NiIsIm9yaWdpbiI6InNlYXJjaCIsInByb2R1Y3QiOnsicmFua2luZyI6MTIsInBpZCI6IjUyMDQ4OSIsInNrdXMiOltdfX0%3D\" href=\"//www.drogariasaopaulo.com.br/doril-enxaqueca-4-comprimidos/p\" title=\"Doril Enxaqueca 4 comprimidos\">Doril Enxaqueca 4 comprimidos</a>,\n",
       " <a class=\"collection-link\" data-click-url=\"/engage/search/v3/clicks?apikey=drogariasaopaulo&amp;trackingId=eyJzZWFyY2hJZCI6ImZiYmU3YmZkLWY2ZjMtNDdhYi1iYWI0LTNlYjI2M2UxNTc4NiIsIm9yaWdpbiI6InNlYXJjaCIsInByb2R1Y3QiOnsicmFua2luZyI6MTMsInBpZCI6IjUxMzk4OSIsInNrdXMiOltdfX0%3D\" href=\"//www.drogariasaopaulo.com.br/engov-24-comprimidos/p\" title=\"Engov Caixa 24 comprimidos\">Engov Caixa 24 comprimidos</a>,\n",
       " <a class=\"collection-link\" data-click-url=\"/engage/search/v3/clicks?apikey=drogariasaopaulo&amp;trackingId=eyJzZWFyY2hJZCI6ImZiYmU3YmZkLWY2ZjMtNDdhYi1iYWI0LTNlYjI2M2UxNTc4NiIsIm9yaWdpbiI6InNlYXJjaCIsInByb2R1Y3QiOnsicmFua2luZyI6MTQsInBpZCI6IjEwMDI5MyIsInNrdXMiOltdfX0%3D\" href=\"//www.drogariasaopaulo.com.br/aspirina-prevent-300mg-bayer-30-comprimidos/p\" title=\"Aspirina Prevent 300mg Bayer 30 Comprimidos\">Aspirina Prevent 300mg Bayer 30 Comprimidos</a>,\n",
       " <a class=\"collection-link\" data-click-url=\"/engage/search/v3/clicks?apikey=drogariasaopaulo&amp;trackingId=eyJzZWFyY2hJZCI6ImZiYmU3YmZkLWY2ZjMtNDdhYi1iYWI0LTNlYjI2M2UxNTc4NiIsIm9yaWdpbiI6InNlYXJjaCIsInByb2R1Y3QiOnsicmFua2luZyI6MTUsInBpZCI6IjMzNjM0Iiwic2t1cyI6W119fQ%3D%3D\" href=\"//www.drogariasaopaulo.com.br/melhoral-infantil-8-comprimidos/p\" title=\"Melhoral Infantil 8 Comprimidos\">Melhoral Infantil 8 Comprimidos</a>,\n",
       " <a class=\"collection-link\" data-click-url=\"/engage/search/v3/clicks?apikey=drogariasaopaulo&amp;trackingId=eyJzZWFyY2hJZCI6ImZiYmU3YmZkLWY2ZjMtNDdhYi1iYWI0LTNlYjI2M2UxNTc4NiIsIm9yaWdpbiI6InNlYXJjaCIsInByb2R1Y3QiOnsicmFua2luZyI6MTYsInBpZCI6IjcwNTAxMiIsInNrdXMiOltdfX0%3D\" href=\"//www.drogariasaopaulo.com.br/antiacido-sonrisal-limao-10-comprimidos-efervescentes/p\" title=\"Sonrisal Limão Dupla Ação Antiácido e Analgésico para Alívio da Azia e Dor de Cabeça com 10 pastilhas\">Sonrisal Limão Dupla Ação Antiácido e Analgésico para Alívio da Azia e Dor de Cabeça com 10 pastilhas</a>,\n",
       " <a class=\"collection-link\" data-click-url=\"/engage/search/v3/clicks?apikey=drogariasaopaulo&amp;trackingId=eyJzZWFyY2hJZCI6ImZiYmU3YmZkLWY2ZjMtNDdhYi1iYWI0LTNlYjI2M2UxNTc4NiIsIm9yaWdpbiI6InNlYXJjaCIsInByb2R1Y3QiOnsicmFua2luZyI6MTcsInBpZCI6IjYyOTk2MCIsInNrdXMiOltdfX0%3D\" href=\"//www.drogariasaopaulo.com.br/antigripal-benegrip-12-comprimidos/p\" title=\"Antigripal Benegrip 12 Comprimidos\">Antigripal Benegrip 12 Comprimidos</a>,\n",
       " <a class=\"collection-link\" data-click-url=\"/engage/search/v3/clicks?apikey=drogariasaopaulo&amp;trackingId=eyJzZWFyY2hJZCI6ImZiYmU3YmZkLWY2ZjMtNDdhYi1iYWI0LTNlYjI2M2UxNTc4NiIsIm9yaWdpbiI6InNlYXJjaCIsInByb2R1Y3QiOnsicmFua2luZyI6MTgsInBpZCI6IjY5NDA0NSIsInNrdXMiOltdfX0%3D\" href=\"//www.drogariasaopaulo.com.br/engov-15mg-150mg-150mg-50mg-cosmed-12-comprimidos/p\" title=\"Engov 15mg + 150mg +150mg + 50mg Cosmed 12 Comprimidos\">Engov 15mg + 150mg +150mg + 50mg Cosmed 12 Comprimidos</a>,\n",
       " <a class=\"collection-link\" data-click-url=\"/engage/search/v3/clicks?apikey=drogariasaopaulo&amp;trackingId=eyJzZWFyY2hJZCI6ImZiYmU3YmZkLWY2ZjMtNDdhYi1iYWI0LTNlYjI2M2UxNTc4NiIsIm9yaWdpbiI6InNlYXJjaCIsInByb2R1Y3QiOnsicmFua2luZyI6MTksInBpZCI6IjI3MDQ5Iiwic2t1cyI6W119fQ%3D%3D\" href=\"//www.drogariasaopaulo.com.br/engov-neo-quimica-6-comprimidos/p\" title=\"Engov Envelope 6 Comprimidos\">Engov Envelope 6 Comprimidos</a>,\n",
       " <a class=\"collection-link\" data-click-url=\"/engage/search/v3/clicks?apikey=drogariasaopaulo&amp;trackingId=eyJzZWFyY2hJZCI6ImZiYmU3YmZkLWY2ZjMtNDdhYi1iYWI0LTNlYjI2M2UxNTc4NiIsIm9yaWdpbiI6InNlYXJjaCIsInByb2R1Y3QiOnsicmFua2luZyI6MjAsInBpZCI6Ijc0NzIxIiwic2t1cyI6W119fQ%3D%3D\" href=\"//www.drogariasaopaulo.com.br/antiacido-sonrisal-limao-2-comprimidos-efervescentes/p\" title=\"Antiácido Sonrisal Limão 2 Comprimidos Efervescentes\">Antiácido Sonrisal Limão 2 Comprimidos Efervescentes</a>,\n",
       " <a class=\"collection-link\" data-click-url=\"/engage/search/v3/clicks?apikey=drogariasaopaulo&amp;trackingId=eyJzZWFyY2hJZCI6ImZiYmU3YmZkLWY2ZjMtNDdhYi1iYWI0LTNlYjI2M2UxNTc4NiIsIm9yaWdpbiI6InNlYXJjaCIsInByb2R1Y3QiOnsicmFua2luZyI6MjEsInBpZCI6IjEwMDE2MSIsInNrdXMiOltdfX0%3D\" href=\"//www.drogariasaopaulo.com.br/doril-6-comprimidos/p\" title=\"Doril  6 Comprimidos\">Doril  6 Comprimidos</a>,\n",
       " <a class=\"collection-link\" data-click-url=\"/engage/search/v3/clicks?apikey=drogariasaopaulo&amp;trackingId=eyJzZWFyY2hJZCI6ImZiYmU3YmZkLWY2ZjMtNDdhYi1iYWI0LTNlYjI2M2UxNTc4NiIsIm9yaWdpbiI6InNlYXJjaCIsInByb2R1Y3QiOnsicmFua2luZyI6MjIsInBpZCI6IjExODY1NiIsInNrdXMiOltdfX0%3D\" href=\"//www.drogariasaopaulo.com.br/melhoral-adulto-8-comprimidos/p\" title=\"Melhoral Adulto 8 Comprimidos\">Melhoral Adulto 8 Comprimidos</a>,\n",
       " <a class=\"collection-link\" data-click-url=\"/engage/search/v3/clicks?apikey=drogariasaopaulo&amp;trackingId=eyJzZWFyY2hJZCI6ImZiYmU3YmZkLWY2ZjMtNDdhYi1iYWI0LTNlYjI2M2UxNTc4NiIsIm9yaWdpbiI6InNlYXJjaCIsInByb2R1Y3QiOnsicmFua2luZyI6MjMsInBpZCI6IjMzOTYwIiwic2t1cyI6W119fQ%3D%3D\" href=\"//www.drogariasaopaulo.com.br/antiacido-sonrisal-2-comprimidos-efervescentes/p\" title=\"Sonrisal Tradicional Dupla Ação Antiácido e Analgésico para Alívio da Azia e Dor de Cabeça com 2 pastilhas\">Sonrisal Tradicional Dupla Ação Antiácido e Analgésico para Alívio da Azia e Dor de Cabeça com 2 pastilhas</a>,\n",
       " <a class=\"collection-link\" data-click-url=\"/engage/search/v3/clicks?apikey=drogariasaopaulo&amp;trackingId=eyJzZWFyY2hJZCI6ImZiYmU3YmZkLWY2ZjMtNDdhYi1iYWI0LTNlYjI2M2UxNTc4NiIsIm9yaWdpbiI6InNlYXJjaCIsInByb2R1Y3QiOnsicmFua2luZyI6MjQsInBpZCI6IjEzOTc5MyIsInNrdXMiOltdfX0%3D\" href=\"//www.drogariasaopaulo.com.br/acido-acetil-salicilico-infantil-100mg-generico-ems-100-comprimidos/p\" title=\"Ácido Acetil Salicílico Infantil 100mg Genérico EMS 100 Comprimidos\">Ácido Acetil Salicílico Infantil 100mg Genérico EMS 100 Comprimidos</a>,\n",
       " <a class=\"collection-link\" data-click-url=\"/engage/search/v3/clicks?apikey=drogariasaopaulo&amp;trackingId=eyJzZWFyY2hJZCI6ImZiYmU3YmZkLWY2ZjMtNDdhYi1iYWI0LTNlYjI2M2UxNTc4NiIsIm9yaWdpbiI6InNlYXJjaCIsInByb2R1Y3QiOnsicmFua2luZyI6MjUsInBpZCI6IjM1NjI1NSIsInNrdXMiOltdfX0%3D\" href=\"//www.drogariasaopaulo.com.br/doril-20-comprimidos/p\" title=\"Doril 20 comprimidos\">Doril 20 comprimidos</a>,\n",
       " <a class=\"collection-link\" data-click-url=\"/engage/search/v3/clicks?apikey=drogariasaopaulo&amp;trackingId=eyJzZWFyY2hJZCI6ImZiYmU3YmZkLWY2ZjMtNDdhYi1iYWI0LTNlYjI2M2UxNTc4NiIsIm9yaWdpbiI6InNlYXJjaCIsInByb2R1Y3QiOnsicmFua2luZyI6MjYsInBpZCI6IjU3OTM3OCIsInNrdXMiOltdfX0%3D\" href=\"//www.drogariasaopaulo.com.br/somalgin-cardio-100mg-ems-60-comprimidos-revestidos/p\" title=\"Somalgin Cardio 100mg EMS 60 Comprimidos Revestidos\">Somalgin Cardio 100mg EMS 60 Comprimidos Revestidos</a>,\n",
       " <a class=\"collection-link\" data-click-url=\"/engage/search/v3/clicks?apikey=drogariasaopaulo&amp;trackingId=eyJzZWFyY2hJZCI6ImZiYmU3YmZkLWY2ZjMtNDdhYi1iYWI0LTNlYjI2M2UxNTc4NiIsIm9yaWdpbiI6InNlYXJjaCIsInByb2R1Y3QiOnsicmFua2luZyI6MjcsInBpZCI6IjY5NjQ4MCIsInNrdXMiOltdfX0%3D\" href=\"//www.drogariasaopaulo.com.br/somalgin-cardio-81mg-ems-60-comprimidos/p\" title=\"Somalgin Cardio 81mg EMS 60 Comprimidos\">Somalgin Cardio 81mg EMS 60 Comprimidos</a>,\n",
       " <a class=\"collection-link\" data-click-url=\"/engage/search/v3/clicks?apikey=drogariasaopaulo&amp;trackingId=eyJzZWFyY2hJZCI6ImZiYmU3YmZkLWY2ZjMtNDdhYi1iYWI0LTNlYjI2M2UxNTc4NiIsIm9yaWdpbiI6InNlYXJjaCIsInByb2R1Y3QiOnsicmFua2luZyI6MjgsInBpZCI6IjE3MDk3NiIsInNrdXMiOltdfX0%3D\" href=\"//www.drogariasaopaulo.com.br/aas-protect-100mg-sanofi-aventis-30-comprimidos/p\" title=\"AAS Protect 100mg Hypera 30 comprimidos\">AAS Protect 100mg Hypera 30 comprimidos</a>,\n",
       " <a class=\"collection-link\" data-click-url=\"/engage/search/v3/clicks?apikey=drogariasaopaulo&amp;trackingId=eyJzZWFyY2hJZCI6ImZiYmU3YmZkLWY2ZjMtNDdhYi1iYWI0LTNlYjI2M2UxNTc4NiIsIm9yaWdpbiI6InNlYXJjaCIsInByb2R1Y3QiOnsicmFua2luZyI6MjksInBpZCI6IjEzMjQxMSIsInNrdXMiOltdfX0%3D\" href=\"//www.drogariasaopaulo.com.br/somalgin-cardio-200mg-ems-32-comprimidos-revestidos/p\" title=\"Somalgin Cardio 200mg EMS 32 Comprimidos Revestidos\">Somalgin Cardio 200mg EMS 32 Comprimidos Revestidos</a>,\n",
       " <a class=\"collection-link\" data-click-url=\"/engage/search/v3/clicks?apikey=drogariasaopaulo&amp;trackingId=eyJzZWFyY2hJZCI6ImZiYmU3YmZkLWY2ZjMtNDdhYi1iYWI0LTNlYjI2M2UxNTc4NiIsIm9yaWdpbiI6InNlYXJjaCIsInByb2R1Y3QiOnsicmFua2luZyI6MzAsInBpZCI6IjU0MzIxIiwic2t1cyI6W119fQ%3D%3D\" href=\"//www.drogariasaopaulo.com.br/somalgin-cardio-325mg-ems-32-comprimidos-revestidos/p\" title=\"Somalgin Cardio 325mg EMS 32 Comprimidos Revestidos\">Somalgin Cardio 325mg EMS 32 Comprimidos Revestidos</a>,\n",
       " <a class=\"collection-link\" data-click-url=\"/engage/search/v3/clicks?apikey=drogariasaopaulo&amp;trackingId=eyJzZWFyY2hJZCI6ImZiYmU3YmZkLWY2ZjMtNDdhYi1iYWI0LTNlYjI2M2UxNTc4NiIsIm9yaWdpbiI6InNlYXJjaCIsInByb2R1Y3QiOnsicmFua2luZyI6MzEsInBpZCI6IjY0NDc5MCIsInNrdXMiOltdfX0%3D\" href=\"//www.drogariasaopaulo.com.br/ecasil-81mg-30-comprimidos-revestidos-biolab-sanus/p\" title=\"Ecasil 81mg 30 Comprimidos Revestidos Biolab Sanus\">Ecasil 81mg 30 Comprimidos Revestidos Biolab Sanus</a>,\n",
       " <a class=\"collection-link\" data-click-url=\"/engage/search/v3/clicks?apikey=drogariasaopaulo&amp;trackingId=eyJzZWFyY2hJZCI6ImZiYmU3YmZkLWY2ZjMtNDdhYi1iYWI0LTNlYjI2M2UxNTc4NiIsIm9yaWdpbiI6InNlYXJjaCIsInByb2R1Y3QiOnsicmFua2luZyI6MzIsInBpZCI6IjI3NjM2NyIsInNrdXMiOltdfX0%3D\" href=\"//www.drogariasaopaulo.com.br/ecasil-81mg-zurita-90-comprimidos/p\" title=\"Ecasil 81mg Zurita 90 Comprimidos\">Ecasil 81mg Zurita 90 Comprimidos</a>,\n",
       " <a class=\"collection-link\" data-click-url=\"/engage/search/v3/clicks?apikey=drogariasaopaulo&amp;trackingId=eyJzZWFyY2hJZCI6ImZiYmU3YmZkLWY2ZjMtNDdhYi1iYWI0LTNlYjI2M2UxNTc4NiIsIm9yaWdpbiI6InNlYXJjaCIsInByb2R1Y3QiOnsicmFua2luZyI6MzMsInBpZCI6IjcyNTA4MCIsInNrdXMiOltdfX0%3D\" href=\"//www.drogariasaopaulo.com.br/clopin-duo-75mg--100mg-ache-30-comprimidos/p\" title=\"Clopin Duo 75mg + 100mg Aché 30 Comprimidos\">Clopin Duo 75mg + 100mg Aché 30 Comprimidos</a>,\n",
       " <a class=\"collection-link\" data-click-url=\"/engage/search/v3/clicks?apikey=drogariasaopaulo&amp;trackingId=eyJzZWFyY2hJZCI6ImZiYmU3YmZkLWY2ZjMtNDdhYi1iYWI0LTNlYjI2M2UxNTc4NiIsIm9yaWdpbiI6InNlYXJjaCIsInByb2R1Y3QiOnsicmFua2luZyI6MzQsInBpZCI6IjUwMDIxNiIsInNrdXMiOltdfX0%3D\" href=\"//www.drogariasaopaulo.com.br/aspirina-500mg-bayer-20-comprimidos/p\" title=\"Aspirina 500mg Bayer 20 comprimidos\">Aspirina 500mg Bayer 20 comprimidos</a>,\n",
       " <a class=\"collection-link\" data-click-url=\"/engage/search/v3/clicks?apikey=drogariasaopaulo&amp;trackingId=eyJzZWFyY2hJZCI6ImZiYmU3YmZkLWY2ZjMtNDdhYi1iYWI0LTNlYjI2M2UxNTc4NiIsIm9yaWdpbiI6InNlYXJjaCIsInByb2R1Y3QiOnsicmFua2luZyI6MzUsInBpZCI6IjMzNDMwIiwic2t1cyI6W119fQ%3D%3D\" href=\"//www.drogariasaopaulo.com.br/aspirina-adulto-efervescente-500mg-bayer-2-comprimidos/p\" title=\"Aspirina Adulto 500mg Bayer 2 Comprimidos Efervescentes\">Aspirina Adulto 500mg Bayer 2 Comprimidos Efervescentes</a>,\n",
       " <a class=\"collection-link\" data-click-url=\"/engage/search/v3/clicks?apikey=drogariasaopaulo&amp;trackingId=eyJzZWFyY2hJZCI6ImZiYmU3YmZkLWY2ZjMtNDdhYi1iYWI0LTNlYjI2M2UxNTc4NiIsIm9yaWdpbiI6InNlYXJjaCIsInByb2R1Y3QiOnsicmFua2luZyI6MzYsInBpZCI6IjM1MjcwNSIsInNrdXMiOltdfX0%3D\" href=\"//www.drogariasaopaulo.com.br/aspirina-c-morango-400-200mg-bayer-2-comprimidos-efervescentes/p\" title=\"Aspirina C Morango 400/200mg Bayer 2 Comprimidos Efervescentes\">Aspirina C Morango 400/200mg Bayer 2 Comprimidos Efervescentes</a>,\n",
       " <a class=\"collection-link\" data-click-url=\"/engage/search/v3/clicks?apikey=drogariasaopaulo&amp;trackingId=eyJzZWFyY2hJZCI6ImZiYmU3YmZkLWY2ZjMtNDdhYi1iYWI0LTNlYjI2M2UxNTc4NiIsIm9yaWdpbiI6InNlYXJjaCIsInByb2R1Y3QiOnsicmFua2luZyI6MzcsInBpZCI6IjE2OTY2OCIsInNrdXMiOltdfX0%3D\" href=\"//www.drogariasaopaulo.com.br/aspirina-500mg-bayer-4-comprimidos/p\" title=\"Aspirina 500mg Bayer 4 Comprimidos\">Aspirina 500mg Bayer 4 Comprimidos</a>,\n",
       " <a class=\"collection-link\" data-click-url=\"/engage/search/v3/clicks?apikey=drogariasaopaulo&amp;trackingId=eyJzZWFyY2hJZCI6ImZiYmU3YmZkLWY2ZjMtNDdhYi1iYWI0LTNlYjI2M2UxNTc4NiIsIm9yaWdpbiI6InNlYXJjaCIsInByb2R1Y3QiOnsicmFua2luZyI6MzgsInBpZCI6Ijc3ODg3Iiwic2t1cyI6W119fQ%3D%3D\" href=\"//www.drogariasaopaulo.com.br/acido-acetil-salicilico-adulto-500mg-generico-ems-10-comprimidos/p\" title=\"Ácido Acetilsalicílico Adulto 500mg Genérico EMS 10 Comprimidos\">Ácido Acetilsalicílico Adulto 500mg Genérico EMS 10 Comprimidos</a>,\n",
       " <a class=\"collection-link\" data-click-url=\"/engage/search/v3/clicks?apikey=drogariasaopaulo&amp;trackingId=eyJzZWFyY2hJZCI6ImZiYmU3YmZkLWY2ZjMtNDdhYi1iYWI0LTNlYjI2M2UxNTc4NiIsIm9yaWdpbiI6InNlYXJjaCIsInByb2R1Y3QiOnsicmFua2luZyI6MzksInBpZCI6IjEyNzI1NiIsInNrdXMiOltdfX0%3D\" href=\"//www.drogariasaopaulo.com.br/acido-acetil-salicilico-infantil-100mg-generico-ems-10-comprimidos/p\" title=\"Ácido Acetilsalicílico Infantil 100mg Genérico EMS 10 Comprimidos\">Ácido Acetilsalicílico Infantil 100mg Genérico EMS 10 Comprimidos</a>,\n",
       " <a class=\"collection-link\" data-click-url=\"/engage/search/v3/clicks?apikey=drogariasaopaulo&amp;trackingId=eyJzZWFyY2hJZCI6ImZiYmU3YmZkLWY2ZjMtNDdhYi1iYWI0LTNlYjI2M2UxNTc4NiIsIm9yaWdpbiI6InNlYXJjaCIsInByb2R1Y3QiOnsicmFua2luZyI6NDAsInBpZCI6IjMxNDQyMCIsInNrdXMiOltdfX0%3D\" href=\"//www.drogariasaopaulo.com.br/acido-acetilsalicilico-100mg-cimed-10-comprimidos/p\" title=\"Ácido Acetilsalicilico 100mg Cimed 10 Comprimidos\">Ácido Acetilsalicilico 100mg Cimed 10 Comprimidos</a>,\n",
       " <a class=\"collection-link\" data-click-url=\"/engage/search/v3/clicks?apikey=drogariasaopaulo&amp;trackingId=eyJzZWFyY2hJZCI6ImZiYmU3YmZkLWY2ZjMtNDdhYi1iYWI0LTNlYjI2M2UxNTc4NiIsIm9yaWdpbiI6InNlYXJjaCIsInByb2R1Y3QiOnsicmFua2luZyI6NDEsInBpZCI6IjY0NzUzNSIsInNrdXMiOltdfX0%3D\" href=\"//www.drogariasaopaulo.com.br/acido-acetilsalicilico-infantil-100mg-30-comprimidos-g-cimed/p\" title=\"Ácido Acetilsalicilico Infantil 100mg Genérico Cimed  30 Comprimidos\">Ácido Acetilsalicilico Infantil 100mg Genérico Cimed  30 Comprimidos</a>,\n",
       " <a class=\"collection-link\" data-click-url=\"/engage/search/v3/clicks?apikey=drogariasaopaulo&amp;trackingId=eyJzZWFyY2hJZCI6ImZiYmU3YmZkLWY2ZjMtNDdhYi1iYWI0LTNlYjI2M2UxNTc4NiIsIm9yaWdpbiI6InNlYXJjaCIsInByb2R1Y3QiOnsicmFua2luZyI6NDIsInBpZCI6IjMxNDQzOSIsInNrdXMiOltdfX0%3D\" href=\"//www.drogariasaopaulo.com.br/acido-acetilsalicilico-500mg-cimed-10-comprimidos/p\" title=\"Ácido Acetilsalicilico 500mg Cimed 10 Comprimidos\">Ácido Acetilsalicilico 500mg Cimed 10 Comprimidos</a>,\n",
       " <a class=\"collection-link\" data-click-url=\"/engage/search/v3/clicks?apikey=drogariasaopaulo&amp;trackingId=eyJzZWFyY2hJZCI6ImZiYmU3YmZkLWY2ZjMtNDdhYi1iYWI0LTNlYjI2M2UxNTc4NiIsIm9yaWdpbiI6InNlYXJjaCIsInByb2R1Y3QiOnsicmFua2luZyI6NDMsInBpZCI6IjMyODMyIiwic2t1cyI6W119fQ%3D%3D\" href=\"//www.drogariasaopaulo.com.br/aas-infantil-100mg-sanofi-aventis-10-comprimidos/p\" title=\"Aas Infantil 100mg Sanofi Aventis 10 Comprimidos\">Aas Infantil 100mg Sanofi Aventis 10 Comprimidos</a>,\n",
       " <a class=\"collection-link\" data-click-url=\"/engage/search/v3/clicks?apikey=drogariasaopaulo&amp;trackingId=eyJzZWFyY2hJZCI6ImZiYmU3YmZkLWY2ZjMtNDdhYi1iYWI0LTNlYjI2M2UxNTc4NiIsIm9yaWdpbiI6InNlYXJjaCIsInByb2R1Y3QiOnsicmFua2luZyI6NDQsInBpZCI6IjI0NDU3Iiwic2t1cyI6W119fQ%3D%3D\" href=\"//www.drogariasaopaulo.com.br/bufferin-novartis-biociencias-4-comprimidos/p\" title=\"Bufferin Novartis Biociências 4 Comprimidos\">Bufferin Novartis Biociências 4 Comprimidos</a>,\n",
       " <a class=\"collection-link\" data-click-url=\"/engage/search/v3/clicks?apikey=drogariasaopaulo&amp;trackingId=eyJzZWFyY2hJZCI6ImZiYmU3YmZkLWY2ZjMtNDdhYi1iYWI0LTNlYjI2M2UxNTc4NiIsIm9yaWdpbiI6InNlYXJjaCIsInByb2R1Y3QiOnsicmFua2luZyI6NDUsInBpZCI6Ijk5NjAwIiwic2t1cyI6W119fQ%3D%3D\" href=\"//www.drogariasaopaulo.com.br/bufferin-novartis-adulto-30-comprimidos/p\" title=\"Bufferin Novartis Adulto - 30 Comprimidos\">Bufferin Novartis Adulto - 30 Comprimidos</a>,\n",
       " <a class=\"collection-link\" data-click-url=\"/engage/search/v3/clicks?apikey=drogariasaopaulo&amp;trackingId=eyJzZWFyY2hJZCI6ImZiYmU3YmZkLWY2ZjMtNDdhYi1iYWI0LTNlYjI2M2UxNTc4NiIsIm9yaWdpbiI6InNlYXJjaCIsInByb2R1Y3QiOnsicmFua2luZyI6NDYsInBpZCI6IjYxNDkyIiwic2t1cyI6W119fQ%3D%3D\" href=\"//www.drogariasaopaulo.com.br/cafiaspirina-bayer-4-capsulas/p\" title=\"Cafiaspirina Bayer 4 Cápsulas\">Cafiaspirina Bayer 4 Cápsulas</a>,\n",
       " <a class=\"collection-link\" data-click-url=\"/engage/search/v3/clicks?apikey=drogariasaopaulo&amp;trackingId=eyJzZWFyY2hJZCI6ImZiYmU3YmZkLWY2ZjMtNDdhYi1iYWI0LTNlYjI2M2UxNTc4NiIsIm9yaWdpbiI6InNlYXJjaCIsInByb2R1Y3QiOnsicmFua2luZyI6NDcsInBpZCI6IjI3NjQ2NCIsInNrdXMiOltdfX0%3D\" href=\"//www.drogariasaopaulo.com.br/posdrink-de-martin-4-comprimidos/p\" title=\"Posdrink De Martin 4 Comprimidos\">Posdrink De Martin 4 Comprimidos</a>,\n",
       " <a class=\"collection-link\" data-click-url=\"/engage/search/v3/clicks?apikey=drogariasaopaulo&amp;trackingId=eyJzZWFyY2hJZCI6ImZiYmU3YmZkLWY2ZjMtNDdhYi1iYWI0LTNlYjI2M2UxNTc4NiIsIm9yaWdpbiI6InNlYXJjaCIsInByb2R1Y3QiOnsicmFua2luZyI6NDgsInBpZCI6IjYyOTk0NCIsInNrdXMiOltdfX0%3D\" href=\"//www.drogariasaopaulo.com.br/antigripal-coristina-d-8-comprimidos/p\" title=\"Antigripal Coristina D 8 Comprimidos\">Antigripal Coristina D 8 Comprimidos</a>]"
      ]
     },
     "execution_count": 93,
     "metadata": {},
     "output_type": "execute_result"
    }
   ],
   "source": [
    "results"
   ]
  },
  {
   "cell_type": "code",
   "execution_count": 94,
   "metadata": {},
   "outputs": [],
   "source": [
    "producto=[] \n",
    "price=[]\n",
    "for result in results:\n",
    "    product=result.get(\"title\")\n",
    "    producto.append(product)"
   ]
  },
  {
   "cell_type": "code",
   "execution_count": 95,
   "metadata": {},
   "outputs": [
    {
     "data": {
      "text/plain": [
       "['Analgésico Aspirina Adulto 500mg Bayer 10 Comprimidos',\n",
       " 'Analgésico Aspirina Microativa 500mg Bayer 20 Comprimidos',\n",
       " 'Analgésico Aspirina C 400mg Bayer Limão 2 Comprimidos',\n",
       " 'Ácido Acetilsalicílico 100mg Genérico EMS 30 Comprimidos',\n",
       " 'Analgésico Aspirina Microativa 500mg Bayer 4 Comprimidos',\n",
       " 'Analgésico Aspirina C 400mg 10 Comprimidos',\n",
       " 'Aspirina Prevent 100mg Bayer 30 Comprimidos',\n",
       " 'Aas Infantil 100mg  Hypera 30 Comprimidos',\n",
       " 'Aspirina Prevent 100mg Bayer 100 Comprimidos',\n",
       " 'Sonrisal Tradicional Dupla Ação Antiácido e Analgésico para Alívio da Azia e Dor de Cabeça com 10 pastilhas',\n",
       " 'AAS Infantil 120 comprimidos',\n",
       " 'Doril Enxaqueca 4 comprimidos',\n",
       " 'Engov Caixa 24 comprimidos',\n",
       " 'Aspirina Prevent 300mg Bayer 30 Comprimidos',\n",
       " 'Melhoral Infantil 8 Comprimidos',\n",
       " 'Sonrisal Limão Dupla Ação Antiácido e Analgésico para Alívio da Azia e Dor de Cabeça com 10 pastilhas',\n",
       " 'Antigripal Benegrip 12 Comprimidos',\n",
       " 'Engov 15mg + 150mg +150mg + 50mg Cosmed 12 Comprimidos',\n",
       " 'Engov Envelope 6 Comprimidos',\n",
       " 'Antiácido Sonrisal Limão 2 Comprimidos Efervescentes',\n",
       " 'Doril  6 Comprimidos',\n",
       " 'Melhoral Adulto 8 Comprimidos',\n",
       " 'Sonrisal Tradicional Dupla Ação Antiácido e Analgésico para Alívio da Azia e Dor de Cabeça com 2 pastilhas',\n",
       " 'Ácido Acetil Salicílico Infantil 100mg Genérico EMS 100 Comprimidos',\n",
       " 'Doril 20 comprimidos',\n",
       " 'Somalgin Cardio 100mg EMS 60 Comprimidos Revestidos',\n",
       " 'Somalgin Cardio 81mg EMS 60 Comprimidos',\n",
       " 'AAS Protect 100mg Hypera 30 comprimidos',\n",
       " 'Somalgin Cardio 200mg EMS 32 Comprimidos Revestidos',\n",
       " 'Somalgin Cardio 325mg EMS 32 Comprimidos Revestidos',\n",
       " 'Ecasil 81mg 30 Comprimidos Revestidos Biolab Sanus',\n",
       " 'Ecasil 81mg Zurita 90 Comprimidos',\n",
       " 'Clopin Duo 75mg + 100mg Aché 30 Comprimidos',\n",
       " 'Aspirina 500mg Bayer 20 comprimidos',\n",
       " 'Aspirina Adulto 500mg Bayer 2 Comprimidos Efervescentes',\n",
       " 'Aspirina C Morango 400/200mg Bayer 2 Comprimidos Efervescentes',\n",
       " 'Aspirina 500mg Bayer 4 Comprimidos',\n",
       " 'Ácido Acetilsalicílico Adulto 500mg Genérico EMS 10 Comprimidos',\n",
       " 'Ácido Acetilsalicílico Infantil 100mg Genérico EMS 10 Comprimidos',\n",
       " 'Ácido Acetilsalicilico 100mg Cimed 10 Comprimidos',\n",
       " 'Ácido Acetilsalicilico Infantil 100mg Genérico Cimed  30 Comprimidos',\n",
       " 'Ácido Acetilsalicilico 500mg Cimed 10 Comprimidos',\n",
       " 'Aas Infantil 100mg Sanofi Aventis 10 Comprimidos',\n",
       " 'Bufferin Novartis Biociências 4 Comprimidos',\n",
       " 'Bufferin Novartis Adulto - 30 Comprimidos',\n",
       " 'Cafiaspirina Bayer 4 Cápsulas',\n",
       " 'Posdrink De Martin 4 Comprimidos',\n",
       " 'Antigripal Coristina D 8 Comprimidos']"
      ]
     },
     "execution_count": 95,
     "metadata": {},
     "output_type": "execute_result"
    }
   ],
   "source": [
    "producto"
   ]
  }
 ],
 "metadata": {
  "kernelspec": {
   "display_name": "base",
   "language": "python",
   "name": "python3"
  },
  "language_info": {
   "codemirror_mode": {
    "name": "ipython",
    "version": 3
   },
   "file_extension": ".py",
   "mimetype": "text/x-python",
   "name": "python",
   "nbconvert_exporter": "python",
   "pygments_lexer": "ipython3",
   "version": "3.10.10"
  },
  "orig_nbformat": 4
 },
 "nbformat": 4,
 "nbformat_minor": 2
}
