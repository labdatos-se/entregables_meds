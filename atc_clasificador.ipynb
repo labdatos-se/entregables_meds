{
 "cells": [
  {
   "cell_type": "code",
   "execution_count": 1,
   "metadata": {},
   "outputs": [],
   "source": [
    "import pandas as pd\n",
    "import requests\n",
    "from bs4 import BeautifulSoup"
   ]
  },
  {
   "cell_type": "code",
   "execution_count": 2,
   "metadata": {},
   "outputs": [],
   "source": [
    "url_basica=\"https://www.whocc.no/atc_ddd_index/?code=\"\n",
    "fin=\"&showdescription=no\""
   ]
  },
  {
   "cell_type": "code",
   "execution_count": 3,
   "metadata": {},
   "outputs": [],
   "source": [
    "headers = {'User-Agent': 'Mozilla/5.0 (Windows NT 10.0; Win64; x64) AppleWebKit/537.36 (KHTML, like Gecko) Chrome/114.0.0.0 Safari/537.36'}\n"
   ]
  },
  {
   "cell_type": "code",
   "execution_count": 4,
   "metadata": {},
   "outputs": [],
   "source": [
    "#Obtener primer caso\n",
    "url=url_basica+\"A30AB\"+fin\n",
    "page=requests.get(url,headers=headers)"
   ]
  },
  {
   "cell_type": "code",
   "execution_count": 5,
   "metadata": {},
   "outputs": [],
   "source": [
    "#Obtener el contenido de la pagina\n",
    "soup=BeautifulSoup(page.content,'html.parser')"
   ]
  },
  {
   "cell_type": "code",
   "execution_count": 8,
   "metadata": {},
   "outputs": [],
   "source": [
    "# Categorías y códigos\n",
    "categories = soup.find_all('b')\n",
    "category_codes = []\n",
    "category_names = []\n",
    "\n",
    "for category in categories:\n",
    "    category_link = category.find('a', href=True)\n",
    "    if category_link:\n",
    "        category_code = category_link['href'].split('=')[1].split('&')[0]\n",
    "        category_name = category_link.text.strip()\n",
    "        category_codes.append(category_code)\n",
    "        category_names.append(category_name)\n",
    "\n",
    "\n",
    "# Extraer la info de la tabla\n",
    "table = soup.find('table')\n",
    "try:\n",
    "    rows = table.find_all('tr')\n",
    "except:\n",
    "    rows = []\n",
    "\n",
    "#Pegar todas las filas en una lista\n",
    "data=[]\n",
    "for row in rows:\n",
    "    cols = row.find_all('td')\n",
    "    cols = [ele.text.strip() for ele in cols]\n",
    "    data.append(cols)"
   ]
  },
  {
   "cell_type": "code",
   "execution_count": 9,
   "metadata": {},
   "outputs": [
    {
     "data": {
      "text/plain": [
       "[]"
      ]
     },
     "execution_count": 9,
     "metadata": {},
     "output_type": "execute_result"
    }
   ],
   "source": [
    "data"
   ]
  },
  {
   "cell_type": "code",
   "execution_count": 10,
   "metadata": {},
   "outputs": [
    {
     "data": {
      "text/html": [
       "<div>\n",
       "<style scoped>\n",
       "    .dataframe tbody tr th:only-of-type {\n",
       "        vertical-align: middle;\n",
       "    }\n",
       "\n",
       "    .dataframe tbody tr th {\n",
       "        vertical-align: top;\n",
       "    }\n",
       "\n",
       "    .dataframe thead th {\n",
       "        text-align: right;\n",
       "    }\n",
       "</style>\n",
       "<table border=\"1\" class=\"dataframe\">\n",
       "  <thead>\n",
       "    <tr style=\"text-align: right;\">\n",
       "      <th></th>\n",
       "      <th>atc5_code</th>\n",
       "      <th>drug_name</th>\n",
       "      <th>ddd</th>\n",
       "      <th>unit</th>\n",
       "      <th>administration</th>\n",
       "      <th>note</th>\n",
       "    </tr>\n",
       "  </thead>\n",
       "  <tbody>\n",
       "  </tbody>\n",
       "</table>\n",
       "</div>"
      ],
      "text/plain": [
       "Empty DataFrame\n",
       "Columns: [atc5_code, drug_name, ddd, unit, administration, note]\n",
       "Index: []"
      ]
     },
     "execution_count": 10,
     "metadata": {},
     "output_type": "execute_result"
    }
   ],
   "source": [
    "import numpy as np\n",
    "df = pd.DataFrame(data, columns=['atc5_code', 'drug_name', 'ddd', 'unit', 'administration', 'note'])\n",
    "#Incorprar la categoria y el nombre. Cada elemento debe ir en una sola columna\n",
    "#Eliminar primera fila\n",
    "df = df.iloc[1:]\n",
    "#Vacíos como NaN\n",
    "df = df.replace(r'^\\s*$', np.nan, regex=True)\n",
    "#Rellenar vacíoos de atc5_code y drug_name con el valor de la fila anterior\n",
    "df['atc5_code'] = df['atc5_code'].fillna(method='ffill')\n",
    "df['drug_name'] = df['drug_name'].fillna(method='ffill')\n",
    "df"
   ]
  },
  {
   "cell_type": "code",
   "execution_count": 11,
   "metadata": {},
   "outputs": [
    {
     "data": {
      "text/html": [
       "<div>\n",
       "<style scoped>\n",
       "    .dataframe tbody tr th:only-of-type {\n",
       "        vertical-align: middle;\n",
       "    }\n",
       "\n",
       "    .dataframe tbody tr th {\n",
       "        vertical-align: top;\n",
       "    }\n",
       "\n",
       "    .dataframe thead th {\n",
       "        text-align: right;\n",
       "    }\n",
       "</style>\n",
       "<table border=\"1\" class=\"dataframe\">\n",
       "  <thead>\n",
       "    <tr style=\"text-align: right;\">\n",
       "      <th></th>\n",
       "      <th>atc1_code</th>\n",
       "      <th>atc1_name</th>\n",
       "      <th>atc2_code</th>\n",
       "      <th>atc2_name</th>\n",
       "      <th>atc3_code</th>\n",
       "      <th>atc3_name</th>\n",
       "      <th>atc4_code</th>\n",
       "      <th>atc4_name</th>\n",
       "      <th>atc5_code</th>\n",
       "      <th>drug_name</th>\n",
       "      <th>ddd</th>\n",
       "      <th>unit</th>\n",
       "      <th>administration</th>\n",
       "      <th>note</th>\n",
       "    </tr>\n",
       "  </thead>\n",
       "  <tbody>\n",
       "  </tbody>\n",
       "</table>\n",
       "</div>"
      ],
      "text/plain": [
       "Empty DataFrame\n",
       "Columns: [atc1_code, atc1_name, atc2_code, atc2_name, atc3_code, atc3_name, atc4_code, atc4_name, atc5_code, drug_name, ddd, unit, administration, note]\n",
       "Index: []"
      ]
     },
     "execution_count": 11,
     "metadata": {},
     "output_type": "execute_result"
    }
   ],
   "source": [
    "#Llevr a un dataframe\n",
    "df = pd.DataFrame(data, columns=['atc5_code', 'drug_name', 'ddd', 'unit', 'administration', 'note'])\n",
    "#Eliminar primera fila\n",
    "df = df.iloc[1:]\n",
    "#Vacíos como NaN\n",
    "df = df.replace(r'^\\s*$', np.nan, regex=True)\n",
    "#Rellenar vacíoos de atc5_code y drug_name con el valor de la fila anterior\n",
    "df['atc5_code'] = df['atc5_code'].fillna(method='ffill')\n",
    "df['drug_name'] = df['drug_name'].fillna(method='ffill')\n",
    "#Incorprar la categoria y el nombre. Cada elemento debe ir en una sola columna\n",
    "df['atc1_code'] = df['atc5_code'].apply(lambda x: x[0])\n",
    "df[\"atc1_name\"] = df[\"atc1_code\"].map(dict(zip(category_codes, category_names)))\n",
    "df[\"atc2_code\"] = df[\"atc5_code\"].apply(lambda x: x[:3])\n",
    "df[\"atc2_name\"] = df[\"atc2_code\"].map(dict(zip(category_codes, category_names)))\n",
    "df[\"atc3_code\"] = df[\"atc5_code\"].apply(lambda x: x[:4])\n",
    "df[\"atc3_name\"] = df[\"atc3_code\"].map(dict(zip(category_codes, category_names)))\n",
    "df[\"atc4_code\"] = df[\"atc5_code\"].apply(lambda x: x[:5])\n",
    "df[\"atc4_name\"] = df[\"atc4_code\"].map(dict(zip(category_codes, category_names)))\n",
    "\n",
    "#Ordenar las columnas\n",
    "df = df[['atc1_code', 'atc1_name', 'atc2_code', 'atc2_name', 'atc3_code', 'atc3_name', 'atc4_code', 'atc4_name', 'atc5_code', 'drug_name', 'ddd', 'unit', 'administration', 'note']]\n",
    "#Minúsculas\n",
    "df = df.apply(lambda x: x.str.lower() if x.dtype == \"object\" else x)\n",
    "df"
   ]
  }
 ],
 "metadata": {
  "kernelspec": {
   "display_name": "base",
   "language": "python",
   "name": "python3"
  },
  "language_info": {
   "codemirror_mode": {
    "name": "ipython",
    "version": 3
   },
   "file_extension": ".py",
   "mimetype": "text/x-python",
   "name": "python",
   "nbconvert_exporter": "python",
   "pygments_lexer": "ipython3",
   "version": "3.10.10"
  },
  "orig_nbformat": 4
 },
 "nbformat": 4,
 "nbformat_minor": 2
}
