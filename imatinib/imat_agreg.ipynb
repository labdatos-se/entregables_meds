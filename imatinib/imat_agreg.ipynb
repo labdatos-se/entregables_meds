{
 "cells": [
  {
   "cell_type": "code",
   "execution_count": 1,
   "metadata": {},
   "outputs": [],
   "source": [
    "import pandas as pd\n",
    "import os\n",
    "import plotly.graph_objects as go\n",
    "import plotly.io as pio"
   ]
  },
  {
   "cell_type": "code",
   "execution_count": 2,
   "metadata": {},
   "outputs": [],
   "source": [
    "\n",
    "os.chdir(\"C:/Users/claudio.pacheco/Documents/GitHub/entregables_meds\")"
   ]
  },
  {
   "cell_type": "code",
   "execution_count": 3,
   "metadata": {},
   "outputs": [
    {
     "data": {
      "text/html": [
       "<div>\n",
       "<style scoped>\n",
       "    .dataframe tbody tr th:only-of-type {\n",
       "        vertical-align: middle;\n",
       "    }\n",
       "\n",
       "    .dataframe tbody tr th {\n",
       "        vertical-align: top;\n",
       "    }\n",
       "\n",
       "    .dataframe thead th {\n",
       "        text-align: right;\n",
       "    }\n",
       "</style>\n",
       "<table border=\"1\" class=\"dataframe\">\n",
       "  <thead>\n",
       "    <tr style=\"text-align: right;\">\n",
       "      <th></th>\n",
       "      <th>product_name</th>\n",
       "      <th>quantity</th>\n",
       "      <th>unit</th>\n",
       "      <th>num_prod</th>\n",
       "      <th>presentacion</th>\n",
       "      <th>precio</th>\n",
       "      <th>prod_c</th>\n",
       "      <th>fecha</th>\n",
       "    </tr>\n",
       "  </thead>\n",
       "  <tbody>\n",
       "    <tr>\n",
       "      <th>0</th>\n",
       "      <td>glivec</td>\n",
       "      <td>400.0</td>\n",
       "      <td>mg</td>\n",
       "      <td>30</td>\n",
       "      <td>tableta</td>\n",
       "      <td>38400.08</td>\n",
       "      <td>glivec  400.0 mg 30 tableta</td>\n",
       "      <td>2023-04-20</td>\n",
       "    </tr>\n",
       "    <tr>\n",
       "      <th>1</th>\n",
       "      <td>intici</td>\n",
       "      <td>400.0</td>\n",
       "      <td>mg</td>\n",
       "      <td>30</td>\n",
       "      <td>tableta</td>\n",
       "      <td>19764.00</td>\n",
       "      <td>intici  400.0 mg 30 tableta</td>\n",
       "      <td>2023-04-20</td>\n",
       "    </tr>\n",
       "    <tr>\n",
       "      <th>2</th>\n",
       "      <td>glivec</td>\n",
       "      <td>100.0</td>\n",
       "      <td>mg</td>\n",
       "      <td>60</td>\n",
       "      <td>tableta</td>\n",
       "      <td>17689.25</td>\n",
       "      <td>glivec  100.0 mg 60 tableta</td>\n",
       "      <td>2023-04-20</td>\n",
       "    </tr>\n",
       "    <tr>\n",
       "      <th>3</th>\n",
       "      <td>glivec</td>\n",
       "      <td>400.0</td>\n",
       "      <td>mg</td>\n",
       "      <td>10</td>\n",
       "      <td>tableta</td>\n",
       "      <td>13403.60</td>\n",
       "      <td>glivec  400.0 mg 10 tableta</td>\n",
       "      <td>2023-04-20</td>\n",
       "    </tr>\n",
       "    <tr>\n",
       "      <th>4</th>\n",
       "      <td>intici</td>\n",
       "      <td>100.0</td>\n",
       "      <td>mg</td>\n",
       "      <td>60</td>\n",
       "      <td>tableta</td>\n",
       "      <td>9111.00</td>\n",
       "      <td>intici  100.0 mg 60 tableta</td>\n",
       "      <td>2023-04-20</td>\n",
       "    </tr>\n",
       "    <tr>\n",
       "      <th>5</th>\n",
       "      <td>detepol</td>\n",
       "      <td>100.0</td>\n",
       "      <td>mg</td>\n",
       "      <td>60</td>\n",
       "      <td>tableta</td>\n",
       "      <td>8600.00</td>\n",
       "      <td>detepol  100.0 mg 60 tableta</td>\n",
       "      <td>2023-04-20</td>\n",
       "    </tr>\n",
       "    <tr>\n",
       "      <th>6</th>\n",
       "      <td>imatinib</td>\n",
       "      <td>100.0</td>\n",
       "      <td>mg</td>\n",
       "      <td>60</td>\n",
       "      <td>tableta</td>\n",
       "      <td>6264.00</td>\n",
       "      <td>imatinib  100.0 mg 60 tableta</td>\n",
       "      <td>2023-04-20</td>\n",
       "    </tr>\n",
       "  </tbody>\n",
       "</table>\n",
       "</div>"
      ],
      "text/plain": [
       "  product_name  quantity unit  num_prod presentacion    precio  \\\n",
       "0      glivec      400.0   mg        30      tableta  38400.08   \n",
       "1      intici      400.0   mg        30      tableta  19764.00   \n",
       "2      glivec      100.0   mg        60      tableta  17689.25   \n",
       "3      glivec      400.0   mg        10      tableta  13403.60   \n",
       "4      intici      100.0   mg        60      tableta   9111.00   \n",
       "5     detepol      100.0   mg        60      tableta   8600.00   \n",
       "6    imatinib      100.0   mg        60      tableta   6264.00   \n",
       "\n",
       "                          prod_c       fecha  \n",
       "0    glivec  400.0 mg 30 tableta  2023-04-20  \n",
       "1    intici  400.0 mg 30 tableta  2023-04-20  \n",
       "2    glivec  100.0 mg 60 tableta  2023-04-20  \n",
       "3    glivec  400.0 mg 10 tableta  2023-04-20  \n",
       "4    intici  100.0 mg 60 tableta  2023-04-20  \n",
       "5   detepol  100.0 mg 60 tableta  2023-04-20  \n",
       "6  imatinib  100.0 mg 60 tableta  2023-04-20  "
      ]
     },
     "execution_count": 3,
     "metadata": {},
     "output_type": "execute_result"
    }
   ],
   "source": [
    "#Leer el archivo\n",
    "imat1 = pd.read_csv(\"imatinib/imatinib_20_04_2023.csv\")\n",
    "#Añadir columna con fecha\n",
    "imat1[\"fecha\"] = \"2023-04-20\"\n",
    "imat1\n"
   ]
  },
  {
   "cell_type": "code",
   "execution_count": 4,
   "metadata": {},
   "outputs": [
    {
     "data": {
      "text/html": [
       "<div>\n",
       "<style scoped>\n",
       "    .dataframe tbody tr th:only-of-type {\n",
       "        vertical-align: middle;\n",
       "    }\n",
       "\n",
       "    .dataframe tbody tr th {\n",
       "        vertical-align: top;\n",
       "    }\n",
       "\n",
       "    .dataframe thead th {\n",
       "        text-align: right;\n",
       "    }\n",
       "</style>\n",
       "<table border=\"1\" class=\"dataframe\">\n",
       "  <thead>\n",
       "    <tr style=\"text-align: right;\">\n",
       "      <th></th>\n",
       "      <th>product_name</th>\n",
       "      <th>quantity</th>\n",
       "      <th>unit</th>\n",
       "      <th>num_prod</th>\n",
       "      <th>presentacion</th>\n",
       "      <th>precio</th>\n",
       "      <th>prod_c</th>\n",
       "      <th>fecha</th>\n",
       "    </tr>\n",
       "  </thead>\n",
       "  <tbody>\n",
       "    <tr>\n",
       "      <th>0</th>\n",
       "      <td>glivec</td>\n",
       "      <td>400.0</td>\n",
       "      <td>mg</td>\n",
       "      <td>30</td>\n",
       "      <td>tableta</td>\n",
       "      <td>38400.08</td>\n",
       "      <td>glivec  400.0 mg 30 tableta</td>\n",
       "      <td>2023-04-21</td>\n",
       "    </tr>\n",
       "    <tr>\n",
       "      <th>1</th>\n",
       "      <td>intici</td>\n",
       "      <td>400.0</td>\n",
       "      <td>mg</td>\n",
       "      <td>30</td>\n",
       "      <td>tableta</td>\n",
       "      <td>19764.00</td>\n",
       "      <td>intici  400.0 mg 30 tableta</td>\n",
       "      <td>2023-04-21</td>\n",
       "    </tr>\n",
       "    <tr>\n",
       "      <th>2</th>\n",
       "      <td>glivec</td>\n",
       "      <td>100.0</td>\n",
       "      <td>mg</td>\n",
       "      <td>60</td>\n",
       "      <td>tableta</td>\n",
       "      <td>17689.25</td>\n",
       "      <td>glivec  100.0 mg 60 tableta</td>\n",
       "      <td>2023-04-21</td>\n",
       "    </tr>\n",
       "    <tr>\n",
       "      <th>3</th>\n",
       "      <td>glivec</td>\n",
       "      <td>400.0</td>\n",
       "      <td>mg</td>\n",
       "      <td>10</td>\n",
       "      <td>tableta</td>\n",
       "      <td>13403.60</td>\n",
       "      <td>glivec  400.0 mg 10 tableta</td>\n",
       "      <td>2023-04-21</td>\n",
       "    </tr>\n",
       "    <tr>\n",
       "      <th>4</th>\n",
       "      <td>intici</td>\n",
       "      <td>100.0</td>\n",
       "      <td>mg</td>\n",
       "      <td>60</td>\n",
       "      <td>tableta</td>\n",
       "      <td>9111.00</td>\n",
       "      <td>intici  100.0 mg 60 tableta</td>\n",
       "      <td>2023-04-21</td>\n",
       "    </tr>\n",
       "    <tr>\n",
       "      <th>5</th>\n",
       "      <td>detepol</td>\n",
       "      <td>100.0</td>\n",
       "      <td>mg</td>\n",
       "      <td>60</td>\n",
       "      <td>tableta</td>\n",
       "      <td>8600.00</td>\n",
       "      <td>detepol  100.0 mg 60 tableta</td>\n",
       "      <td>2023-04-21</td>\n",
       "    </tr>\n",
       "    <tr>\n",
       "      <th>6</th>\n",
       "      <td>imatinib</td>\n",
       "      <td>100.0</td>\n",
       "      <td>mg</td>\n",
       "      <td>60</td>\n",
       "      <td>tableta</td>\n",
       "      <td>6264.00</td>\n",
       "      <td>imatinib  100.0 mg 60 tableta</td>\n",
       "      <td>2023-04-21</td>\n",
       "    </tr>\n",
       "  </tbody>\n",
       "</table>\n",
       "</div>"
      ],
      "text/plain": [
       "  product_name  quantity unit  num_prod presentacion    precio  \\\n",
       "0      glivec      400.0   mg        30      tableta  38400.08   \n",
       "1      intici      400.0   mg        30      tableta  19764.00   \n",
       "2      glivec      100.0   mg        60      tableta  17689.25   \n",
       "3      glivec      400.0   mg        10      tableta  13403.60   \n",
       "4      intici      100.0   mg        60      tableta   9111.00   \n",
       "5     detepol      100.0   mg        60      tableta   8600.00   \n",
       "6    imatinib      100.0   mg        60      tableta   6264.00   \n",
       "\n",
       "                          prod_c       fecha  \n",
       "0    glivec  400.0 mg 30 tableta  2023-04-21  \n",
       "1    intici  400.0 mg 30 tableta  2023-04-21  \n",
       "2    glivec  100.0 mg 60 tableta  2023-04-21  \n",
       "3    glivec  400.0 mg 10 tableta  2023-04-21  \n",
       "4    intici  100.0 mg 60 tableta  2023-04-21  \n",
       "5   detepol  100.0 mg 60 tableta  2023-04-21  \n",
       "6  imatinib  100.0 mg 60 tableta  2023-04-21  "
      ]
     },
     "execution_count": 4,
     "metadata": {},
     "output_type": "execute_result"
    }
   ],
   "source": [
    "imat2 = pd.read_csv(\"imatinib/imatinib_21_04_2023.csv\")\n",
    "#Añadir columna con fecha\n",
    "imat2[\"fecha\"] = \"2023-04-21\"\n",
    "imat2"
   ]
  },
  {
   "cell_type": "code",
   "execution_count": 5,
   "metadata": {},
   "outputs": [],
   "source": [
    "#Hacer merge por prod_c, dejar solo las columnas que nos interesan\n",
    "imat = pd.merge(imat1, imat2, on=\"prod_c\", how=\"outer\")\n",
    "#Dejar columnas de 1 a 6 y la 14\n",
    "imat = imat.iloc[:,[0,1,2,3,4,5,6,13]]\n",
    "#dejar columnas 6,7 y 8\n",
    "imat = imat.iloc[:,[5,6,7]]\n",
    "#Segunda columna al inicio\n",
    "imat = imat.iloc[:,[1,0,2]]"
   ]
  },
  {
   "cell_type": "code",
   "execution_count": 6,
   "metadata": {},
   "outputs": [
    {
     "data": {
      "text/html": [
       "<div>\n",
       "<style scoped>\n",
       "    .dataframe tbody tr th:only-of-type {\n",
       "        vertical-align: middle;\n",
       "    }\n",
       "\n",
       "    .dataframe tbody tr th {\n",
       "        vertical-align: top;\n",
       "    }\n",
       "\n",
       "    .dataframe thead th {\n",
       "        text-align: right;\n",
       "    }\n",
       "</style>\n",
       "<table border=\"1\" class=\"dataframe\">\n",
       "  <thead>\n",
       "    <tr style=\"text-align: right;\">\n",
       "      <th></th>\n",
       "      <th>prod_c</th>\n",
       "      <th>precio_x</th>\n",
       "      <th>precio_y</th>\n",
       "    </tr>\n",
       "  </thead>\n",
       "  <tbody>\n",
       "    <tr>\n",
       "      <th>0</th>\n",
       "      <td>glivec  400.0 mg 30 tableta</td>\n",
       "      <td>38400.08</td>\n",
       "      <td>38400.08</td>\n",
       "    </tr>\n",
       "    <tr>\n",
       "      <th>1</th>\n",
       "      <td>intici  400.0 mg 30 tableta</td>\n",
       "      <td>19764.00</td>\n",
       "      <td>19764.00</td>\n",
       "    </tr>\n",
       "    <tr>\n",
       "      <th>2</th>\n",
       "      <td>glivec  100.0 mg 60 tableta</td>\n",
       "      <td>17689.25</td>\n",
       "      <td>17689.25</td>\n",
       "    </tr>\n",
       "    <tr>\n",
       "      <th>3</th>\n",
       "      <td>glivec  400.0 mg 10 tableta</td>\n",
       "      <td>13403.60</td>\n",
       "      <td>13403.60</td>\n",
       "    </tr>\n",
       "    <tr>\n",
       "      <th>4</th>\n",
       "      <td>intici  100.0 mg 60 tableta</td>\n",
       "      <td>9111.00</td>\n",
       "      <td>9111.00</td>\n",
       "    </tr>\n",
       "    <tr>\n",
       "      <th>5</th>\n",
       "      <td>detepol  100.0 mg 60 tableta</td>\n",
       "      <td>8600.00</td>\n",
       "      <td>8600.00</td>\n",
       "    </tr>\n",
       "    <tr>\n",
       "      <th>6</th>\n",
       "      <td>imatinib  100.0 mg 60 tableta</td>\n",
       "      <td>6264.00</td>\n",
       "      <td>6264.00</td>\n",
       "    </tr>\n",
       "  </tbody>\n",
       "</table>\n",
       "</div>"
      ],
      "text/plain": [
       "                          prod_c  precio_x  precio_y\n",
       "0    glivec  400.0 mg 30 tableta  38400.08  38400.08\n",
       "1    intici  400.0 mg 30 tableta  19764.00  19764.00\n",
       "2    glivec  100.0 mg 60 tableta  17689.25  17689.25\n",
       "3    glivec  400.0 mg 10 tableta  13403.60  13403.60\n",
       "4    intici  100.0 mg 60 tableta   9111.00   9111.00\n",
       "5   detepol  100.0 mg 60 tableta   8600.00   8600.00\n",
       "6  imatinib  100.0 mg 60 tableta   6264.00   6264.00"
      ]
     },
     "execution_count": 6,
     "metadata": {},
     "output_type": "execute_result"
    }
   ],
   "source": [
    "imat"
   ]
  },
  {
   "cell_type": "code",
   "execution_count": 7,
   "metadata": {},
   "outputs": [
    {
     "data": {
      "application/vnd.plotly.v1+json": {
       "config": {
        "plotlyServerURL": "https://plot.ly"
       },
       "data": [
        {
         "cells": {
          "align": "center",
          "fill": {
           "color": "white"
          },
          "font": {
           "family": "Montserrat",
           "size": 18
          },
          "height": 30,
          "line": {
           "color": "black"
          },
          "values": [
           [
            "glivec  400.0 mg 30 tableta",
            "intici  400.0 mg 30 tableta",
            "glivec  100.0 mg 60 tableta",
            "glivec  400.0 mg 10 tableta",
            "intici  100.0 mg 60 tableta",
            "detepol  100.0 mg 60 tableta",
            "imatinib  100.0 mg 60 tableta"
           ],
           [
            "38,400.08",
            "19,764.00",
            "17,689.25",
            "13,403.60",
            "9,111.00",
            "8,600.00",
            "6,264.00"
           ],
           [
            "38,400.08",
            "19,764.00",
            "17,689.25",
            "13,403.60",
            "9,111.00",
            "8,600.00",
            "6,264.00"
           ]
          ]
         },
         "header": {
          "align": "center",
          "fill": {
           "color": "#9d2449"
          },
          "font": {
           "color": "white",
           "family": "Montserrat",
           "size": 20
          },
          "values": [
           "<b>Producto</b>",
           "<b>20 abril 2023</b>",
           "<b>21 abril 2023</b>"
          ]
         },
         "type": "table"
        }
       ],
       "layout": {
        "annotations": [
         {
          "font": {
           "family": "Century Gothic"
          },
          "showarrow": false,
          "text": "Secretaría de Economía. Dirección General de Competitividad y Competencia con información de Farmalisto México, <br> Farmacias Especializadas, Farmacias San Pablo, Farmacias Especializadas, Farmacon, Farmacias Benavides y Farmacias Guadalajara.",
          "x": 0,
          "y": -0.09
         }
        ],
        "showlegend": false,
        "template": {
         "data": {
          "bar": [
           {
            "error_x": {
             "color": "#2a3f5f"
            },
            "error_y": {
             "color": "#2a3f5f"
            },
            "marker": {
             "line": {
              "color": "#E5ECF6",
              "width": 0.5
             },
             "pattern": {
              "fillmode": "overlay",
              "size": 10,
              "solidity": 0.2
             }
            },
            "type": "bar"
           }
          ],
          "barpolar": [
           {
            "marker": {
             "line": {
              "color": "#E5ECF6",
              "width": 0.5
             },
             "pattern": {
              "fillmode": "overlay",
              "size": 10,
              "solidity": 0.2
             }
            },
            "type": "barpolar"
           }
          ],
          "carpet": [
           {
            "aaxis": {
             "endlinecolor": "#2a3f5f",
             "gridcolor": "white",
             "linecolor": "white",
             "minorgridcolor": "white",
             "startlinecolor": "#2a3f5f"
            },
            "baxis": {
             "endlinecolor": "#2a3f5f",
             "gridcolor": "white",
             "linecolor": "white",
             "minorgridcolor": "white",
             "startlinecolor": "#2a3f5f"
            },
            "type": "carpet"
           }
          ],
          "choropleth": [
           {
            "colorbar": {
             "outlinewidth": 0,
             "ticks": ""
            },
            "type": "choropleth"
           }
          ],
          "contour": [
           {
            "colorbar": {
             "outlinewidth": 0,
             "ticks": ""
            },
            "colorscale": [
             [
              0,
              "#0d0887"
             ],
             [
              0.1111111111111111,
              "#46039f"
             ],
             [
              0.2222222222222222,
              "#7201a8"
             ],
             [
              0.3333333333333333,
              "#9c179e"
             ],
             [
              0.4444444444444444,
              "#bd3786"
             ],
             [
              0.5555555555555556,
              "#d8576b"
             ],
             [
              0.6666666666666666,
              "#ed7953"
             ],
             [
              0.7777777777777778,
              "#fb9f3a"
             ],
             [
              0.8888888888888888,
              "#fdca26"
             ],
             [
              1,
              "#f0f921"
             ]
            ],
            "type": "contour"
           }
          ],
          "contourcarpet": [
           {
            "colorbar": {
             "outlinewidth": 0,
             "ticks": ""
            },
            "type": "contourcarpet"
           }
          ],
          "heatmap": [
           {
            "colorbar": {
             "outlinewidth": 0,
             "ticks": ""
            },
            "colorscale": [
             [
              0,
              "#0d0887"
             ],
             [
              0.1111111111111111,
              "#46039f"
             ],
             [
              0.2222222222222222,
              "#7201a8"
             ],
             [
              0.3333333333333333,
              "#9c179e"
             ],
             [
              0.4444444444444444,
              "#bd3786"
             ],
             [
              0.5555555555555556,
              "#d8576b"
             ],
             [
              0.6666666666666666,
              "#ed7953"
             ],
             [
              0.7777777777777778,
              "#fb9f3a"
             ],
             [
              0.8888888888888888,
              "#fdca26"
             ],
             [
              1,
              "#f0f921"
             ]
            ],
            "type": "heatmap"
           }
          ],
          "heatmapgl": [
           {
            "colorbar": {
             "outlinewidth": 0,
             "ticks": ""
            },
            "colorscale": [
             [
              0,
              "#0d0887"
             ],
             [
              0.1111111111111111,
              "#46039f"
             ],
             [
              0.2222222222222222,
              "#7201a8"
             ],
             [
              0.3333333333333333,
              "#9c179e"
             ],
             [
              0.4444444444444444,
              "#bd3786"
             ],
             [
              0.5555555555555556,
              "#d8576b"
             ],
             [
              0.6666666666666666,
              "#ed7953"
             ],
             [
              0.7777777777777778,
              "#fb9f3a"
             ],
             [
              0.8888888888888888,
              "#fdca26"
             ],
             [
              1,
              "#f0f921"
             ]
            ],
            "type": "heatmapgl"
           }
          ],
          "histogram": [
           {
            "marker": {
             "pattern": {
              "fillmode": "overlay",
              "size": 10,
              "solidity": 0.2
             }
            },
            "type": "histogram"
           }
          ],
          "histogram2d": [
           {
            "colorbar": {
             "outlinewidth": 0,
             "ticks": ""
            },
            "colorscale": [
             [
              0,
              "#0d0887"
             ],
             [
              0.1111111111111111,
              "#46039f"
             ],
             [
              0.2222222222222222,
              "#7201a8"
             ],
             [
              0.3333333333333333,
              "#9c179e"
             ],
             [
              0.4444444444444444,
              "#bd3786"
             ],
             [
              0.5555555555555556,
              "#d8576b"
             ],
             [
              0.6666666666666666,
              "#ed7953"
             ],
             [
              0.7777777777777778,
              "#fb9f3a"
             ],
             [
              0.8888888888888888,
              "#fdca26"
             ],
             [
              1,
              "#f0f921"
             ]
            ],
            "type": "histogram2d"
           }
          ],
          "histogram2dcontour": [
           {
            "colorbar": {
             "outlinewidth": 0,
             "ticks": ""
            },
            "colorscale": [
             [
              0,
              "#0d0887"
             ],
             [
              0.1111111111111111,
              "#46039f"
             ],
             [
              0.2222222222222222,
              "#7201a8"
             ],
             [
              0.3333333333333333,
              "#9c179e"
             ],
             [
              0.4444444444444444,
              "#bd3786"
             ],
             [
              0.5555555555555556,
              "#d8576b"
             ],
             [
              0.6666666666666666,
              "#ed7953"
             ],
             [
              0.7777777777777778,
              "#fb9f3a"
             ],
             [
              0.8888888888888888,
              "#fdca26"
             ],
             [
              1,
              "#f0f921"
             ]
            ],
            "type": "histogram2dcontour"
           }
          ],
          "mesh3d": [
           {
            "colorbar": {
             "outlinewidth": 0,
             "ticks": ""
            },
            "type": "mesh3d"
           }
          ],
          "parcoords": [
           {
            "line": {
             "colorbar": {
              "outlinewidth": 0,
              "ticks": ""
             }
            },
            "type": "parcoords"
           }
          ],
          "pie": [
           {
            "automargin": true,
            "type": "pie"
           }
          ],
          "scatter": [
           {
            "fillpattern": {
             "fillmode": "overlay",
             "size": 10,
             "solidity": 0.2
            },
            "type": "scatter"
           }
          ],
          "scatter3d": [
           {
            "line": {
             "colorbar": {
              "outlinewidth": 0,
              "ticks": ""
             }
            },
            "marker": {
             "colorbar": {
              "outlinewidth": 0,
              "ticks": ""
             }
            },
            "type": "scatter3d"
           }
          ],
          "scattercarpet": [
           {
            "marker": {
             "colorbar": {
              "outlinewidth": 0,
              "ticks": ""
             }
            },
            "type": "scattercarpet"
           }
          ],
          "scattergeo": [
           {
            "marker": {
             "colorbar": {
              "outlinewidth": 0,
              "ticks": ""
             }
            },
            "type": "scattergeo"
           }
          ],
          "scattergl": [
           {
            "marker": {
             "colorbar": {
              "outlinewidth": 0,
              "ticks": ""
             }
            },
            "type": "scattergl"
           }
          ],
          "scattermapbox": [
           {
            "marker": {
             "colorbar": {
              "outlinewidth": 0,
              "ticks": ""
             }
            },
            "type": "scattermapbox"
           }
          ],
          "scatterpolar": [
           {
            "marker": {
             "colorbar": {
              "outlinewidth": 0,
              "ticks": ""
             }
            },
            "type": "scatterpolar"
           }
          ],
          "scatterpolargl": [
           {
            "marker": {
             "colorbar": {
              "outlinewidth": 0,
              "ticks": ""
             }
            },
            "type": "scatterpolargl"
           }
          ],
          "scatterternary": [
           {
            "marker": {
             "colorbar": {
              "outlinewidth": 0,
              "ticks": ""
             }
            },
            "type": "scatterternary"
           }
          ],
          "surface": [
           {
            "colorbar": {
             "outlinewidth": 0,
             "ticks": ""
            },
            "colorscale": [
             [
              0,
              "#0d0887"
             ],
             [
              0.1111111111111111,
              "#46039f"
             ],
             [
              0.2222222222222222,
              "#7201a8"
             ],
             [
              0.3333333333333333,
              "#9c179e"
             ],
             [
              0.4444444444444444,
              "#bd3786"
             ],
             [
              0.5555555555555556,
              "#d8576b"
             ],
             [
              0.6666666666666666,
              "#ed7953"
             ],
             [
              0.7777777777777778,
              "#fb9f3a"
             ],
             [
              0.8888888888888888,
              "#fdca26"
             ],
             [
              1,
              "#f0f921"
             ]
            ],
            "type": "surface"
           }
          ],
          "table": [
           {
            "cells": {
             "fill": {
              "color": "#EBF0F8"
             },
             "line": {
              "color": "white"
             }
            },
            "header": {
             "fill": {
              "color": "#C8D4E3"
             },
             "line": {
              "color": "white"
             }
            },
            "type": "table"
           }
          ]
         },
         "layout": {
          "annotationdefaults": {
           "arrowcolor": "#2a3f5f",
           "arrowhead": 0,
           "arrowwidth": 1
          },
          "autotypenumbers": "strict",
          "coloraxis": {
           "colorbar": {
            "outlinewidth": 0,
            "ticks": ""
           }
          },
          "colorscale": {
           "diverging": [
            [
             0,
             "#8e0152"
            ],
            [
             0.1,
             "#c51b7d"
            ],
            [
             0.2,
             "#de77ae"
            ],
            [
             0.3,
             "#f1b6da"
            ],
            [
             0.4,
             "#fde0ef"
            ],
            [
             0.5,
             "#f7f7f7"
            ],
            [
             0.6,
             "#e6f5d0"
            ],
            [
             0.7,
             "#b8e186"
            ],
            [
             0.8,
             "#7fbc41"
            ],
            [
             0.9,
             "#4d9221"
            ],
            [
             1,
             "#276419"
            ]
           ],
           "sequential": [
            [
             0,
             "#0d0887"
            ],
            [
             0.1111111111111111,
             "#46039f"
            ],
            [
             0.2222222222222222,
             "#7201a8"
            ],
            [
             0.3333333333333333,
             "#9c179e"
            ],
            [
             0.4444444444444444,
             "#bd3786"
            ],
            [
             0.5555555555555556,
             "#d8576b"
            ],
            [
             0.6666666666666666,
             "#ed7953"
            ],
            [
             0.7777777777777778,
             "#fb9f3a"
            ],
            [
             0.8888888888888888,
             "#fdca26"
            ],
            [
             1,
             "#f0f921"
            ]
           ],
           "sequentialminus": [
            [
             0,
             "#0d0887"
            ],
            [
             0.1111111111111111,
             "#46039f"
            ],
            [
             0.2222222222222222,
             "#7201a8"
            ],
            [
             0.3333333333333333,
             "#9c179e"
            ],
            [
             0.4444444444444444,
             "#bd3786"
            ],
            [
             0.5555555555555556,
             "#d8576b"
            ],
            [
             0.6666666666666666,
             "#ed7953"
            ],
            [
             0.7777777777777778,
             "#fb9f3a"
            ],
            [
             0.8888888888888888,
             "#fdca26"
            ],
            [
             1,
             "#f0f921"
            ]
           ]
          },
          "colorway": [
           "#636efa",
           "#EF553B",
           "#00cc96",
           "#ab63fa",
           "#FFA15A",
           "#19d3f3",
           "#FF6692",
           "#B6E880",
           "#FF97FF",
           "#FECB52"
          ],
          "font": {
           "color": "#2a3f5f"
          },
          "geo": {
           "bgcolor": "white",
           "lakecolor": "white",
           "landcolor": "#E5ECF6",
           "showlakes": true,
           "showland": true,
           "subunitcolor": "white"
          },
          "hoverlabel": {
           "align": "left"
          },
          "hovermode": "closest",
          "mapbox": {
           "style": "light"
          },
          "paper_bgcolor": "white",
          "plot_bgcolor": "#E5ECF6",
          "polar": {
           "angularaxis": {
            "gridcolor": "white",
            "linecolor": "white",
            "ticks": ""
           },
           "bgcolor": "#E5ECF6",
           "radialaxis": {
            "gridcolor": "white",
            "linecolor": "white",
            "ticks": ""
           }
          },
          "scene": {
           "xaxis": {
            "backgroundcolor": "#E5ECF6",
            "gridcolor": "white",
            "gridwidth": 2,
            "linecolor": "white",
            "showbackground": true,
            "ticks": "",
            "zerolinecolor": "white"
           },
           "yaxis": {
            "backgroundcolor": "#E5ECF6",
            "gridcolor": "white",
            "gridwidth": 2,
            "linecolor": "white",
            "showbackground": true,
            "ticks": "",
            "zerolinecolor": "white"
           },
           "zaxis": {
            "backgroundcolor": "#E5ECF6",
            "gridcolor": "white",
            "gridwidth": 2,
            "linecolor": "white",
            "showbackground": true,
            "ticks": "",
            "zerolinecolor": "white"
           }
          },
          "shapedefaults": {
           "line": {
            "color": "#2a3f5f"
           }
          },
          "ternary": {
           "aaxis": {
            "gridcolor": "white",
            "linecolor": "white",
            "ticks": ""
           },
           "baxis": {
            "gridcolor": "white",
            "linecolor": "white",
            "ticks": ""
           },
           "bgcolor": "#E5ECF6",
           "caxis": {
            "gridcolor": "white",
            "linecolor": "white",
            "ticks": ""
           }
          },
          "title": {
           "x": 0.05
          },
          "xaxis": {
           "automargin": true,
           "gridcolor": "white",
           "linecolor": "white",
           "ticks": "",
           "title": {
            "standoff": 15
           },
           "zerolinecolor": "white",
           "zerolinewidth": 2
          },
          "yaxis": {
           "automargin": true,
           "gridcolor": "white",
           "linecolor": "white",
           "ticks": "",
           "title": {
            "standoff": 15
           },
           "zerolinecolor": "white",
           "zerolinewidth": 2
          }
         }
        },
        "title": {
         "font": {
          "family": "Montserrat",
          "size": 25
         },
         "text": "<b>Precio promedio de Imatinib en México<br>"
        }
       }
      }
     },
     "metadata": {},
     "output_type": "display_data"
    }
   ],
   "source": [
    "#Tabla usando plotly\n",
    "fig = go.Figure(data=[go.Table(\n",
    "    header=dict(values=[\"<b>Producto</b>\",\n",
    "                        #Fecha de hoy\n",
    "                        \"<b>20 abril 2023</b>\",\n",
    "                        \"<b>21 abril 2023</b>\"],\n",
    "                fill_color='#9d2449',\n",
    "                align='center',\n",
    "                font_color='white',\n",
    "                font_family=\"Montserrat\",\n",
    "                font_size=20),\n",
    "cells=dict(values=[imat[\"prod_c\"], imat[\"precio_x\"].apply(lambda x: \"{:,.2f}\".format(x)),\n",
    "           imat[\"precio_y\"].apply(lambda x: \"{:,.2f}\".format(x))],\n",
    "               fill_color='white',\n",
    "               align='center',\n",
    "           font_family=\"Montserrat\",\n",
    "           font_size=18,\n",
    "           height=30,\n",
    "           line_color='black'))\n",
    "])\n",
    "\n",
    "\n",
    "#Título\n",
    "fig.update_layout(\n",
    "    showlegend=False,\n",
    "    title_text=\"<b>Precio promedio de Imatinib en México<br>\",\n",
    "    title_font_family=\"Montserrat\",\n",
    "    title_font_size=25\n",
    ")\n",
    "\n",
    "#Fuente\n",
    "fig.add_annotation(text=\"Secretaría de Economía. Dirección General de Competitividad y Competencia con información de Farmalisto México, <br> Farmacias Especializadas, Farmacias San Pablo, Farmacias Especializadas, Farmacon, Farmacias Benavides y Farmacias Guadalajara.\",\n",
    "                  x=0, y=-0.09, showarrow=False,\n",
    "                   font_family=\"Century Gothic\")"
   ]
  },
  {
   "cell_type": "code",
   "execution_count": 8,
   "metadata": {},
   "outputs": [],
   "source": [
    "#Salvar la tabla como PNG con la fecha de hoy\n",
    "pio.write_image(fig, \"imatinib/imatinib_21_04_2023t.png\", width=1500, height=550,scale=1)"
   ]
  }
 ],
 "metadata": {
  "kernelspec": {
   "display_name": "base",
   "language": "python",
   "name": "python3"
  },
  "language_info": {
   "codemirror_mode": {
    "name": "ipython",
    "version": 3
   },
   "file_extension": ".py",
   "mimetype": "text/x-python",
   "name": "python",
   "nbconvert_exporter": "python",
   "pygments_lexer": "ipython3",
   "version": "3.10.10"
  },
  "orig_nbformat": 4
 },
 "nbformat": 4,
 "nbformat_minor": 2
}
