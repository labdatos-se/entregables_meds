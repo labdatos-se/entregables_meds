{
 "cells": [
  {
   "cell_type": "code",
   "execution_count": 12,
   "metadata": {},
   "outputs": [],
   "source": [
    "import pandas as pd\n",
    "from medscraper import medsearch\n",
    "import time\n",
    "import os\n",
    "import plotly.graph_objects as go\n",
    "import plotly.io as pio"
   ]
  },
  {
   "cell_type": "code",
   "execution_count": 13,
   "metadata": {},
   "outputs": [],
   "source": [
    "#Fecha de hoy\n",
    "today = time.strftime(\"%d/%m/%Y\")\n",
    "#Cambiar \"/\" por \"_\"\n",
    "today_save = today.replace(\"/\", \"_\")"
   ]
  },
  {
   "cell_type": "code",
   "execution_count": 14,
   "metadata": {},
   "outputs": [],
   "source": [
    "try:\n",
    "    os.chdir(\"C:/Users/claudio.pacheco/Documents/GitHub/entregables_meds\")\n",
    "except:\n",
    "    os.chdir(\"D:/github/entregables_meds\")"
   ]
  },
  {
   "cell_type": "code",
   "execution_count": 15,
   "metadata": {},
   "outputs": [],
   "source": [
    "#farmacias\n",
    "farmacias=[\"fsanpablo\", \"fespecializadas\", \"farmalisto_mx\", \"fbenavides\", \"fguadalajara\", \"fahorro\",\"farmacon\"]"
   ]
  },
  {
   "cell_type": "code",
   "execution_count": 16,
   "metadata": {},
   "outputs": [
    {
     "name": "stdout",
     "output_type": "stream",
     "text": [
      "Realizando la búsqueda en Farmacias San Pablo de:  imatinib\n",
      "Realizando la búsqueda en Farmacias Especializadas de:  imatinib\n",
      "Realizando la búsqueda en Farmalisto de:  imatinib\n",
      "Realizando la búsqueda en Farmacias Benavides de:  imatinib\n",
      "Realizando la búsqueda en Farmacias Guadalajara de:  imatinib\n",
      "Realizando la búsqueda en Farmacias de Ahorro de:  imatinib\n",
      "Realizando la búsqueda en Farmacon de:  imatinib\n"
     ]
    }
   ],
   "source": [
    "imatinib=pd.DataFrame()\n",
    "for farmacia in farmacias:\n",
    "    buscador=medsearch.scraper(farmacia, \"imatinib\")\n",
    "    imatinib=pd.concat([imatinib, medsearch.scraper.show_dataframe(buscador)], axis=0)\n"
   ]
  },
  {
   "cell_type": "code",
   "execution_count": 17,
   "metadata": {},
   "outputs": [
    {
     "data": {
      "text/html": [
       "<div>\n",
       "<style scoped>\n",
       "    .dataframe tbody tr th:only-of-type {\n",
       "        vertical-align: middle;\n",
       "    }\n",
       "\n",
       "    .dataframe tbody tr th {\n",
       "        vertical-align: top;\n",
       "    }\n",
       "\n",
       "    .dataframe thead th {\n",
       "        text-align: right;\n",
       "    }\n",
       "</style>\n",
       "<table border=\"1\" class=\"dataframe\">\n",
       "  <thead>\n",
       "    <tr style=\"text-align: right;\">\n",
       "      <th></th>\n",
       "      <th>producto</th>\n",
       "      <th>precio</th>\n",
       "      <th>hora_consulta</th>\n",
       "      <th>farmacia_corto</th>\n",
       "      <th>busqueda</th>\n",
       "      <th>farmacia</th>\n",
       "      <th>pais</th>\n",
       "      <th>product_name</th>\n",
       "      <th>quantity</th>\n",
       "      <th>unit</th>\n",
       "      <th>presentacion</th>\n",
       "      <th>num_prod</th>\n",
       "    </tr>\n",
       "  </thead>\n",
       "  <tbody>\n",
       "    <tr>\n",
       "      <th>0</th>\n",
       "      <td>glivec 60 comprimidos caja mesilato de imatini...</td>\n",
       "      <td>18750.00</td>\n",
       "      <td>11:42:32 07/05/2023</td>\n",
       "      <td>fsanpablo</td>\n",
       "      <td>imatinib</td>\n",
       "      <td>farmacias san pablo</td>\n",
       "      <td>Mexico</td>\n",
       "      <td>glivec</td>\n",
       "      <td>100.0</td>\n",
       "      <td>mg</td>\n",
       "      <td>tableta</td>\n",
       "      <td>60</td>\n",
       "    </tr>\n",
       "    <tr>\n",
       "      <th>1</th>\n",
       "      <td>glivec 10 comprimidos caja mesilato de imatini...</td>\n",
       "      <td>12998.00</td>\n",
       "      <td>11:42:32 07/05/2023</td>\n",
       "      <td>fsanpablo</td>\n",
       "      <td>imatinib</td>\n",
       "      <td>farmacias san pablo</td>\n",
       "      <td>Mexico</td>\n",
       "      <td>glivec</td>\n",
       "      <td>400.0</td>\n",
       "      <td>mg</td>\n",
       "      <td>tableta</td>\n",
       "      <td>10</td>\n",
       "    </tr>\n",
       "    <tr>\n",
       "      <th>2</th>\n",
       "      <td>glivec 30 comprimidos caja mesilato de imatini...</td>\n",
       "      <td>37532.00</td>\n",
       "      <td>11:42:32 07/05/2023</td>\n",
       "      <td>fsanpablo</td>\n",
       "      <td>imatinib</td>\n",
       "      <td>farmacias san pablo</td>\n",
       "      <td>Mexico</td>\n",
       "      <td>glivec</td>\n",
       "      <td>400.0</td>\n",
       "      <td>mg</td>\n",
       "      <td>tableta</td>\n",
       "      <td>30</td>\n",
       "    </tr>\n",
       "    <tr>\n",
       "      <th>0</th>\n",
       "      <td>detepol 100.0 mg tab caja con  60</td>\n",
       "      <td>8600.00</td>\n",
       "      <td>11:42:34 07/05/2023</td>\n",
       "      <td>fespecializadas</td>\n",
       "      <td>imatinib</td>\n",
       "      <td>farmacias especializadas</td>\n",
       "      <td>Mexico</td>\n",
       "      <td>detepol</td>\n",
       "      <td>100.0</td>\n",
       "      <td>mg</td>\n",
       "      <td>tableta</td>\n",
       "      <td>60</td>\n",
       "    </tr>\n",
       "    <tr>\n",
       "      <th>1</th>\n",
       "      <td>glivec 100mg com caja con 60 enterica</td>\n",
       "      <td>16567.74</td>\n",
       "      <td>11:42:34 07/05/2023</td>\n",
       "      <td>fespecializadas</td>\n",
       "      <td>imatinib</td>\n",
       "      <td>farmacias especializadas</td>\n",
       "      <td>Mexico</td>\n",
       "      <td>glivec</td>\n",
       "      <td>100.0</td>\n",
       "      <td>mg</td>\n",
       "      <td>tableta</td>\n",
       "      <td>60</td>\n",
       "    </tr>\n",
       "    <tr>\n",
       "      <th>2</th>\n",
       "      <td>glivec 400mg com caja con 30</td>\n",
       "      <td>39768.25</td>\n",
       "      <td>11:42:34 07/05/2023</td>\n",
       "      <td>fespecializadas</td>\n",
       "      <td>imatinib</td>\n",
       "      <td>farmacias especializadas</td>\n",
       "      <td>Mexico</td>\n",
       "      <td>glivec</td>\n",
       "      <td>400.0</td>\n",
       "      <td>mg</td>\n",
       "      <td>tableta</td>\n",
       "      <td>30</td>\n",
       "    </tr>\n",
       "    <tr>\n",
       "      <th>3</th>\n",
       "      <td>glivec 400mg tab caja con 10 centerica</td>\n",
       "      <td>14694.80</td>\n",
       "      <td>11:42:34 07/05/2023</td>\n",
       "      <td>fespecializadas</td>\n",
       "      <td>imatinib</td>\n",
       "      <td>farmacias especializadas</td>\n",
       "      <td>Mexico</td>\n",
       "      <td>glivec</td>\n",
       "      <td>400.0</td>\n",
       "      <td>mg</td>\n",
       "      <td>tableta</td>\n",
       "      <td>10</td>\n",
       "    </tr>\n",
       "    <tr>\n",
       "      <th>4</th>\n",
       "      <td>intici 100 mg tab caja con  60</td>\n",
       "      <td>9999.56</td>\n",
       "      <td>11:42:34 07/05/2023</td>\n",
       "      <td>fespecializadas</td>\n",
       "      <td>imatinib</td>\n",
       "      <td>farmacias especializadas</td>\n",
       "      <td>Mexico</td>\n",
       "      <td>intici</td>\n",
       "      <td>100.0</td>\n",
       "      <td>mg</td>\n",
       "      <td>tableta</td>\n",
       "      <td>60</td>\n",
       "    </tr>\n",
       "    <tr>\n",
       "      <th>5</th>\n",
       "      <td>intici 400 mg tab caja con  30</td>\n",
       "      <td>19764.00</td>\n",
       "      <td>11:42:34 07/05/2023</td>\n",
       "      <td>fespecializadas</td>\n",
       "      <td>imatinib</td>\n",
       "      <td>farmacias especializadas</td>\n",
       "      <td>Mexico</td>\n",
       "      <td>intici</td>\n",
       "      <td>400.0</td>\n",
       "      <td>mg</td>\n",
       "      <td>tableta</td>\n",
       "      <td>30</td>\n",
       "    </tr>\n",
       "    <tr>\n",
       "      <th>0</th>\n",
       "      <td>imatinib 100 mg caja con blister con 60 tabletas</td>\n",
       "      <td>6264.00</td>\n",
       "      <td>11:42:46 07/05/2023</td>\n",
       "      <td>farmalisto_mx</td>\n",
       "      <td>imatinib</td>\n",
       "      <td>farmalisto méxico</td>\n",
       "      <td>Mexico</td>\n",
       "      <td>imatinib</td>\n",
       "      <td>100.0</td>\n",
       "      <td>mg</td>\n",
       "      <td>tableta</td>\n",
       "      <td>60</td>\n",
       "    </tr>\n",
       "    <tr>\n",
       "      <th>1</th>\n",
       "      <td>glivec 400 mg caja con 10 comprimidos</td>\n",
       "      <td>12518.00</td>\n",
       "      <td>11:42:46 07/05/2023</td>\n",
       "      <td>farmalisto_mx</td>\n",
       "      <td>imatinib</td>\n",
       "      <td>farmalisto méxico</td>\n",
       "      <td>Mexico</td>\n",
       "      <td>glivec</td>\n",
       "      <td>400.0</td>\n",
       "      <td>mg</td>\n",
       "      <td>tableta</td>\n",
       "      <td>10</td>\n",
       "    </tr>\n",
       "    <tr>\n",
       "      <th>2</th>\n",
       "      <td>glivec 400 mg caja con 30 comprimidos</td>\n",
       "      <td>37450.00</td>\n",
       "      <td>11:42:46 07/05/2023</td>\n",
       "      <td>farmalisto_mx</td>\n",
       "      <td>imatinib</td>\n",
       "      <td>farmalisto méxico</td>\n",
       "      <td>Mexico</td>\n",
       "      <td>glivec</td>\n",
       "      <td>400.0</td>\n",
       "      <td>mg</td>\n",
       "      <td>tableta</td>\n",
       "      <td>30</td>\n",
       "    </tr>\n",
       "    <tr>\n",
       "      <th>3</th>\n",
       "      <td>glivec 100 mg caja con 60 comprimidos</td>\n",
       "      <td>17750.00</td>\n",
       "      <td>11:42:46 07/05/2023</td>\n",
       "      <td>farmalisto_mx</td>\n",
       "      <td>imatinib</td>\n",
       "      <td>farmalisto méxico</td>\n",
       "      <td>Mexico</td>\n",
       "      <td>glivec</td>\n",
       "      <td>100.0</td>\n",
       "      <td>mg</td>\n",
       "      <td>tableta</td>\n",
       "      <td>60</td>\n",
       "    </tr>\n",
       "  </tbody>\n",
       "</table>\n",
       "</div>"
      ],
      "text/plain": [
       "                                            producto    precio  \\\n",
       "0  glivec 60 comprimidos caja mesilato de imatini...  18750.00   \n",
       "1  glivec 10 comprimidos caja mesilato de imatini...  12998.00   \n",
       "2  glivec 30 comprimidos caja mesilato de imatini...  37532.00   \n",
       "0                  detepol 100.0 mg tab caja con  60   8600.00   \n",
       "1              glivec 100mg com caja con 60 enterica  16567.74   \n",
       "2                       glivec 400mg com caja con 30  39768.25   \n",
       "3             glivec 400mg tab caja con 10 centerica  14694.80   \n",
       "4                     intici 100 mg tab caja con  60   9999.56   \n",
       "5                     intici 400 mg tab caja con  30  19764.00   \n",
       "0   imatinib 100 mg caja con blister con 60 tabletas   6264.00   \n",
       "1              glivec 400 mg caja con 10 comprimidos  12518.00   \n",
       "2              glivec 400 mg caja con 30 comprimidos  37450.00   \n",
       "3              glivec 100 mg caja con 60 comprimidos  17750.00   \n",
       "\n",
       "         hora_consulta   farmacia_corto  busqueda                  farmacia  \\\n",
       "0  11:42:32 07/05/2023        fsanpablo  imatinib       farmacias san pablo   \n",
       "1  11:42:32 07/05/2023        fsanpablo  imatinib       farmacias san pablo   \n",
       "2  11:42:32 07/05/2023        fsanpablo  imatinib       farmacias san pablo   \n",
       "0  11:42:34 07/05/2023  fespecializadas  imatinib  farmacias especializadas   \n",
       "1  11:42:34 07/05/2023  fespecializadas  imatinib  farmacias especializadas   \n",
       "2  11:42:34 07/05/2023  fespecializadas  imatinib  farmacias especializadas   \n",
       "3  11:42:34 07/05/2023  fespecializadas  imatinib  farmacias especializadas   \n",
       "4  11:42:34 07/05/2023  fespecializadas  imatinib  farmacias especializadas   \n",
       "5  11:42:34 07/05/2023  fespecializadas  imatinib  farmacias especializadas   \n",
       "0  11:42:46 07/05/2023    farmalisto_mx  imatinib         farmalisto méxico   \n",
       "1  11:42:46 07/05/2023    farmalisto_mx  imatinib         farmalisto méxico   \n",
       "2  11:42:46 07/05/2023    farmalisto_mx  imatinib         farmalisto méxico   \n",
       "3  11:42:46 07/05/2023    farmalisto_mx  imatinib         farmalisto méxico   \n",
       "\n",
       "     pais product_name  quantity unit presentacion  num_prod  \n",
       "0  Mexico      glivec      100.0   mg      tableta        60  \n",
       "1  Mexico      glivec      400.0   mg      tableta        10  \n",
       "2  Mexico      glivec      400.0   mg      tableta        30  \n",
       "0  Mexico     detepol      100.0   mg      tableta        60  \n",
       "1  Mexico      glivec      100.0   mg      tableta        60  \n",
       "2  Mexico      glivec      400.0   mg      tableta        30  \n",
       "3  Mexico      glivec      400.0   mg      tableta        10  \n",
       "4  Mexico      intici      100.0   mg      tableta        60  \n",
       "5  Mexico      intici      400.0   mg      tableta        30  \n",
       "0  Mexico    imatinib      100.0   mg      tableta        60  \n",
       "1  Mexico      glivec      400.0   mg      tableta        10  \n",
       "2  Mexico      glivec      400.0   mg      tableta        30  \n",
       "3  Mexico      glivec      100.0   mg      tableta        60  "
      ]
     },
     "execution_count": 17,
     "metadata": {},
     "output_type": "execute_result"
    }
   ],
   "source": [
    "imatinib"
   ]
  },
  {
   "cell_type": "code",
   "execution_count": 18,
   "metadata": {},
   "outputs": [
    {
     "name": "stderr",
     "output_type": "stream",
     "text": [
      "C:\\Users\\claud\\AppData\\Local\\Temp\\ipykernel_2152\\432549359.py:2: FutureWarning:\n",
      "\n",
      "The default value of numeric_only in DataFrameGroupBy.mean is deprecated. In a future version, numeric_only will default to False. Either specify numeric_only or select only columns which should be valid for the function.\n",
      "\n"
     ]
    }
   ],
   "source": [
    "#Obtener precio promedio por product_name, quantity y num_prod\n",
    "precio_prom=imatinib.groupby([\"product_name\", \"quantity\",\"unit\", \"num_prod\", \"presentacion\"]).mean().reset_index()\n",
    "precio_prom[['quantity', 'num_prod']]=precio_prom[['quantity', 'num_prod']].astype(str)\n",
    "#Concatenar product_name, quantity, unit, num_prod y presentacion. QUANTITY y numprod son números\n",
    "precio_prom[\"prod_c\"]=precio_prom[\"product_name\"]+\" \"+precio_prom[\"quantity\"]+\" \"+precio_prom[\"unit\"]+\" \"+precio_prom[\"num_prod\"]+\" \"+precio_prom[\"presentacion\"]\n",
    "#Precio a dos decimales\n",
    "precio_prom[\"precio\"]=precio_prom[\"precio\"].round(2)\n",
    "#Ordenar por precio\n",
    "precio_prom=precio_prom.sort_values(by=\"precio\", ascending=False)"
   ]
  },
  {
   "cell_type": "code",
   "execution_count": 19,
   "metadata": {},
   "outputs": [
    {
     "data": {
      "text/html": [
       "<div>\n",
       "<style scoped>\n",
       "    .dataframe tbody tr th:only-of-type {\n",
       "        vertical-align: middle;\n",
       "    }\n",
       "\n",
       "    .dataframe tbody tr th {\n",
       "        vertical-align: top;\n",
       "    }\n",
       "\n",
       "    .dataframe thead th {\n",
       "        text-align: right;\n",
       "    }\n",
       "</style>\n",
       "<table border=\"1\" class=\"dataframe\">\n",
       "  <thead>\n",
       "    <tr style=\"text-align: right;\">\n",
       "      <th></th>\n",
       "      <th>product_name</th>\n",
       "      <th>quantity</th>\n",
       "      <th>unit</th>\n",
       "      <th>num_prod</th>\n",
       "      <th>presentacion</th>\n",
       "      <th>precio</th>\n",
       "      <th>prod_c</th>\n",
       "    </tr>\n",
       "  </thead>\n",
       "  <tbody>\n",
       "    <tr>\n",
       "      <th>3</th>\n",
       "      <td>glivec</td>\n",
       "      <td>400.0</td>\n",
       "      <td>mg</td>\n",
       "      <td>30</td>\n",
       "      <td>tableta</td>\n",
       "      <td>38250.08</td>\n",
       "      <td>glivec  400.0 mg 30 tableta</td>\n",
       "    </tr>\n",
       "    <tr>\n",
       "      <th>6</th>\n",
       "      <td>intici</td>\n",
       "      <td>400.0</td>\n",
       "      <td>mg</td>\n",
       "      <td>30</td>\n",
       "      <td>tableta</td>\n",
       "      <td>19764.00</td>\n",
       "      <td>intici  400.0 mg 30 tableta</td>\n",
       "    </tr>\n",
       "    <tr>\n",
       "      <th>1</th>\n",
       "      <td>glivec</td>\n",
       "      <td>100.0</td>\n",
       "      <td>mg</td>\n",
       "      <td>60</td>\n",
       "      <td>tableta</td>\n",
       "      <td>17689.25</td>\n",
       "      <td>glivec  100.0 mg 60 tableta</td>\n",
       "    </tr>\n",
       "    <tr>\n",
       "      <th>2</th>\n",
       "      <td>glivec</td>\n",
       "      <td>400.0</td>\n",
       "      <td>mg</td>\n",
       "      <td>10</td>\n",
       "      <td>tableta</td>\n",
       "      <td>13403.60</td>\n",
       "      <td>glivec  400.0 mg 10 tableta</td>\n",
       "    </tr>\n",
       "    <tr>\n",
       "      <th>5</th>\n",
       "      <td>intici</td>\n",
       "      <td>100.0</td>\n",
       "      <td>mg</td>\n",
       "      <td>60</td>\n",
       "      <td>tableta</td>\n",
       "      <td>9999.56</td>\n",
       "      <td>intici  100.0 mg 60 tableta</td>\n",
       "    </tr>\n",
       "    <tr>\n",
       "      <th>0</th>\n",
       "      <td>detepol</td>\n",
       "      <td>100.0</td>\n",
       "      <td>mg</td>\n",
       "      <td>60</td>\n",
       "      <td>tableta</td>\n",
       "      <td>8600.00</td>\n",
       "      <td>detepol  100.0 mg 60 tableta</td>\n",
       "    </tr>\n",
       "    <tr>\n",
       "      <th>4</th>\n",
       "      <td>imatinib</td>\n",
       "      <td>100.0</td>\n",
       "      <td>mg</td>\n",
       "      <td>60</td>\n",
       "      <td>tableta</td>\n",
       "      <td>6264.00</td>\n",
       "      <td>imatinib  100.0 mg 60 tableta</td>\n",
       "    </tr>\n",
       "  </tbody>\n",
       "</table>\n",
       "</div>"
      ],
      "text/plain": [
       "  product_name quantity unit num_prod presentacion    precio  \\\n",
       "3      glivec     400.0   mg       30      tableta  38250.08   \n",
       "6      intici     400.0   mg       30      tableta  19764.00   \n",
       "1      glivec     100.0   mg       60      tableta  17689.25   \n",
       "2      glivec     400.0   mg       10      tableta  13403.60   \n",
       "5      intici     100.0   mg       60      tableta   9999.56   \n",
       "0     detepol     100.0   mg       60      tableta   8600.00   \n",
       "4    imatinib     100.0   mg       60      tableta   6264.00   \n",
       "\n",
       "                          prod_c  \n",
       "3    glivec  400.0 mg 30 tableta  \n",
       "6    intici  400.0 mg 30 tableta  \n",
       "1    glivec  100.0 mg 60 tableta  \n",
       "2    glivec  400.0 mg 10 tableta  \n",
       "5    intici  100.0 mg 60 tableta  \n",
       "0   detepol  100.0 mg 60 tableta  \n",
       "4  imatinib  100.0 mg 60 tableta  "
      ]
     },
     "execution_count": 19,
     "metadata": {},
     "output_type": "execute_result"
    }
   ],
   "source": [
    "precio_prom"
   ]
  },
  {
   "cell_type": "code",
   "execution_count": 20,
   "metadata": {},
   "outputs": [
    {
     "data": {
      "application/vnd.plotly.v1+json": {
       "config": {
        "plotlyServerURL": "https://plotly.com"
       },
       "data": [
        {
         "cells": {
          "align": "center",
          "fill": {
           "color": "white"
          },
          "font": {
           "family": "Montserrat",
           "size": 18
          },
          "height": 30,
          "line": {
           "color": "black"
          },
          "values": [
           [
            "glivec  400.0 mg 30 tableta",
            "intici  400.0 mg 30 tableta",
            "glivec  100.0 mg 60 tableta",
            "glivec  400.0 mg 10 tableta",
            "intici  100.0 mg 60 tableta",
            "detepol  100.0 mg 60 tableta",
            "imatinib  100.0 mg 60 tableta"
           ],
           [
            "38,250.08",
            "19,764.00",
            "17,689.25",
            "13,403.60",
            "9,999.56",
            "8,600.00",
            "6,264.00"
           ]
          ]
         },
         "header": {
          "align": "center",
          "fill": {
           "color": "#9d2449"
          },
          "font": {
           "color": "white",
           "family": "Montserrat",
           "size": 20
          },
          "values": [
           "<b>Producto</b>",
           "<b>07/05/2023</b>"
          ]
         },
         "type": "table"
        }
       ],
       "layout": {
        "annotations": [
         {
          "font": {
           "family": "Century Gothic"
          },
          "showarrow": false,
          "text": "Secretaría de Economía. Dirección General de Competitividad y Competencia con información de Farmalisto México, <br> Farmacias Especializadas, Farmacias San Pablo, Farmacias Especializadas, Farmacon, Farmacias Benavides y Farmacias Guadalajara.",
          "x": 0,
          "y": -0.09
         }
        ],
        "showlegend": false,
        "template": {
         "data": {
          "bar": [
           {
            "error_x": {
             "color": "#2a3f5f"
            },
            "error_y": {
             "color": "#2a3f5f"
            },
            "marker": {
             "line": {
              "color": "#E5ECF6",
              "width": 0.5
             },
             "pattern": {
              "fillmode": "overlay",
              "size": 10,
              "solidity": 0.2
             }
            },
            "type": "bar"
           }
          ],
          "barpolar": [
           {
            "marker": {
             "line": {
              "color": "#E5ECF6",
              "width": 0.5
             },
             "pattern": {
              "fillmode": "overlay",
              "size": 10,
              "solidity": 0.2
             }
            },
            "type": "barpolar"
           }
          ],
          "carpet": [
           {
            "aaxis": {
             "endlinecolor": "#2a3f5f",
             "gridcolor": "white",
             "linecolor": "white",
             "minorgridcolor": "white",
             "startlinecolor": "#2a3f5f"
            },
            "baxis": {
             "endlinecolor": "#2a3f5f",
             "gridcolor": "white",
             "linecolor": "white",
             "minorgridcolor": "white",
             "startlinecolor": "#2a3f5f"
            },
            "type": "carpet"
           }
          ],
          "choropleth": [
           {
            "colorbar": {
             "outlinewidth": 0,
             "ticks": ""
            },
            "type": "choropleth"
           }
          ],
          "contour": [
           {
            "colorbar": {
             "outlinewidth": 0,
             "ticks": ""
            },
            "colorscale": [
             [
              0,
              "#0d0887"
             ],
             [
              0.1111111111111111,
              "#46039f"
             ],
             [
              0.2222222222222222,
              "#7201a8"
             ],
             [
              0.3333333333333333,
              "#9c179e"
             ],
             [
              0.4444444444444444,
              "#bd3786"
             ],
             [
              0.5555555555555556,
              "#d8576b"
             ],
             [
              0.6666666666666666,
              "#ed7953"
             ],
             [
              0.7777777777777778,
              "#fb9f3a"
             ],
             [
              0.8888888888888888,
              "#fdca26"
             ],
             [
              1,
              "#f0f921"
             ]
            ],
            "type": "contour"
           }
          ],
          "contourcarpet": [
           {
            "colorbar": {
             "outlinewidth": 0,
             "ticks": ""
            },
            "type": "contourcarpet"
           }
          ],
          "heatmap": [
           {
            "colorbar": {
             "outlinewidth": 0,
             "ticks": ""
            },
            "colorscale": [
             [
              0,
              "#0d0887"
             ],
             [
              0.1111111111111111,
              "#46039f"
             ],
             [
              0.2222222222222222,
              "#7201a8"
             ],
             [
              0.3333333333333333,
              "#9c179e"
             ],
             [
              0.4444444444444444,
              "#bd3786"
             ],
             [
              0.5555555555555556,
              "#d8576b"
             ],
             [
              0.6666666666666666,
              "#ed7953"
             ],
             [
              0.7777777777777778,
              "#fb9f3a"
             ],
             [
              0.8888888888888888,
              "#fdca26"
             ],
             [
              1,
              "#f0f921"
             ]
            ],
            "type": "heatmap"
           }
          ],
          "heatmapgl": [
           {
            "colorbar": {
             "outlinewidth": 0,
             "ticks": ""
            },
            "colorscale": [
             [
              0,
              "#0d0887"
             ],
             [
              0.1111111111111111,
              "#46039f"
             ],
             [
              0.2222222222222222,
              "#7201a8"
             ],
             [
              0.3333333333333333,
              "#9c179e"
             ],
             [
              0.4444444444444444,
              "#bd3786"
             ],
             [
              0.5555555555555556,
              "#d8576b"
             ],
             [
              0.6666666666666666,
              "#ed7953"
             ],
             [
              0.7777777777777778,
              "#fb9f3a"
             ],
             [
              0.8888888888888888,
              "#fdca26"
             ],
             [
              1,
              "#f0f921"
             ]
            ],
            "type": "heatmapgl"
           }
          ],
          "histogram": [
           {
            "marker": {
             "pattern": {
              "fillmode": "overlay",
              "size": 10,
              "solidity": 0.2
             }
            },
            "type": "histogram"
           }
          ],
          "histogram2d": [
           {
            "colorbar": {
             "outlinewidth": 0,
             "ticks": ""
            },
            "colorscale": [
             [
              0,
              "#0d0887"
             ],
             [
              0.1111111111111111,
              "#46039f"
             ],
             [
              0.2222222222222222,
              "#7201a8"
             ],
             [
              0.3333333333333333,
              "#9c179e"
             ],
             [
              0.4444444444444444,
              "#bd3786"
             ],
             [
              0.5555555555555556,
              "#d8576b"
             ],
             [
              0.6666666666666666,
              "#ed7953"
             ],
             [
              0.7777777777777778,
              "#fb9f3a"
             ],
             [
              0.8888888888888888,
              "#fdca26"
             ],
             [
              1,
              "#f0f921"
             ]
            ],
            "type": "histogram2d"
           }
          ],
          "histogram2dcontour": [
           {
            "colorbar": {
             "outlinewidth": 0,
             "ticks": ""
            },
            "colorscale": [
             [
              0,
              "#0d0887"
             ],
             [
              0.1111111111111111,
              "#46039f"
             ],
             [
              0.2222222222222222,
              "#7201a8"
             ],
             [
              0.3333333333333333,
              "#9c179e"
             ],
             [
              0.4444444444444444,
              "#bd3786"
             ],
             [
              0.5555555555555556,
              "#d8576b"
             ],
             [
              0.6666666666666666,
              "#ed7953"
             ],
             [
              0.7777777777777778,
              "#fb9f3a"
             ],
             [
              0.8888888888888888,
              "#fdca26"
             ],
             [
              1,
              "#f0f921"
             ]
            ],
            "type": "histogram2dcontour"
           }
          ],
          "mesh3d": [
           {
            "colorbar": {
             "outlinewidth": 0,
             "ticks": ""
            },
            "type": "mesh3d"
           }
          ],
          "parcoords": [
           {
            "line": {
             "colorbar": {
              "outlinewidth": 0,
              "ticks": ""
             }
            },
            "type": "parcoords"
           }
          ],
          "pie": [
           {
            "automargin": true,
            "type": "pie"
           }
          ],
          "scatter": [
           {
            "marker": {
             "colorbar": {
              "outlinewidth": 0,
              "ticks": ""
             }
            },
            "type": "scatter"
           }
          ],
          "scatter3d": [
           {
            "line": {
             "colorbar": {
              "outlinewidth": 0,
              "ticks": ""
             }
            },
            "marker": {
             "colorbar": {
              "outlinewidth": 0,
              "ticks": ""
             }
            },
            "type": "scatter3d"
           }
          ],
          "scattercarpet": [
           {
            "marker": {
             "colorbar": {
              "outlinewidth": 0,
              "ticks": ""
             }
            },
            "type": "scattercarpet"
           }
          ],
          "scattergeo": [
           {
            "marker": {
             "colorbar": {
              "outlinewidth": 0,
              "ticks": ""
             }
            },
            "type": "scattergeo"
           }
          ],
          "scattergl": [
           {
            "marker": {
             "colorbar": {
              "outlinewidth": 0,
              "ticks": ""
             }
            },
            "type": "scattergl"
           }
          ],
          "scattermapbox": [
           {
            "marker": {
             "colorbar": {
              "outlinewidth": 0,
              "ticks": ""
             }
            },
            "type": "scattermapbox"
           }
          ],
          "scatterpolar": [
           {
            "marker": {
             "colorbar": {
              "outlinewidth": 0,
              "ticks": ""
             }
            },
            "type": "scatterpolar"
           }
          ],
          "scatterpolargl": [
           {
            "marker": {
             "colorbar": {
              "outlinewidth": 0,
              "ticks": ""
             }
            },
            "type": "scatterpolargl"
           }
          ],
          "scatterternary": [
           {
            "marker": {
             "colorbar": {
              "outlinewidth": 0,
              "ticks": ""
             }
            },
            "type": "scatterternary"
           }
          ],
          "surface": [
           {
            "colorbar": {
             "outlinewidth": 0,
             "ticks": ""
            },
            "colorscale": [
             [
              0,
              "#0d0887"
             ],
             [
              0.1111111111111111,
              "#46039f"
             ],
             [
              0.2222222222222222,
              "#7201a8"
             ],
             [
              0.3333333333333333,
              "#9c179e"
             ],
             [
              0.4444444444444444,
              "#bd3786"
             ],
             [
              0.5555555555555556,
              "#d8576b"
             ],
             [
              0.6666666666666666,
              "#ed7953"
             ],
             [
              0.7777777777777778,
              "#fb9f3a"
             ],
             [
              0.8888888888888888,
              "#fdca26"
             ],
             [
              1,
              "#f0f921"
             ]
            ],
            "type": "surface"
           }
          ],
          "table": [
           {
            "cells": {
             "fill": {
              "color": "#EBF0F8"
             },
             "line": {
              "color": "white"
             }
            },
            "header": {
             "fill": {
              "color": "#C8D4E3"
             },
             "line": {
              "color": "white"
             }
            },
            "type": "table"
           }
          ]
         },
         "layout": {
          "annotationdefaults": {
           "arrowcolor": "#2a3f5f",
           "arrowhead": 0,
           "arrowwidth": 1
          },
          "autotypenumbers": "strict",
          "coloraxis": {
           "colorbar": {
            "outlinewidth": 0,
            "ticks": ""
           }
          },
          "colorscale": {
           "diverging": [
            [
             0,
             "#8e0152"
            ],
            [
             0.1,
             "#c51b7d"
            ],
            [
             0.2,
             "#de77ae"
            ],
            [
             0.3,
             "#f1b6da"
            ],
            [
             0.4,
             "#fde0ef"
            ],
            [
             0.5,
             "#f7f7f7"
            ],
            [
             0.6,
             "#e6f5d0"
            ],
            [
             0.7,
             "#b8e186"
            ],
            [
             0.8,
             "#7fbc41"
            ],
            [
             0.9,
             "#4d9221"
            ],
            [
             1,
             "#276419"
            ]
           ],
           "sequential": [
            [
             0,
             "#0d0887"
            ],
            [
             0.1111111111111111,
             "#46039f"
            ],
            [
             0.2222222222222222,
             "#7201a8"
            ],
            [
             0.3333333333333333,
             "#9c179e"
            ],
            [
             0.4444444444444444,
             "#bd3786"
            ],
            [
             0.5555555555555556,
             "#d8576b"
            ],
            [
             0.6666666666666666,
             "#ed7953"
            ],
            [
             0.7777777777777778,
             "#fb9f3a"
            ],
            [
             0.8888888888888888,
             "#fdca26"
            ],
            [
             1,
             "#f0f921"
            ]
           ],
           "sequentialminus": [
            [
             0,
             "#0d0887"
            ],
            [
             0.1111111111111111,
             "#46039f"
            ],
            [
             0.2222222222222222,
             "#7201a8"
            ],
            [
             0.3333333333333333,
             "#9c179e"
            ],
            [
             0.4444444444444444,
             "#bd3786"
            ],
            [
             0.5555555555555556,
             "#d8576b"
            ],
            [
             0.6666666666666666,
             "#ed7953"
            ],
            [
             0.7777777777777778,
             "#fb9f3a"
            ],
            [
             0.8888888888888888,
             "#fdca26"
            ],
            [
             1,
             "#f0f921"
            ]
           ]
          },
          "colorway": [
           "#636efa",
           "#EF553B",
           "#00cc96",
           "#ab63fa",
           "#FFA15A",
           "#19d3f3",
           "#FF6692",
           "#B6E880",
           "#FF97FF",
           "#FECB52"
          ],
          "font": {
           "color": "#2a3f5f"
          },
          "geo": {
           "bgcolor": "white",
           "lakecolor": "white",
           "landcolor": "#E5ECF6",
           "showlakes": true,
           "showland": true,
           "subunitcolor": "white"
          },
          "hoverlabel": {
           "align": "left"
          },
          "hovermode": "closest",
          "mapbox": {
           "style": "light"
          },
          "paper_bgcolor": "white",
          "plot_bgcolor": "#E5ECF6",
          "polar": {
           "angularaxis": {
            "gridcolor": "white",
            "linecolor": "white",
            "ticks": ""
           },
           "bgcolor": "#E5ECF6",
           "radialaxis": {
            "gridcolor": "white",
            "linecolor": "white",
            "ticks": ""
           }
          },
          "scene": {
           "xaxis": {
            "backgroundcolor": "#E5ECF6",
            "gridcolor": "white",
            "gridwidth": 2,
            "linecolor": "white",
            "showbackground": true,
            "ticks": "",
            "zerolinecolor": "white"
           },
           "yaxis": {
            "backgroundcolor": "#E5ECF6",
            "gridcolor": "white",
            "gridwidth": 2,
            "linecolor": "white",
            "showbackground": true,
            "ticks": "",
            "zerolinecolor": "white"
           },
           "zaxis": {
            "backgroundcolor": "#E5ECF6",
            "gridcolor": "white",
            "gridwidth": 2,
            "linecolor": "white",
            "showbackground": true,
            "ticks": "",
            "zerolinecolor": "white"
           }
          },
          "shapedefaults": {
           "line": {
            "color": "#2a3f5f"
           }
          },
          "ternary": {
           "aaxis": {
            "gridcolor": "white",
            "linecolor": "white",
            "ticks": ""
           },
           "baxis": {
            "gridcolor": "white",
            "linecolor": "white",
            "ticks": ""
           },
           "bgcolor": "#E5ECF6",
           "caxis": {
            "gridcolor": "white",
            "linecolor": "white",
            "ticks": ""
           }
          },
          "title": {
           "x": 0.05
          },
          "xaxis": {
           "automargin": true,
           "gridcolor": "white",
           "linecolor": "white",
           "ticks": "",
           "title": {
            "standoff": 15
           },
           "zerolinecolor": "white",
           "zerolinewidth": 2
          },
          "yaxis": {
           "automargin": true,
           "gridcolor": "white",
           "linecolor": "white",
           "ticks": "",
           "title": {
            "standoff": 15
           },
           "zerolinecolor": "white",
           "zerolinewidth": 2
          }
         }
        },
        "title": {
         "font": {
          "family": "Montserrat",
          "size": 25
         },
         "text": "<b>Precio promedio de Imatinib en México<br>"
        }
       }
      }
     },
     "metadata": {},
     "output_type": "display_data"
    }
   ],
   "source": [
    "#Tabla usando plotly\n",
    "fig = go.Figure(data=[go.Table(\n",
    "    header=dict(values=[\"<b>Producto</b>\",\n",
    "                        #Fecha de hoy\n",
    "                        \"<b>\"+today+\"</b>\"\n",
    "                          ],\n",
    "                fill_color='#9d2449',\n",
    "                align='center',\n",
    "                font_color='white',\n",
    "                font_family=\"Montserrat\",\n",
    "                font_size=20),\n",
    "cells=dict(values=[precio_prom[\"prod_c\"], precio_prom[\"precio\"].apply(lambda x: \"{:,.2f}\".format(x))],\n",
    "               fill_color='white',\n",
    "               align='center',\n",
    "           font_family=\"Montserrat\",\n",
    "           font_size=18,\n",
    "           height=30,\n",
    "           line_color='black',\n",
    "           \n",
    "           ))\n",
    "])\n",
    "\n",
    "#Título\n",
    "fig.update_layout(\n",
    "    showlegend=False,\n",
    "    title_text=\"<b>Precio promedio de Imatinib en México<br>\",\n",
    "    title_font_family=\"Montserrat\",\n",
    "    title_font_size=25\n",
    ")\n",
    "\n",
    "#Fuente\n",
    "fig.add_annotation(text=\"Secretaría de Economía. Dirección General de Competitividad y Competencia con información de Farmalisto México, <br> Farmacias Especializadas, Farmacias San Pablo, Farmacias Especializadas, Farmacon, Farmacias Benavides y Farmacias Guadalajara.\",\n",
    "                  x=0, y=-0.09, showarrow=False,\n",
    "                   font_family=\"Century Gothic\")"
   ]
  },
  {
   "cell_type": "code",
   "execution_count": 21,
   "metadata": {},
   "outputs": [],
   "source": [
    "#Salvar la tabla como PNG con la fecha de hoy\n",
    "pio.write_image(fig, \"imatinib/imatinib_\"+today_save+\".png\", width=1000, height=450,scale=1)"
   ]
  },
  {
   "cell_type": "code",
   "execution_count": 22,
   "metadata": {},
   "outputs": [],
   "source": [
    "#salvar la tabla como csv\n",
    "precio_prom.to_csv(\"imatinib/imatinib_\"+today_save+\".csv\", index=False)"
   ]
  }
 ],
 "metadata": {
  "kernelspec": {
   "display_name": "base",
   "language": "python",
   "name": "python3"
  },
  "language_info": {
   "codemirror_mode": {
    "name": "ipython",
    "version": 3
   },
   "file_extension": ".py",
   "mimetype": "text/x-python",
   "name": "python",
   "nbconvert_exporter": "python",
   "pygments_lexer": "ipython3",
   "version": "3.9.13"
  },
  "orig_nbformat": 4
 },
 "nbformat": 4,
 "nbformat_minor": 2
}
